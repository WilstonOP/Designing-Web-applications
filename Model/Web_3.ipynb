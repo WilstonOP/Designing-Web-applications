{
 "cells": [
  {
   "cell_type": "code",
   "execution_count": 1,
   "metadata": {},
   "outputs": [],
   "source": [
    "import matplotlib.pyplot as plt\n",
    "import numpy as np\n",
    "import pandas as pd\n",
    "import seaborn as sns"
   ]
  },
  {
   "cell_type": "code",
   "execution_count": 2,
   "metadata": {},
   "outputs": [
    {
     "data": {
      "text/html": [
       "<div>\n",
       "<style scoped>\n",
       "    .dataframe tbody tr th:only-of-type {\n",
       "        vertical-align: middle;\n",
       "    }\n",
       "\n",
       "    .dataframe tbody tr th {\n",
       "        vertical-align: top;\n",
       "    }\n",
       "\n",
       "    .dataframe thead th {\n",
       "        text-align: right;\n",
       "    }\n",
       "</style>\n",
       "<table border=\"1\" class=\"dataframe\">\n",
       "  <thead>\n",
       "    <tr style=\"text-align: right;\">\n",
       "      <th></th>\n",
       "      <th>price</th>\n",
       "      <th>date</th>\n",
       "      <th>time</th>\n",
       "      <th>geo_lat</th>\n",
       "      <th>geo_lon</th>\n",
       "      <th>region</th>\n",
       "      <th>building_type</th>\n",
       "      <th>level</th>\n",
       "      <th>levels</th>\n",
       "      <th>rooms</th>\n",
       "      <th>area</th>\n",
       "      <th>kitchen_area</th>\n",
       "      <th>object_type</th>\n",
       "    </tr>\n",
       "  </thead>\n",
       "  <tbody>\n",
       "    <tr>\n",
       "      <th>0</th>\n",
       "      <td>6050000</td>\n",
       "      <td>2018-02-19</td>\n",
       "      <td>20:00:21</td>\n",
       "      <td>59.805808</td>\n",
       "      <td>30.376141</td>\n",
       "      <td>2661</td>\n",
       "      <td>1</td>\n",
       "      <td>8</td>\n",
       "      <td>10</td>\n",
       "      <td>3</td>\n",
       "      <td>82.6</td>\n",
       "      <td>10.8</td>\n",
       "      <td>1</td>\n",
       "    </tr>\n",
       "    <tr>\n",
       "      <th>1</th>\n",
       "      <td>8650000</td>\n",
       "      <td>2018-02-27</td>\n",
       "      <td>12:04:54</td>\n",
       "      <td>55.683807</td>\n",
       "      <td>37.297405</td>\n",
       "      <td>81</td>\n",
       "      <td>3</td>\n",
       "      <td>5</td>\n",
       "      <td>24</td>\n",
       "      <td>2</td>\n",
       "      <td>69.1</td>\n",
       "      <td>12.0</td>\n",
       "      <td>1</td>\n",
       "    </tr>\n",
       "    <tr>\n",
       "      <th>2</th>\n",
       "      <td>4000000</td>\n",
       "      <td>2018-02-28</td>\n",
       "      <td>15:44:00</td>\n",
       "      <td>56.295250</td>\n",
       "      <td>44.061637</td>\n",
       "      <td>2871</td>\n",
       "      <td>1</td>\n",
       "      <td>5</td>\n",
       "      <td>9</td>\n",
       "      <td>3</td>\n",
       "      <td>66.0</td>\n",
       "      <td>10.0</td>\n",
       "      <td>1</td>\n",
       "    </tr>\n",
       "    <tr>\n",
       "      <th>3</th>\n",
       "      <td>1850000</td>\n",
       "      <td>2018-03-01</td>\n",
       "      <td>11:24:52</td>\n",
       "      <td>44.996132</td>\n",
       "      <td>39.074783</td>\n",
       "      <td>2843</td>\n",
       "      <td>4</td>\n",
       "      <td>12</td>\n",
       "      <td>16</td>\n",
       "      <td>2</td>\n",
       "      <td>38.0</td>\n",
       "      <td>5.0</td>\n",
       "      <td>11</td>\n",
       "    </tr>\n",
       "    <tr>\n",
       "      <th>4</th>\n",
       "      <td>5450000</td>\n",
       "      <td>2018-03-01</td>\n",
       "      <td>17:42:43</td>\n",
       "      <td>55.918767</td>\n",
       "      <td>37.984642</td>\n",
       "      <td>81</td>\n",
       "      <td>3</td>\n",
       "      <td>13</td>\n",
       "      <td>14</td>\n",
       "      <td>2</td>\n",
       "      <td>60.0</td>\n",
       "      <td>10.0</td>\n",
       "      <td>1</td>\n",
       "    </tr>\n",
       "  </tbody>\n",
       "</table>\n",
       "</div>"
      ],
      "text/plain": [
       "     price        date      time    geo_lat    geo_lon  region  building_type  \\\n",
       "0  6050000  2018-02-19  20:00:21  59.805808  30.376141    2661              1   \n",
       "1  8650000  2018-02-27  12:04:54  55.683807  37.297405      81              3   \n",
       "2  4000000  2018-02-28  15:44:00  56.295250  44.061637    2871              1   \n",
       "3  1850000  2018-03-01  11:24:52  44.996132  39.074783    2843              4   \n",
       "4  5450000  2018-03-01  17:42:43  55.918767  37.984642      81              3   \n",
       "\n",
       "   level  levels  rooms  area  kitchen_area  object_type  \n",
       "0      8      10      3  82.6          10.8            1  \n",
       "1      5      24      2  69.1          12.0            1  \n",
       "2      5       9      3  66.0          10.0            1  \n",
       "3     12      16      2  38.0           5.0           11  \n",
       "4     13      14      2  60.0          10.0            1  "
      ]
     },
     "execution_count": 2,
     "metadata": {},
     "output_type": "execute_result"
    }
   ],
   "source": [
    "df0 = pd.read_csv(r'all_v2.csv')\n",
    "\n",
    "df0.head()"
   ]
  },
  {
   "cell_type": "code",
   "execution_count": 3,
   "metadata": {},
   "outputs": [
    {
     "data": {
      "text/html": [
       "<div>\n",
       "<style scoped>\n",
       "    .dataframe tbody tr th:only-of-type {\n",
       "        vertical-align: middle;\n",
       "    }\n",
       "\n",
       "    .dataframe tbody tr th {\n",
       "        vertical-align: top;\n",
       "    }\n",
       "\n",
       "    .dataframe thead th {\n",
       "        text-align: right;\n",
       "    }\n",
       "</style>\n",
       "<table border=\"1\" class=\"dataframe\">\n",
       "  <thead>\n",
       "    <tr style=\"text-align: right;\">\n",
       "      <th></th>\n",
       "      <th>price</th>\n",
       "      <th>geo_lat</th>\n",
       "      <th>geo_lon</th>\n",
       "      <th>region</th>\n",
       "      <th>building_type</th>\n",
       "      <th>level</th>\n",
       "      <th>levels</th>\n",
       "      <th>rooms</th>\n",
       "      <th>area</th>\n",
       "      <th>kitchen_area</th>\n",
       "      <th>object_type</th>\n",
       "    </tr>\n",
       "  </thead>\n",
       "  <tbody>\n",
       "    <tr>\n",
       "      <th>count</th>\n",
       "      <td>5477006.000</td>\n",
       "      <td>5477006.000</td>\n",
       "      <td>5477006.000</td>\n",
       "      <td>5477006.000</td>\n",
       "      <td>5477006.000</td>\n",
       "      <td>5477006.000</td>\n",
       "      <td>5477006.000</td>\n",
       "      <td>5477006.000</td>\n",
       "      <td>5477006.000</td>\n",
       "      <td>5477006.000</td>\n",
       "      <td>5477006.000</td>\n",
       "    </tr>\n",
       "    <tr>\n",
       "      <th>mean</th>\n",
       "      <td>4422029.023</td>\n",
       "      <td>54.038</td>\n",
       "      <td>53.244</td>\n",
       "      <td>4307.141</td>\n",
       "      <td>1.949</td>\n",
       "      <td>6.215</td>\n",
       "      <td>11.399</td>\n",
       "      <td>1.726</td>\n",
       "      <td>53.918</td>\n",
       "      <td>10.628</td>\n",
       "      <td>3.945</td>\n",
       "    </tr>\n",
       "    <tr>\n",
       "      <th>std</th>\n",
       "      <td>21507519.155</td>\n",
       "      <td>4.623</td>\n",
       "      <td>20.748</td>\n",
       "      <td>3308.050</td>\n",
       "      <td>1.039</td>\n",
       "      <td>4.957</td>\n",
       "      <td>6.536</td>\n",
       "      <td>1.082</td>\n",
       "      <td>33.353</td>\n",
       "      <td>9.792</td>\n",
       "      <td>4.558</td>\n",
       "    </tr>\n",
       "    <tr>\n",
       "      <th>min</th>\n",
       "      <td>-2144967296.000</td>\n",
       "      <td>41.459</td>\n",
       "      <td>19.890</td>\n",
       "      <td>3.000</td>\n",
       "      <td>0.000</td>\n",
       "      <td>1.000</td>\n",
       "      <td>1.000</td>\n",
       "      <td>-2.000</td>\n",
       "      <td>0.070</td>\n",
       "      <td>0.010</td>\n",
       "      <td>1.000</td>\n",
       "    </tr>\n",
       "    <tr>\n",
       "      <th>25%</th>\n",
       "      <td>1950000.000</td>\n",
       "      <td>53.378</td>\n",
       "      <td>37.778</td>\n",
       "      <td>2661.000</td>\n",
       "      <td>1.000</td>\n",
       "      <td>2.000</td>\n",
       "      <td>5.000</td>\n",
       "      <td>1.000</td>\n",
       "      <td>38.000</td>\n",
       "      <td>7.000</td>\n",
       "      <td>1.000</td>\n",
       "    </tr>\n",
       "    <tr>\n",
       "      <th>50%</th>\n",
       "      <td>2990000.000</td>\n",
       "      <td>55.171</td>\n",
       "      <td>43.068</td>\n",
       "      <td>2922.000</td>\n",
       "      <td>2.000</td>\n",
       "      <td>5.000</td>\n",
       "      <td>10.000</td>\n",
       "      <td>2.000</td>\n",
       "      <td>48.020</td>\n",
       "      <td>9.700</td>\n",
       "      <td>1.000</td>\n",
       "    </tr>\n",
       "    <tr>\n",
       "      <th>75%</th>\n",
       "      <td>4802000.000</td>\n",
       "      <td>56.226</td>\n",
       "      <td>65.649</td>\n",
       "      <td>6171.000</td>\n",
       "      <td>3.000</td>\n",
       "      <td>9.000</td>\n",
       "      <td>16.000</td>\n",
       "      <td>2.000</td>\n",
       "      <td>63.130</td>\n",
       "      <td>12.700</td>\n",
       "      <td>11.000</td>\n",
       "    </tr>\n",
       "    <tr>\n",
       "      <th>max</th>\n",
       "      <td>2147483647.000</td>\n",
       "      <td>71.980</td>\n",
       "      <td>162.536</td>\n",
       "      <td>61888.000</td>\n",
       "      <td>5.000</td>\n",
       "      <td>39.000</td>\n",
       "      <td>39.000</td>\n",
       "      <td>10.000</td>\n",
       "      <td>7856.000</td>\n",
       "      <td>9999.000</td>\n",
       "      <td>11.000</td>\n",
       "    </tr>\n",
       "  </tbody>\n",
       "</table>\n",
       "</div>"
      ],
      "text/plain": [
       "                price     geo_lat     geo_lon      region  building_type  \\\n",
       "count     5477006.000 5477006.000 5477006.000 5477006.000    5477006.000   \n",
       "mean      4422029.023      54.038      53.244    4307.141          1.949   \n",
       "std      21507519.155       4.623      20.748    3308.050          1.039   \n",
       "min   -2144967296.000      41.459      19.890       3.000          0.000   \n",
       "25%       1950000.000      53.378      37.778    2661.000          1.000   \n",
       "50%       2990000.000      55.171      43.068    2922.000          2.000   \n",
       "75%       4802000.000      56.226      65.649    6171.000          3.000   \n",
       "max    2147483647.000      71.980     162.536   61888.000          5.000   \n",
       "\n",
       "            level      levels       rooms        area  kitchen_area  \\\n",
       "count 5477006.000 5477006.000 5477006.000 5477006.000   5477006.000   \n",
       "mean        6.215      11.399       1.726      53.918        10.628   \n",
       "std         4.957       6.536       1.082      33.353         9.792   \n",
       "min         1.000       1.000      -2.000       0.070         0.010   \n",
       "25%         2.000       5.000       1.000      38.000         7.000   \n",
       "50%         5.000      10.000       2.000      48.020         9.700   \n",
       "75%         9.000      16.000       2.000      63.130        12.700   \n",
       "max        39.000      39.000      10.000    7856.000      9999.000   \n",
       "\n",
       "       object_type  \n",
       "count  5477006.000  \n",
       "mean         3.945  \n",
       "std          4.558  \n",
       "min          1.000  \n",
       "25%          1.000  \n",
       "50%          1.000  \n",
       "75%         11.000  \n",
       "max         11.000  "
      ]
     },
     "execution_count": 3,
     "metadata": {},
     "output_type": "execute_result"
    }
   ],
   "source": [
    "pd.set_option('display.float_format', lambda x: '%.3f' % x) #чтобы были читаемы вещественные числа\n",
    "df0.describe()"
   ]
  },
  {
   "cell_type": "code",
   "execution_count": 4,
   "metadata": {},
   "outputs": [],
   "source": [
    "df = df0.drop_duplicates()"
   ]
  },
  {
   "cell_type": "code",
   "execution_count": 5,
   "metadata": {},
   "outputs": [
    {
     "name": "stderr",
     "output_type": "stream",
     "text": [
      "C:\\Users\\Andrew\\AppData\\Local\\Temp\\ipykernel_27760\\3890565903.py:1: SettingWithCopyWarning: \n",
      "A value is trying to be set on a copy of a slice from a DataFrame\n",
      "\n",
      "See the caveats in the documentation: https://pandas.pydata.org/pandas-docs/stable/user_guide/indexing.html#returning-a-view-versus-a-copy\n",
      "  df.drop('time', axis=1, inplace=True)\n",
      "C:\\Users\\Andrew\\AppData\\Local\\Temp\\ipykernel_27760\\3890565903.py:2: SettingWithCopyWarning: \n",
      "A value is trying to be set on a copy of a slice from a DataFrame.\n",
      "Try using .loc[row_indexer,col_indexer] = value instead\n",
      "\n",
      "See the caveats in the documentation: https://pandas.pydata.org/pandas-docs/stable/user_guide/indexing.html#returning-a-view-versus-a-copy\n",
      "  df[\"object_type\"] = df[\"object_type\"].apply(lambda x: 2 if x == 11 else x)\n",
      "C:\\Users\\Andrew\\AppData\\Local\\Temp\\ipykernel_27760\\3890565903.py:3: SettingWithCopyWarning: \n",
      "A value is trying to be set on a copy of a slice from a DataFrame.\n",
      "Try using .loc[row_indexer,col_indexer] = value instead\n",
      "\n",
      "See the caveats in the documentation: https://pandas.pydata.org/pandas-docs/stable/user_guide/indexing.html#returning-a-view-versus-a-copy\n",
      "  df['rooms'] = df[\"rooms\"].apply(lambda x: 0 if x < 0 else x)\n",
      "C:\\Users\\Andrew\\AppData\\Local\\Temp\\ipykernel_27760\\3890565903.py:4: SettingWithCopyWarning: \n",
      "A value is trying to be set on a copy of a slice from a DataFrame.\n",
      "Try using .loc[row_indexer,col_indexer] = value instead\n",
      "\n",
      "See the caveats in the documentation: https://pandas.pydata.org/pandas-docs/stable/user_guide/indexing.html#returning-a-view-versus-a-copy\n",
      "  df[\"price\"] = df[\"price\"].abs()\n"
     ]
    }
   ],
   "source": [
    "df.drop('time', axis=1, inplace=True)\n",
    "df[\"object_type\"] = df[\"object_type\"].apply(lambda x: 2 if x == 11 else x)\n",
    "df['rooms'] = df[\"rooms\"].apply(lambda x: 0 if x < 0 else x)    \n",
    "df[\"price\"] = df[\"price\"].abs()\n",
    "\n",
    "min_price = 800000\n",
    "max_price = 50000000\n",
    "\n",
    "df = df[(df[\"price\"] <= max_price) & (df[\"price\"] >= min_price)]\n",
    "\n",
    "df.loc[df[\"level\"] > df[\"levels\"], \"level\"] = df[\"levels\"]\n",
    "\n",
    "df['level_to_levels'] = df['level'] / df['levels']\n",
    "\n",
    "df['date'] = pd.to_datetime(df['date'])\n",
    "\n",
    "df['year'] = df['date'].dt.year\n",
    "df['month'] = df['date'].dt.month\n",
    "#df['day'] = df['date'].dt.day\n",
    "\n",
    "df = df.drop(['date'], axis = 1)\n",
    "\n",
    "min_area = 10\n",
    "max_area = 150\n",
    "\n",
    "min_kitchen_area = 6\n",
    "max_kitchen_area = 40\n",
    "\n",
    "df = df[(df[\"area\"] <= max_area) & (df[\"area\"] >= min_area)]\n",
    "df = df[(df[\"kitchen_area\"] <= max_kitchen_area) & (df[\"kitchen_area\"] >= min_kitchen_area)]\n",
    "df['rooms'] = df['rooms'].replace(0, 1)\n",
    "\n",
    "df['area_to_rooms'] = (df['area'] / df['rooms'])"
   ]
  },
  {
   "cell_type": "code",
   "execution_count": 90,
   "metadata": {},
   "outputs": [
    {
     "data": {
      "image/png": "[encoded data removed]",
      "text/plain": [
       "<Figure size 1500x1000 with 2 Axes>"
      ]
     },
     "metadata": {},
     "output_type": "display_data"
    }
   ],
   "source": [
    "plt.figure(figsize=(15, 10))\n",
    "sns.heatmap(df.corr(), center=0, cmap='mako', annot=True)\n",
    "plt.title('Correlation Matrix')\n",
    "plt.show()"
   ]
  },
  {
   "cell_type": "code",
   "execution_count": 6,
   "metadata": {},
   "outputs": [],
   "source": [
    "region_name = {\n",
    "    '2661': 'Санкт-Петербург',\n",
    "    '3446': 'Ленинградская область', \n",
    "    '3': 'Москва',\n",
    "    '81': 'Московская область',\n",
    "    '2843': 'Краснодарский край',\n",
    "    '2871': 'Нижегородская область',\n",
    "    '3230': 'Ростовская область',\n",
    "    '3106': 'Самарская область',\n",
    "    '2922': 'Республика Татарстан',\n",
    "    '2900': 'Ставропольский край',\n",
    "    '2722': 'Республика Башкортостан',\n",
    "    '6171': 'Свердловская область', \n",
    "    '4417': 'Республика Коми', \n",
    "    '5282': 'Челябинская область', \n",
    "    '5368': 'Иркутская область', \n",
    "    '5520': 'Пермский край', \n",
    "    '6817': 'Алтайский край',\n",
    "    '9579': 'Республика Бурятия',\n",
    "    '2604': 'Ярославская область',\n",
    "    '1010': 'Удмуртская Республика',\n",
    "    '7793': 'Псковская область',\n",
    "    '13919': 'Республика Северная Осетия — Алания',\n",
    "    '2860': 'Кемеровская область',\n",
    "    '3019': 'Чувашская Республика',\n",
    "    '4982': 'Республика Марий Эл',\n",
    "    '9648': 'Кабардино-Балкарская Республика',\n",
    "    '5241': 'Республика Мордовия',\n",
    "    '3870': 'Красноярский край',\n",
    "    '3991': 'Тюменская область',\n",
    "    '2359': 'Республика Хакасия',\n",
    "    '9654': 'Новосибирская область',\n",
    "    '2072': 'Воронежская область',\n",
    "    '8090': 'Республика Карелия',\n",
    "    '4007': 'Республика Дагестан',\n",
    "    '11171': 'Республика Саха (Якутия)',\n",
    "    '10160': 'Забайкальский край',\n",
    "    '7873, 6937': 'Республика Крым',\n",
    "    '2594': 'Кировская область',\n",
    "    '8509': 'Республика Калмыкия',\n",
    "    '11416': 'Республика Адыгея',\n",
    "    '11991': 'Карачаево-Черкесская Республика',\n",
    "    '5178': 'Республика Тыва',\n",
    "    '13913': 'Республика Ингушетия',\n",
    "    '6309': 'Республика Алтай',\n",
    "    '5952': 'Белгородская область',\n",
    "    '6543': 'Архангельская область',\n",
    "    '2880': 'Тверская область',\n",
    "    '5993': 'Пензенская область',\n",
    "    '2484': 'Ханты-Мансийский автономный округ',\n",
    "    '4240': 'Липецкая область',\n",
    "    '5789': 'Владимирская область',\n",
    "    '14880': 'Ямало-Ненецкий автономный округ',\n",
    "    '1491': 'Рязанская область',\n",
    "    '2885': 'Чеченская Республика',\n",
    "    '5794': 'Смоленская область',\n",
    "    '2528': 'Саратовская область',\n",
    "    '4374': 'Вологодская область',\n",
    "    '4695': 'Волгоградская область',\n",
    "    '2328': 'Калужская область',\n",
    "    '5143': 'Тульская область',\n",
    "    '2806': 'Тамбовская область',\n",
    "    '14368': 'Мурманская область',\n",
    "    '5736': 'Новгородская область',\n",
    "    '7121': 'Курская область',\n",
    "    '4086': 'Хабаровский край',\n",
    "    '821': 'Брянская область',\n",
    "    '10582': 'Астраханская область',\n",
    "    '7896': 'Калининградская область',\n",
    "    '8640': 'Омская область',\n",
    "    '5703': 'Курганская область',\n",
    "    '10201': 'Томская область',\n",
    "    '4249': 'Ульяновская область',\n",
    "    '3153': 'Оренбургская область',\n",
    "    '4189': 'Костромская область',\n",
    "    '2814': 'Орловская область',\n",
    "    '13098': 'Камчатский край',\n",
    "    '8894': 'Ивановская область',\n",
    "    '7929': 'Амурская область',\n",
    "    '16705': 'Магаданская область',\n",
    "    '69': 'Еврейская автономная область',\n",
    "    '4963': 'Приморский край',\n",
    "    '1901': 'Сахалинская область',\n",
    "    '61888': 'Ненецкий автономный округ'\n",
    "}"
   ]
  },
  {
   "cell_type": "code",
   "execution_count": 7,
   "metadata": {},
   "outputs": [
    {
     "data": {
      "text/plain": [
       "0                Санкт-Петербург\n",
       "1             Московская область\n",
       "2          Нижегородская область\n",
       "4             Московская область\n",
       "5             Московская область\n",
       "                   ...          \n",
       "5477001                   Москва\n",
       "5477002                   Москва\n",
       "5477003    Нижегородская область\n",
       "5477004                   Москва\n",
       "5477005                   Москва\n",
       "Name: region_name, Length: 4771071, dtype: object"
      ]
     },
     "execution_count": 7,
     "metadata": {},
     "output_type": "execute_result"
    }
   ],
   "source": [
    "df[\"region\"] = df[\"region\"].astype(str) # преобразуем в строку все значения\n",
    "\n",
    "df['region_name'] = df['region'].map(region_name) \n",
    "\n",
    "df['region_name']"
   ]
  },
  {
   "cell_type": "code",
   "execution_count": 8,
   "metadata": {},
   "outputs": [],
   "source": [
    "import xgboost as xgb\n",
    "from sklearn.metrics import r2_score\n",
    "from sklearn.model_selection import train_test_split\n",
    "from sklearn.preprocessing import StandardScaler"
   ]
  },
  {
   "cell_type": "code",
   "execution_count": 9,
   "metadata": {},
   "outputs": [
    {
     "data": {
      "text/html": [
       "<div>\n",
       "<style scoped>\n",
       "    .dataframe tbody tr th:only-of-type {\n",
       "        vertical-align: middle;\n",
       "    }\n",
       "\n",
       "    .dataframe tbody tr th {\n",
       "        vertical-align: top;\n",
       "    }\n",
       "\n",
       "    .dataframe thead th {\n",
       "        text-align: right;\n",
       "    }\n",
       "</style>\n",
       "<table border=\"1\" class=\"dataframe\">\n",
       "  <thead>\n",
       "    <tr style=\"text-align: right;\">\n",
       "      <th></th>\n",
       "      <th>price</th>\n",
       "      <th>geo_lat</th>\n",
       "      <th>geo_lon</th>\n",
       "      <th>building_type</th>\n",
       "      <th>level</th>\n",
       "      <th>levels</th>\n",
       "      <th>rooms</th>\n",
       "      <th>area</th>\n",
       "      <th>kitchen_area</th>\n",
       "      <th>object_type</th>\n",
       "      <th>level_to_levels</th>\n",
       "      <th>year</th>\n",
       "      <th>month</th>\n",
       "      <th>area_to_rooms</th>\n",
       "    </tr>\n",
       "  </thead>\n",
       "  <tbody>\n",
       "    <tr>\n",
       "      <th>0</th>\n",
       "      <td>4704280</td>\n",
       "      <td>55.621</td>\n",
       "      <td>37.431</td>\n",
       "      <td>2</td>\n",
       "      <td>1</td>\n",
       "      <td>25</td>\n",
       "      <td>1</td>\n",
       "      <td>31.700</td>\n",
       "      <td>6.000</td>\n",
       "      <td>2</td>\n",
       "      <td>0.040</td>\n",
       "      <td>2018</td>\n",
       "      <td>3</td>\n",
       "      <td>31.700</td>\n",
       "    </tr>\n",
       "    <tr>\n",
       "      <th>1</th>\n",
       "      <td>8000000</td>\n",
       "      <td>55.739</td>\n",
       "      <td>37.825</td>\n",
       "      <td>1</td>\n",
       "      <td>5</td>\n",
       "      <td>9</td>\n",
       "      <td>2</td>\n",
       "      <td>45.000</td>\n",
       "      <td>6.000</td>\n",
       "      <td>1</td>\n",
       "      <td>0.556</td>\n",
       "      <td>2018</td>\n",
       "      <td>3</td>\n",
       "      <td>22.500</td>\n",
       "    </tr>\n",
       "    <tr>\n",
       "      <th>2</th>\n",
       "      <td>11500000</td>\n",
       "      <td>55.799</td>\n",
       "      <td>37.738</td>\n",
       "      <td>1</td>\n",
       "      <td>14</td>\n",
       "      <td>16</td>\n",
       "      <td>3</td>\n",
       "      <td>64.900</td>\n",
       "      <td>8.000</td>\n",
       "      <td>1</td>\n",
       "      <td>0.875</td>\n",
       "      <td>2018</td>\n",
       "      <td>4</td>\n",
       "      <td>21.633</td>\n",
       "    </tr>\n",
       "    <tr>\n",
       "      <th>3</th>\n",
       "      <td>10200000</td>\n",
       "      <td>55.655</td>\n",
       "      <td>37.615</td>\n",
       "      <td>2</td>\n",
       "      <td>7</td>\n",
       "      <td>14</td>\n",
       "      <td>2</td>\n",
       "      <td>52.800</td>\n",
       "      <td>10.000</td>\n",
       "      <td>1</td>\n",
       "      <td>0.500</td>\n",
       "      <td>2018</td>\n",
       "      <td>4</td>\n",
       "      <td>26.400</td>\n",
       "    </tr>\n",
       "    <tr>\n",
       "      <th>4</th>\n",
       "      <td>11500000</td>\n",
       "      <td>55.701</td>\n",
       "      <td>37.507</td>\n",
       "      <td>1</td>\n",
       "      <td>14</td>\n",
       "      <td>17</td>\n",
       "      <td>1</td>\n",
       "      <td>42.000</td>\n",
       "      <td>12.000</td>\n",
       "      <td>1</td>\n",
       "      <td>0.824</td>\n",
       "      <td>2018</td>\n",
       "      <td>4</td>\n",
       "      <td>42.000</td>\n",
       "    </tr>\n",
       "    <tr>\n",
       "      <th>5</th>\n",
       "      <td>20900000</td>\n",
       "      <td>55.731</td>\n",
       "      <td>37.631</td>\n",
       "      <td>3</td>\n",
       "      <td>6</td>\n",
       "      <td>10</td>\n",
       "      <td>3</td>\n",
       "      <td>80.000</td>\n",
       "      <td>8.200</td>\n",
       "      <td>1</td>\n",
       "      <td>0.600</td>\n",
       "      <td>2018</td>\n",
       "      <td>5</td>\n",
       "      <td>26.667</td>\n",
       "    </tr>\n",
       "    <tr>\n",
       "      <th>6</th>\n",
       "      <td>12000000</td>\n",
       "      <td>55.627</td>\n",
       "      <td>37.592</td>\n",
       "      <td>1</td>\n",
       "      <td>4</td>\n",
       "      <td>9</td>\n",
       "      <td>3</td>\n",
       "      <td>64.900</td>\n",
       "      <td>7.000</td>\n",
       "      <td>1</td>\n",
       "      <td>0.444</td>\n",
       "      <td>2018</td>\n",
       "      <td>5</td>\n",
       "      <td>21.633</td>\n",
       "    </tr>\n",
       "    <tr>\n",
       "      <th>7</th>\n",
       "      <td>5750000</td>\n",
       "      <td>55.704</td>\n",
       "      <td>37.767</td>\n",
       "      <td>1</td>\n",
       "      <td>8</td>\n",
       "      <td>9</td>\n",
       "      <td>1</td>\n",
       "      <td>32.000</td>\n",
       "      <td>6.000</td>\n",
       "      <td>1</td>\n",
       "      <td>0.889</td>\n",
       "      <td>2018</td>\n",
       "      <td>6</td>\n",
       "      <td>32.000</td>\n",
       "    </tr>\n",
       "    <tr>\n",
       "      <th>8</th>\n",
       "      <td>11535000</td>\n",
       "      <td>55.724</td>\n",
       "      <td>37.741</td>\n",
       "      <td>1</td>\n",
       "      <td>15</td>\n",
       "      <td>24</td>\n",
       "      <td>3</td>\n",
       "      <td>80.900</td>\n",
       "      <td>14.000</td>\n",
       "      <td>1</td>\n",
       "      <td>0.625</td>\n",
       "      <td>2018</td>\n",
       "      <td>6</td>\n",
       "      <td>26.967</td>\n",
       "    </tr>\n",
       "    <tr>\n",
       "      <th>9</th>\n",
       "      <td>6990000</td>\n",
       "      <td>55.724</td>\n",
       "      <td>37.435</td>\n",
       "      <td>3</td>\n",
       "      <td>1</td>\n",
       "      <td>5</td>\n",
       "      <td>2</td>\n",
       "      <td>44.000</td>\n",
       "      <td>6.000</td>\n",
       "      <td>1</td>\n",
       "      <td>0.200</td>\n",
       "      <td>2018</td>\n",
       "      <td>7</td>\n",
       "      <td>22.000</td>\n",
       "    </tr>\n",
       "  </tbody>\n",
       "</table>\n",
       "</div>"
      ],
      "text/plain": [
       "      price  geo_lat  geo_lon  building_type  level  levels  rooms   area  \\\n",
       "0   4704280   55.621   37.431              2      1      25      1 31.700   \n",
       "1   8000000   55.739   37.825              1      5       9      2 45.000   \n",
       "2  11500000   55.799   37.738              1     14      16      3 64.900   \n",
       "3  10200000   55.655   37.615              2      7      14      2 52.800   \n",
       "4  11500000   55.701   37.507              1     14      17      1 42.000   \n",
       "5  20900000   55.731   37.631              3      6      10      3 80.000   \n",
       "6  12000000   55.627   37.592              1      4       9      3 64.900   \n",
       "7   5750000   55.704   37.767              1      8       9      1 32.000   \n",
       "8  11535000   55.724   37.741              1     15      24      3 80.900   \n",
       "9   6990000   55.724   37.435              3      1       5      2 44.000   \n",
       "\n",
       "   kitchen_area  object_type  level_to_levels  year  month  area_to_rooms  \n",
       "0         6.000            2            0.040  2018      3         31.700  \n",
       "1         6.000            1            0.556  2018      3         22.500  \n",
       "2         8.000            1            0.875  2018      4         21.633  \n",
       "3        10.000            1            0.500  2018      4         26.400  \n",
       "4        12.000            1            0.824  2018      4         42.000  \n",
       "5         8.200            1            0.600  2018      5         26.667  \n",
       "6         7.000            1            0.444  2018      5         21.633  \n",
       "7         6.000            1            0.889  2018      6         32.000  \n",
       "8        14.000            1            0.625  2018      6         26.967  \n",
       "9         6.000            1            0.200  2018      7         22.000  "
      ]
     },
     "execution_count": 9,
     "metadata": {},
     "output_type": "execute_result"
    }
   ],
   "source": [
    "df_nn = df[df.region_name == 'Москва'].copy()\n",
    "df_nn = df_nn.drop(columns=['region', 'region_name']).reset_index(drop=True)\n",
    "#df_nn['area_to_rooms'] = df_nn['area_to_rooms'].apply(lambda x: f'{x:.4}')\n",
    "df_nn['level_to_levels'] = df_nn['level_to_levels'].apply(lambda x: f'{x:.7}').astype(float)\n",
    "\n",
    "df_nn.head(10)"
   ]
  },
  {
   "cell_type": "code",
   "execution_count": 10,
   "metadata": {},
   "outputs": [
    {
     "data": {
      "text/plain": [
       "0        0.040\n",
       "1        0.556\n",
       "2        0.875\n",
       "3        0.500\n",
       "4        0.824\n",
       "          ... \n",
       "382772   0.500\n",
       "382773   0.471\n",
       "382774   0.531\n",
       "382775   0.242\n",
       "382776   0.435\n",
       "Name: level_to_levels, Length: 382777, dtype: float64"
      ]
     },
     "execution_count": 10,
     "metadata": {},
     "output_type": "execute_result"
    }
   ],
   "source": [
    "df_nn.replace([np.inf, -np.inf], np.nan, inplace=True)\n",
    "\n",
    "df_nn.dropna(subset=['level_to_levels'], how=\"all\", inplace=True)\n",
    "df_nn['level_to_levels']"
   ]
  },
  {
   "cell_type": "code",
   "execution_count": 35,
   "metadata": {},
   "outputs": [
    {
     "data": {
      "text/html": [
       "<div>\n",
       "<style scoped>\n",
       "    .dataframe tbody tr th:only-of-type {\n",
       "        vertical-align: middle;\n",
       "    }\n",
       "\n",
       "    .dataframe tbody tr th {\n",
       "        vertical-align: top;\n",
       "    }\n",
       "\n",
       "    .dataframe thead th {\n",
       "        text-align: right;\n",
       "    }\n",
       "</style>\n",
       "<table border=\"1\" class=\"dataframe\">\n",
       "  <thead>\n",
       "    <tr style=\"text-align: right;\">\n",
       "      <th></th>\n",
       "      <th>geo_lat</th>\n",
       "      <th>geo_lon</th>\n",
       "      <th>building_type</th>\n",
       "      <th>level</th>\n",
       "      <th>levels</th>\n",
       "      <th>rooms</th>\n",
       "      <th>area</th>\n",
       "      <th>kitchen_area</th>\n",
       "      <th>object_type</th>\n",
       "      <th>level_to_levels</th>\n",
       "      <th>year</th>\n",
       "      <th>month</th>\n",
       "      <th>area_to_rooms</th>\n",
       "    </tr>\n",
       "  </thead>\n",
       "  <tbody>\n",
       "    <tr>\n",
       "      <th>0</th>\n",
       "      <td>55.621</td>\n",
       "      <td>37.431</td>\n",
       "      <td>2</td>\n",
       "      <td>1</td>\n",
       "      <td>25</td>\n",
       "      <td>1</td>\n",
       "      <td>31.700</td>\n",
       "      <td>6.000</td>\n",
       "      <td>2</td>\n",
       "      <td>0.040</td>\n",
       "      <td>2018</td>\n",
       "      <td>3</td>\n",
       "      <td>31.700</td>\n",
       "    </tr>\n",
       "    <tr>\n",
       "      <th>1</th>\n",
       "      <td>55.739</td>\n",
       "      <td>37.825</td>\n",
       "      <td>1</td>\n",
       "      <td>5</td>\n",
       "      <td>9</td>\n",
       "      <td>2</td>\n",
       "      <td>45.000</td>\n",
       "      <td>6.000</td>\n",
       "      <td>1</td>\n",
       "      <td>0.556</td>\n",
       "      <td>2018</td>\n",
       "      <td>3</td>\n",
       "      <td>22.500</td>\n",
       "    </tr>\n",
       "    <tr>\n",
       "      <th>2</th>\n",
       "      <td>55.799</td>\n",
       "      <td>37.738</td>\n",
       "      <td>1</td>\n",
       "      <td>14</td>\n",
       "      <td>16</td>\n",
       "      <td>3</td>\n",
       "      <td>64.900</td>\n",
       "      <td>8.000</td>\n",
       "      <td>1</td>\n",
       "      <td>0.875</td>\n",
       "      <td>2018</td>\n",
       "      <td>4</td>\n",
       "      <td>21.633</td>\n",
       "    </tr>\n",
       "    <tr>\n",
       "      <th>3</th>\n",
       "      <td>55.655</td>\n",
       "      <td>37.615</td>\n",
       "      <td>2</td>\n",
       "      <td>7</td>\n",
       "      <td>14</td>\n",
       "      <td>2</td>\n",
       "      <td>52.800</td>\n",
       "      <td>10.000</td>\n",
       "      <td>1</td>\n",
       "      <td>0.500</td>\n",
       "      <td>2018</td>\n",
       "      <td>4</td>\n",
       "      <td>26.400</td>\n",
       "    </tr>\n",
       "    <tr>\n",
       "      <th>4</th>\n",
       "      <td>55.701</td>\n",
       "      <td>37.507</td>\n",
       "      <td>1</td>\n",
       "      <td>14</td>\n",
       "      <td>17</td>\n",
       "      <td>1</td>\n",
       "      <td>42.000</td>\n",
       "      <td>12.000</td>\n",
       "      <td>1</td>\n",
       "      <td>0.824</td>\n",
       "      <td>2018</td>\n",
       "      <td>4</td>\n",
       "      <td>42.000</td>\n",
       "    </tr>\n",
       "    <tr>\n",
       "      <th>...</th>\n",
       "      <td>...</td>\n",
       "      <td>...</td>\n",
       "      <td>...</td>\n",
       "      <td>...</td>\n",
       "      <td>...</td>\n",
       "      <td>...</td>\n",
       "      <td>...</td>\n",
       "      <td>...</td>\n",
       "      <td>...</td>\n",
       "      <td>...</td>\n",
       "      <td>...</td>\n",
       "      <td>...</td>\n",
       "      <td>...</td>\n",
       "    </tr>\n",
       "    <tr>\n",
       "      <th>382772</th>\n",
       "      <td>55.701</td>\n",
       "      <td>37.643</td>\n",
       "      <td>2</td>\n",
       "      <td>12</td>\n",
       "      <td>24</td>\n",
       "      <td>1</td>\n",
       "      <td>41.000</td>\n",
       "      <td>9.000</td>\n",
       "      <td>1</td>\n",
       "      <td>0.500</td>\n",
       "      <td>2021</td>\n",
       "      <td>5</td>\n",
       "      <td>41.000</td>\n",
       "    </tr>\n",
       "    <tr>\n",
       "      <th>382773</th>\n",
       "      <td>55.805</td>\n",
       "      <td>37.751</td>\n",
       "      <td>1</td>\n",
       "      <td>8</td>\n",
       "      <td>17</td>\n",
       "      <td>4</td>\n",
       "      <td>93.200</td>\n",
       "      <td>13.800</td>\n",
       "      <td>2</td>\n",
       "      <td>0.471</td>\n",
       "      <td>2021</td>\n",
       "      <td>5</td>\n",
       "      <td>23.300</td>\n",
       "    </tr>\n",
       "    <tr>\n",
       "      <th>382774</th>\n",
       "      <td>55.841</td>\n",
       "      <td>37.490</td>\n",
       "      <td>2</td>\n",
       "      <td>17</td>\n",
       "      <td>32</td>\n",
       "      <td>2</td>\n",
       "      <td>45.900</td>\n",
       "      <td>6.600</td>\n",
       "      <td>2</td>\n",
       "      <td>0.531</td>\n",
       "      <td>2021</td>\n",
       "      <td>5</td>\n",
       "      <td>22.950</td>\n",
       "    </tr>\n",
       "    <tr>\n",
       "      <th>382775</th>\n",
       "      <td>55.805</td>\n",
       "      <td>37.751</td>\n",
       "      <td>1</td>\n",
       "      <td>8</td>\n",
       "      <td>33</td>\n",
       "      <td>2</td>\n",
       "      <td>52.100</td>\n",
       "      <td>18.900</td>\n",
       "      <td>2</td>\n",
       "      <td>0.242</td>\n",
       "      <td>2021</td>\n",
       "      <td>5</td>\n",
       "      <td>26.050</td>\n",
       "    </tr>\n",
       "    <tr>\n",
       "      <th>382776</th>\n",
       "      <td>55.860</td>\n",
       "      <td>37.540</td>\n",
       "      <td>2</td>\n",
       "      <td>10</td>\n",
       "      <td>23</td>\n",
       "      <td>2</td>\n",
       "      <td>55.600</td>\n",
       "      <td>20.800</td>\n",
       "      <td>2</td>\n",
       "      <td>0.435</td>\n",
       "      <td>2021</td>\n",
       "      <td>5</td>\n",
       "      <td>27.800</td>\n",
       "    </tr>\n",
       "  </tbody>\n",
       "</table>\n",
       "<p>382777 rows × 13 columns</p>\n",
       "</div>"
      ],
      "text/plain": [
       "        geo_lat  geo_lon  building_type  level  levels  rooms   area  \\\n",
       "0        55.621   37.431              2      1      25      1 31.700   \n",
       "1        55.739   37.825              1      5       9      2 45.000   \n",
       "2        55.799   37.738              1     14      16      3 64.900   \n",
       "3        55.655   37.615              2      7      14      2 52.800   \n",
       "4        55.701   37.507              1     14      17      1 42.000   \n",
       "...         ...      ...            ...    ...     ...    ...    ...   \n",
       "382772   55.701   37.643              2     12      24      1 41.000   \n",
       "382773   55.805   37.751              1      8      17      4 93.200   \n",
       "382774   55.841   37.490              2     17      32      2 45.900   \n",
       "382775   55.805   37.751              1      8      33      2 52.100   \n",
       "382776   55.860   37.540              2     10      23      2 55.600   \n",
       "\n",
       "        kitchen_area  object_type  level_to_levels  year  month  area_to_rooms  \n",
       "0              6.000            2            0.040  2018      3         31.700  \n",
       "1              6.000            1            0.556  2018      3         22.500  \n",
       "2              8.000            1            0.875  2018      4         21.633  \n",
       "3             10.000            1            0.500  2018      4         26.400  \n",
       "4             12.000            1            0.824  2018      4         42.000  \n",
       "...              ...          ...              ...   ...    ...            ...  \n",
       "382772         9.000            1            0.500  2021      5         41.000  \n",
       "382773        13.800            2            0.471  2021      5         23.300  \n",
       "382774         6.600            2            0.531  2021      5         22.950  \n",
       "382775        18.900            2            0.242  2021      5         26.050  \n",
       "382776        20.800            2            0.435  2021      5         27.800  \n",
       "\n",
       "[382777 rows x 13 columns]"
      ]
     },
     "execution_count": 35,
     "metadata": {},
     "output_type": "execute_result"
    }
   ],
   "source": [
    "X"
   ]
  },
  {
   "cell_type": "code",
   "execution_count": 57,
   "metadata": {},
   "outputs": [
    {
     "data": {
      "text/html": [
       "<div>\n",
       "<style scoped>\n",
       "    .dataframe tbody tr th:only-of-type {\n",
       "        vertical-align: middle;\n",
       "    }\n",
       "\n",
       "    .dataframe tbody tr th {\n",
       "        vertical-align: top;\n",
       "    }\n",
       "\n",
       "    .dataframe thead th {\n",
       "        text-align: right;\n",
       "    }\n",
       "</style>\n",
       "<table border=\"1\" class=\"dataframe\">\n",
       "  <thead>\n",
       "    <tr style=\"text-align: right;\">\n",
       "      <th></th>\n",
       "      <th>price</th>\n",
       "      <th>geo_lat</th>\n",
       "      <th>geo_lon</th>\n",
       "      <th>building_type</th>\n",
       "      <th>level</th>\n",
       "      <th>levels</th>\n",
       "      <th>rooms</th>\n",
       "      <th>area</th>\n",
       "      <th>kitchen_area</th>\n",
       "      <th>object_type</th>\n",
       "      <th>level_to_levels</th>\n",
       "      <th>year</th>\n",
       "      <th>month</th>\n",
       "      <th>area_to_rooms</th>\n",
       "    </tr>\n",
       "  </thead>\n",
       "  <tbody>\n",
       "    <tr>\n",
       "      <th>0</th>\n",
       "      <td>4704280</td>\n",
       "      <td>55.621</td>\n",
       "      <td>37.431</td>\n",
       "      <td>2</td>\n",
       "      <td>1</td>\n",
       "      <td>25</td>\n",
       "      <td>1</td>\n",
       "      <td>31.700</td>\n",
       "      <td>6.000</td>\n",
       "      <td>2</td>\n",
       "      <td>0.040</td>\n",
       "      <td>2018</td>\n",
       "      <td>3</td>\n",
       "      <td>31.700</td>\n",
       "    </tr>\n",
       "    <tr>\n",
       "      <th>1</th>\n",
       "      <td>8000000</td>\n",
       "      <td>55.739</td>\n",
       "      <td>37.825</td>\n",
       "      <td>1</td>\n",
       "      <td>5</td>\n",
       "      <td>9</td>\n",
       "      <td>2</td>\n",
       "      <td>45.000</td>\n",
       "      <td>6.000</td>\n",
       "      <td>1</td>\n",
       "      <td>0.556</td>\n",
       "      <td>2018</td>\n",
       "      <td>3</td>\n",
       "      <td>22.500</td>\n",
       "    </tr>\n",
       "    <tr>\n",
       "      <th>2</th>\n",
       "      <td>11500000</td>\n",
       "      <td>55.799</td>\n",
       "      <td>37.738</td>\n",
       "      <td>1</td>\n",
       "      <td>14</td>\n",
       "      <td>16</td>\n",
       "      <td>3</td>\n",
       "      <td>64.900</td>\n",
       "      <td>8.000</td>\n",
       "      <td>1</td>\n",
       "      <td>0.875</td>\n",
       "      <td>2018</td>\n",
       "      <td>4</td>\n",
       "      <td>21.633</td>\n",
       "    </tr>\n",
       "    <tr>\n",
       "      <th>3</th>\n",
       "      <td>10200000</td>\n",
       "      <td>55.655</td>\n",
       "      <td>37.615</td>\n",
       "      <td>2</td>\n",
       "      <td>7</td>\n",
       "      <td>14</td>\n",
       "      <td>2</td>\n",
       "      <td>52.800</td>\n",
       "      <td>10.000</td>\n",
       "      <td>1</td>\n",
       "      <td>0.500</td>\n",
       "      <td>2018</td>\n",
       "      <td>4</td>\n",
       "      <td>26.400</td>\n",
       "    </tr>\n",
       "    <tr>\n",
       "      <th>4</th>\n",
       "      <td>11500000</td>\n",
       "      <td>55.701</td>\n",
       "      <td>37.507</td>\n",
       "      <td>1</td>\n",
       "      <td>14</td>\n",
       "      <td>17</td>\n",
       "      <td>1</td>\n",
       "      <td>42.000</td>\n",
       "      <td>12.000</td>\n",
       "      <td>1</td>\n",
       "      <td>0.824</td>\n",
       "      <td>2018</td>\n",
       "      <td>4</td>\n",
       "      <td>42.000</td>\n",
       "    </tr>\n",
       "    <tr>\n",
       "      <th>...</th>\n",
       "      <td>...</td>\n",
       "      <td>...</td>\n",
       "      <td>...</td>\n",
       "      <td>...</td>\n",
       "      <td>...</td>\n",
       "      <td>...</td>\n",
       "      <td>...</td>\n",
       "      <td>...</td>\n",
       "      <td>...</td>\n",
       "      <td>...</td>\n",
       "      <td>...</td>\n",
       "      <td>...</td>\n",
       "      <td>...</td>\n",
       "      <td>...</td>\n",
       "    </tr>\n",
       "    <tr>\n",
       "      <th>382772</th>\n",
       "      <td>12850000</td>\n",
       "      <td>55.701</td>\n",
       "      <td>37.643</td>\n",
       "      <td>2</td>\n",
       "      <td>12</td>\n",
       "      <td>24</td>\n",
       "      <td>1</td>\n",
       "      <td>41.000</td>\n",
       "      <td>9.000</td>\n",
       "      <td>1</td>\n",
       "      <td>0.500</td>\n",
       "      <td>2021</td>\n",
       "      <td>5</td>\n",
       "      <td>41.000</td>\n",
       "    </tr>\n",
       "    <tr>\n",
       "      <th>382773</th>\n",
       "      <td>19739760</td>\n",
       "      <td>55.805</td>\n",
       "      <td>37.751</td>\n",
       "      <td>1</td>\n",
       "      <td>8</td>\n",
       "      <td>17</td>\n",
       "      <td>4</td>\n",
       "      <td>93.200</td>\n",
       "      <td>13.800</td>\n",
       "      <td>2</td>\n",
       "      <td>0.471</td>\n",
       "      <td>2021</td>\n",
       "      <td>5</td>\n",
       "      <td>23.300</td>\n",
       "    </tr>\n",
       "    <tr>\n",
       "      <th>382774</th>\n",
       "      <td>12503160</td>\n",
       "      <td>55.841</td>\n",
       "      <td>37.490</td>\n",
       "      <td>2</td>\n",
       "      <td>17</td>\n",
       "      <td>32</td>\n",
       "      <td>2</td>\n",
       "      <td>45.900</td>\n",
       "      <td>6.600</td>\n",
       "      <td>2</td>\n",
       "      <td>0.531</td>\n",
       "      <td>2021</td>\n",
       "      <td>5</td>\n",
       "      <td>22.950</td>\n",
       "    </tr>\n",
       "    <tr>\n",
       "      <th>382775</th>\n",
       "      <td>11831910</td>\n",
       "      <td>55.805</td>\n",
       "      <td>37.751</td>\n",
       "      <td>1</td>\n",
       "      <td>8</td>\n",
       "      <td>33</td>\n",
       "      <td>2</td>\n",
       "      <td>52.100</td>\n",
       "      <td>18.900</td>\n",
       "      <td>2</td>\n",
       "      <td>0.242</td>\n",
       "      <td>2021</td>\n",
       "      <td>5</td>\n",
       "      <td>26.050</td>\n",
       "    </tr>\n",
       "    <tr>\n",
       "      <th>382776</th>\n",
       "      <td>13316200</td>\n",
       "      <td>55.860</td>\n",
       "      <td>37.540</td>\n",
       "      <td>2</td>\n",
       "      <td>10</td>\n",
       "      <td>23</td>\n",
       "      <td>2</td>\n",
       "      <td>55.600</td>\n",
       "      <td>20.800</td>\n",
       "      <td>2</td>\n",
       "      <td>0.435</td>\n",
       "      <td>2021</td>\n",
       "      <td>5</td>\n",
       "      <td>27.800</td>\n",
       "    </tr>\n",
       "  </tbody>\n",
       "</table>\n",
       "<p>382777 rows × 14 columns</p>\n",
       "</div>"
      ],
      "text/plain": [
       "           price  geo_lat  geo_lon  building_type  level  levels  rooms  \\\n",
       "0        4704280   55.621   37.431              2      1      25      1   \n",
       "1        8000000   55.739   37.825              1      5       9      2   \n",
       "2       11500000   55.799   37.738              1     14      16      3   \n",
       "3       10200000   55.655   37.615              2      7      14      2   \n",
       "4       11500000   55.701   37.507              1     14      17      1   \n",
       "...          ...      ...      ...            ...    ...     ...    ...   \n",
       "382772  12850000   55.701   37.643              2     12      24      1   \n",
       "382773  19739760   55.805   37.751              1      8      17      4   \n",
       "382774  12503160   55.841   37.490              2     17      32      2   \n",
       "382775  11831910   55.805   37.751              1      8      33      2   \n",
       "382776  13316200   55.860   37.540              2     10      23      2   \n",
       "\n",
       "         area  kitchen_area  object_type  level_to_levels  year  month  \\\n",
       "0      31.700         6.000            2            0.040  2018      3   \n",
       "1      45.000         6.000            1            0.556  2018      3   \n",
       "2      64.900         8.000            1            0.875  2018      4   \n",
       "3      52.800        10.000            1            0.500  2018      4   \n",
       "4      42.000        12.000            1            0.824  2018      4   \n",
       "...       ...           ...          ...              ...   ...    ...   \n",
       "382772 41.000         9.000            1            0.500  2021      5   \n",
       "382773 93.200        13.800            2            0.471  2021      5   \n",
       "382774 45.900         6.600            2            0.531  2021      5   \n",
       "382775 52.100        18.900            2            0.242  2021      5   \n",
       "382776 55.600        20.800            2            0.435  2021      5   \n",
       "\n",
       "        area_to_rooms  \n",
       "0              31.700  \n",
       "1              22.500  \n",
       "2              21.633  \n",
       "3              26.400  \n",
       "4              42.000  \n",
       "...               ...  \n",
       "382772         41.000  \n",
       "382773         23.300  \n",
       "382774         22.950  \n",
       "382775         26.050  \n",
       "382776         27.800  \n",
       "\n",
       "[382777 rows x 14 columns]"
      ]
     },
     "execution_count": 57,
     "metadata": {},
     "output_type": "execute_result"
    }
   ],
   "source": [
    "df_nn"
   ]
  },
  {
   "cell_type": "code",
   "execution_count": 20,
   "metadata": {},
   "outputs": [],
   "source": [
    "X, Y = df_nn.drop('price', axis=1), df_nn['price']\n",
    "X_train, X_test, Y_train, Y_test = train_test_split(X, Y, test_size=0.2, shuffle=True, random_state=1)\n",
    "\n",
    "model = xgb.XGBRegressor()\n",
    "model.fit(X_train, Y_train)\n",
    "predictions = model.predict(X_test)"
   ]
  },
  {
   "cell_type": "code",
   "execution_count": 21,
   "metadata": {},
   "outputs": [
    {
     "data": {
      "text/plain": [
       "array([11950989.,  6779844.,  7027418., ...,  8179286.,  8417454.,\n",
       "        8150854.], dtype=float32)"
      ]
     },
     "execution_count": 21,
     "metadata": {},
     "output_type": "execute_result"
    }
   ],
   "source": [
    "predictions"
   ]
  },
  {
   "cell_type": "code",
   "execution_count": 22,
   "metadata": {},
   "outputs": [
    {
     "data": {
      "text/plain": [
       "0.8762506285659115"
      ]
     },
     "execution_count": 22,
     "metadata": {},
     "output_type": "execute_result"
    }
   ],
   "source": [
    "r2_score(Y_test, predictions)"
   ]
  },
  {
   "cell_type": "code",
   "execution_count": 25,
   "metadata": {},
   "outputs": [],
   "source": [
    "import optuna"
   ]
  },
  {
   "cell_type": "code",
   "execution_count": 26,
   "metadata": {},
   "outputs": [],
   "source": [
    "def objective(trial):\n",
    "    params = {\n",
    "        'tree_method':'hist',\n",
    "        'device': 'cuda',\n",
    "        'sampling_method': 'gradient_based',\n",
    "        'lambda': trial.suggest_float('lambda', 1.0, 20.0, log=True),\n",
    "        'alpha': trial.suggest_float('alpha', 1.0, 20.0, log=True),\n",
    "        'eta': trial.suggest_categorical('eta', [0.3, 0.4, 0.5, 0.6, 0.7, 0.8, 0.9, 1.0]),\n",
    "        'gamma': trial.suggest_categorical('gamma', [18, 19, 20, 21, 22, 23, 24, 25]),\n",
    "        'learning_rate': trial.suggest_categorical('learning_rate', [0.01,0.012,0.014,0.016,0.018, 0.02, 0.022, 0.024, 0,26]),\n",
    "        'colsample_bytree': trial.suggest_categorical('colsample_bytree', [0.3,0.4,0.5,0.6,0.7,0.8,0.9, 1.0]),\n",
    "        'colsample_bynode': trial.suggest_categorical('colsample_bynode', [0.3,0.4,0.5,0.6,0.7,0.8,0.9, 1.0]),\n",
    "        'n_estimators': trial.suggest_int('n_estimators', 600, 1000),\n",
    "        'min_child_weight': trial.suggest_int('min_child_weight', 0, 200),  \n",
    "        'max_depth': trial.suggest_categorical('max_depth', [3, 4, 5, 6, 7, 8, 9, 10]),  \n",
    "        'subsample': trial.suggest_categorical('subsample', [0.5,0.6,0.7,0.8,1.0]),\n",
    "        'random_state': 42\n",
    "    }\n",
    "\n",
    "    model = xgb.XGBRegressor(**params)  \n",
    "    model.fit(X_train, Y_train)\n",
    "    predictions = model.predict(X_test)\n",
    "    return r2_score(Y_test, predictions)"
   ]
  },
  {
   "cell_type": "code",
   "execution_count": 27,
   "metadata": {},
   "outputs": [
    {
     "name": "stderr",
     "output_type": "stream",
     "text": [
      "[I 2024-02-23 20:31:25,750] A new study created in memory with name: no-name-0e3a7ead-d1ff-4209-9b83-274c5e7212cf\n",
      "c:\\Users\\Andrew\\AppData\\Local\\Programs\\Python\\Python39\\lib\\site-packages\\xgboost\\core.py:160: UserWarning: [20:31:42] WARNING: C:\\buildkite-agent\\builds\\buildkite-windows-cpu-autoscaling-group-i-0b3782d1791676daf-1\\xgboost\\xgboost-ci-windows\\src\\common\\error_msg.cc:58: Falling back to prediction using DMatrix due to mismatched devices. This might lead to higher memory usage and slower performance. XGBoost is running on: cuda:0, while the input data is on: cpu.\n",
      "Potential solutions:\n",
      "- Use a data structure that matches the device ordinal in the booster.\n",
      "- Set the device for booster before call to inplace_predict.\n",
      "\n",
      "This warning will only be shown once.\n",
      "\n",
      "  warnings.warn(smsg, UserWarning)\n",
      "[I 2024-02-23 20:31:43,026] Trial 0 finished with value: 0.8579258412688209 and parameters: {'lambda': 6.381078120969, 'alpha': 2.7947238527161318, 'eta': 0.9, 'gamma': 22, 'learning_rate': 0.012, 'colsample_bytree': 0.4, 'colsample_bynode': 0.5, 'n_estimators': 708, 'min_child_weight': 74, 'max_depth': 10, 'subsample': 0.6}. Best is trial 0 with value: 0.8579258412688209.\n",
      "[I 2024-02-23 20:31:47,806] Trial 1 finished with value: -5.5261679710039147e-05 and parameters: {'lambda': 5.141518782871251, 'alpha': 4.554132933860011, 'eta': 0.8, 'gamma': 22, 'learning_rate': 0, 'colsample_bytree': 0.3, 'colsample_bynode': 0.4, 'n_estimators': 623, 'min_child_weight': 198, 'max_depth': 8, 'subsample': 0.5}. Best is trial 0 with value: 0.8579258412688209.\n",
      "[I 2024-02-23 20:31:50,771] Trial 2 finished with value: 0.819269635371766 and parameters: {'lambda': 6.697172895522442, 'alpha': 6.2516654442325805, 'eta': 0.5, 'gamma': 23, 'learning_rate': 0.02, 'colsample_bytree': 0.6, 'colsample_bynode': 0.7, 'n_estimators': 738, 'min_child_weight': 132, 'max_depth': 4, 'subsample': 0.5}. Best is trial 0 with value: 0.8579258412688209.\n",
      "[I 2024-02-23 20:32:07,266] Trial 3 finished with value: 0.8913608551857157 and parameters: {'lambda': 1.435841654351079, 'alpha': 4.4119100462903, 'eta': 0.9, 'gamma': 23, 'learning_rate': 0.024, 'colsample_bytree': 0.4, 'colsample_bynode': 0.6, 'n_estimators': 931, 'min_child_weight': 80, 'max_depth': 10, 'subsample': 1.0}. Best is trial 3 with value: 0.8913608551857157.\n",
      "[I 2024-02-23 20:32:10,559] Trial 4 finished with value: 0.8212959663591144 and parameters: {'lambda': 7.405505696289721, 'alpha': 11.162065433969497, 'eta': 0.5, 'gamma': 25, 'learning_rate': 0.014, 'colsample_bytree': 0.9, 'colsample_bynode': 0.3, 'n_estimators': 716, 'min_child_weight': 78, 'max_depth': 5, 'subsample': 0.5}. Best is trial 3 with value: 0.8913608551857157.\n",
      "[I 2024-02-23 20:32:16,108] Trial 5 finished with value: 0.8749031572922121 and parameters: {'lambda': 12.24782925818783, 'alpha': 7.505465045014764, 'eta': 0.5, 'gamma': 21, 'learning_rate': 0.024, 'colsample_bytree': 0.7, 'colsample_bynode': 0.8, 'n_estimators': 769, 'min_child_weight': 98, 'max_depth': 7, 'subsample': 0.8}. Best is trial 3 with value: 0.8913608551857157.\n",
      "[I 2024-02-23 20:32:34,031] Trial 6 finished with value: -5.5261679710039147e-05 and parameters: {'lambda': 7.565071536302757, 'alpha': 11.24083817777203, 'eta': 0.6, 'gamma': 18, 'learning_rate': 0, 'colsample_bytree': 1.0, 'colsample_bynode': 0.8, 'n_estimators': 975, 'min_child_weight': 138, 'max_depth': 9, 'subsample': 1.0}. Best is trial 3 with value: 0.8913608551857157.\n",
      "[I 2024-02-23 20:32:41,260] Trial 7 finished with value: 0.848987812629453 and parameters: {'lambda': 1.1283965975131889, 'alpha': 2.852466082450317, 'eta': 0.6, 'gamma': 18, 'learning_rate': 0.018, 'colsample_bytree': 0.5, 'colsample_bynode': 0.6, 'n_estimators': 848, 'min_child_weight': 154, 'max_depth': 6, 'subsample': 1.0}. Best is trial 3 with value: 0.8913608551857157.\n",
      "[I 2024-02-23 20:32:47,196] Trial 8 finished with value: 0.8506028617877252 and parameters: {'lambda': 15.567389568617045, 'alpha': 6.570533739128186, 'eta': 1.0, 'gamma': 22, 'learning_rate': 0.024, 'colsample_bytree': 1.0, 'colsample_bynode': 0.5, 'n_estimators': 809, 'min_child_weight': 29, 'max_depth': 5, 'subsample': 1.0}. Best is trial 3 with value: 0.8913608551857157.\n",
      "[I 2024-02-23 20:32:54,891] Trial 9 finished with value: 0.8498532620283303 and parameters: {'lambda': 1.5160142339177434, 'alpha': 2.5696447848824215, 'eta': 0.6, 'gamma': 25, 'learning_rate': 0.012, 'colsample_bytree': 0.7, 'colsample_bynode': 0.7, 'n_estimators': 619, 'min_child_weight': 192, 'max_depth': 7, 'subsample': 1.0}. Best is trial 3 with value: 0.8913608551857157.\n",
      "[I 2024-02-23 20:33:57,131] Trial 10 finished with value: 0.8864477242058663 and parameters: {'lambda': 2.3877605528468777, 'alpha': 1.440184527786745, 'eta': 0.9, 'gamma': 19, 'learning_rate': 0.01, 'colsample_bytree': 0.4, 'colsample_bynode': 0.9, 'n_estimators': 988, 'min_child_weight': 1, 'max_depth': 10, 'subsample': 0.7}. Best is trial 3 with value: 0.8913608551857157.\n",
      "[I 2024-02-23 20:35:06,051] Trial 11 finished with value: 0.8873477576316036 and parameters: {'lambda': 2.7116140147626964, 'alpha': 1.0869353120999834, 'eta': 0.9, 'gamma': 19, 'learning_rate': 0.01, 'colsample_bytree': 0.4, 'colsample_bynode': 0.9, 'n_estimators': 994, 'min_child_weight': 3, 'max_depth': 10, 'subsample': 0.7}. Best is trial 3 with value: 0.8913608551857157.\n",
      "[I 2024-02-23 20:35:11,861] Trial 12 finished with value: -1.745062497285672e+27 and parameters: {'lambda': 2.8345093773124086, 'alpha': 1.0858493191719836, 'eta': 0.9, 'gamma': 23, 'learning_rate': 26, 'colsample_bytree': 0.4, 'colsample_bynode': 1.0, 'n_estimators': 912, 'min_child_weight': 40, 'max_depth': 10, 'subsample': 0.7}. Best is trial 3 with value: 0.8913608551857157.\n",
      "[I 2024-02-23 20:35:20,087] Trial 13 finished with value: 0.7781508203717576 and parameters: {'lambda': 2.4636284006493905, 'alpha': 1.8389423481486633, 'eta': 0.3, 'gamma': 24, 'learning_rate': 0.01, 'colsample_bytree': 0.8, 'colsample_bynode': 0.6, 'n_estimators': 904, 'min_child_weight': 4, 'max_depth': 3, 'subsample': 0.7}. Best is trial 3 with value: 0.8913608551857157.\n",
      "[I 2024-02-23 20:36:08,075] Trial 14 finished with value: 0.8954582884045043 and parameters: {'lambda': 1.666345603835887, 'alpha': 18.632949382914262, 'eta': 0.7, 'gamma': 19, 'learning_rate': 0.022, 'colsample_bytree': 0.4, 'colsample_bynode': 0.9, 'n_estimators': 927, 'min_child_weight': 51, 'max_depth': 10, 'subsample': 0.6}. Best is trial 14 with value: 0.8954582884045043.\n",
      "[I 2024-02-23 20:36:48,183] Trial 15 finished with value: 0.8964377273370717 and parameters: {'lambda': 1.062833795295479, 'alpha': 17.972087943718257, 'eta': 0.7, 'gamma': 20, 'learning_rate': 0.022, 'colsample_bytree': 0.4, 'colsample_bynode': 0.9, 'n_estimators': 902, 'min_child_weight': 59, 'max_depth': 10, 'subsample': 0.6}. Best is trial 15 with value: 0.8964377273370717.\n",
      "[I 2024-02-23 20:37:12,114] Trial 16 finished with value: 0.8962142780981046 and parameters: {'lambda': 1.616959746325657, 'alpha': 18.880128777629267, 'eta': 0.7, 'gamma': 20, 'learning_rate': 0.022, 'colsample_bytree': 0.9, 'colsample_bynode': 0.9, 'n_estimators': 858, 'min_child_weight': 49, 'max_depth': 9, 'subsample': 0.6}. Best is trial 15 with value: 0.8964377273370717.\n",
      "[I 2024-02-23 20:37:35,301] Trial 17 finished with value: 0.8950547022544092 and parameters: {'lambda': 1.0727792458186722, 'alpha': 19.623272612511485, 'eta': 0.7, 'gamma': 20, 'learning_rate': 0.022, 'colsample_bytree': 0.9, 'colsample_bynode': 0.9, 'n_estimators': 857, 'min_child_weight': 61, 'max_depth': 9, 'subsample': 0.6}. Best is trial 15 with value: 0.8964377273370717.\n",
      "[I 2024-02-23 20:37:55,618] Trial 18 finished with value: 0.8916062583656368 and parameters: {'lambda': 3.524760132021634, 'alpha': 12.47368193006321, 'eta': 0.7, 'gamma': 20, 'learning_rate': 0.022, 'colsample_bytree': 0.9, 'colsample_bynode': 0.9, 'n_estimators': 855, 'min_child_weight': 107, 'max_depth': 9, 'subsample': 0.6}. Best is trial 15 with value: 0.8964377273370717.\n",
      "[I 2024-02-23 20:38:03,089] Trial 19 finished with value: 0.7761163704757204 and parameters: {'lambda': 1.8635631936493187, 'alpha': 14.734177690284605, 'eta': 0.4, 'gamma': 20, 'learning_rate': 0.022, 'colsample_bytree': 0.3, 'colsample_bynode': 0.4, 'n_estimators': 809, 'min_child_weight': 27, 'max_depth': 4, 'subsample': 0.6}. Best is trial 15 with value: 0.8964377273370717.\n",
      "[I 2024-02-23 20:38:09,157] Trial 20 finished with value: 0.7763453321164286 and parameters: {'lambda': 1.0954371770918578, 'alpha': 8.978122922730309, 'eta': 0.7, 'gamma': 20, 'learning_rate': 0.016, 'colsample_bytree': 0.6, 'colsample_bynode': 0.3, 'n_estimators': 886, 'min_child_weight': 114, 'max_depth': 3, 'subsample': 0.8}. Best is trial 15 with value: 0.8964377273370717.\n",
      "[I 2024-02-23 20:38:22,767] Trial 21 finished with value: 0.8707312060379376 and parameters: {'lambda': 1.7176183675639223, 'alpha': 19.633603401984487, 'eta': 0.7, 'gamma': 19, 'learning_rate': 0.022, 'colsample_bytree': 0.8, 'colsample_bynode': 0.9, 'n_estimators': 943, 'min_child_weight': 54, 'max_depth': 6, 'subsample': 0.6}. Best is trial 15 with value: 0.8964377273370717.\n",
      "[I 2024-02-23 20:38:40,139] Trial 22 finished with value: 0.888113663442134 and parameters: {'lambda': 2.0225209605887837, 'alpha': 15.39640312618441, 'eta': 0.7, 'gamma': 20, 'learning_rate': 0.022, 'colsample_bytree': 0.5, 'colsample_bynode': 0.9, 'n_estimators': 945, 'min_child_weight': 48, 'max_depth': 8, 'subsample': 0.6}. Best is trial 15 with value: 0.8964377273370717.\n",
      "[I 2024-02-23 20:39:00,002] Trial 23 finished with value: 0.8948816093509269 and parameters: {'lambda': 1.3233969547654254, 'alpha': 15.79088086295816, 'eta': 0.7, 'gamma': 24, 'learning_rate': 0.022, 'colsample_bytree': 0.9, 'colsample_bynode': 0.9, 'n_estimators': 883, 'min_child_weight': 67, 'max_depth': 9, 'subsample': 0.6}. Best is trial 15 with value: 0.8964377273370717.\n",
      "[I 2024-02-23 20:39:14,187] Trial 24 finished with value: 0.8990366652597065 and parameters: {'lambda': 3.6764439671750724, 'alpha': 19.826494730847326, 'eta': 0.7, 'gamma': 21, 'learning_rate': 0.022, 'colsample_bytree': 0.4, 'colsample_bynode': 1.0, 'n_estimators': 855, 'min_child_weight': 32, 'max_depth': 10, 'subsample': 0.6}. Best is trial 24 with value: 0.8990366652597065.\n",
      "[I 2024-02-23 20:39:30,875] Trial 25 finished with value: 0.8931508404578635 and parameters: {'lambda': 3.968140792065779, 'alpha': 8.807260636595025, 'eta': 0.4, 'gamma': 21, 'learning_rate': 0.016, 'colsample_bytree': 0.4, 'colsample_bynode': 1.0, 'n_estimators': 837, 'min_child_weight': 22, 'max_depth': 10, 'subsample': 0.6}. Best is trial 24 with value: 0.8990366652597065.\n",
      "[I 2024-02-23 20:39:36,391] Trial 26 finished with value: -1.911889757795281e+26 and parameters: {'lambda': 3.213256632455723, 'alpha': 12.443564418131865, 'eta': 1.0, 'gamma': 21, 'learning_rate': 26, 'colsample_bytree': 0.9, 'colsample_bynode': 1.0, 'n_estimators': 776, 'min_child_weight': 89, 'max_depth': 9, 'subsample': 0.6}. Best is trial 24 with value: 0.8990366652597065.\n",
      "[I 2024-02-23 20:39:51,495] Trial 27 finished with value: 0.8941150477927068 and parameters: {'lambda': 9.84109672324131, 'alpha': 14.799301380969688, 'eta': 0.3, 'gamma': 21, 'learning_rate': 0.018, 'colsample_bytree': 0.4, 'colsample_bynode': 1.0, 'n_estimators': 884, 'min_child_weight': 38, 'max_depth': 10, 'subsample': 0.6}. Best is trial 24 with value: 0.8990366652597065.\n",
      "[I 2024-02-23 20:39:55,479] Trial 28 finished with value: 0.7901743228938509 and parameters: {'lambda': 4.855387796272732, 'alpha': 9.870953747323496, 'eta': 0.8, 'gamma': 20, 'learning_rate': 0.014, 'colsample_bytree': 0.6, 'colsample_bynode': 1.0, 'n_estimators': 823, 'min_child_weight': 16, 'max_depth': 3, 'subsample': 0.8}. Best is trial 24 with value: 0.8990366652597065.\n",
      "[I 2024-02-23 20:40:18,605] Trial 29 finished with value: 0.8578430076940763 and parameters: {'lambda': 2.1440590322623114, 'alpha': 4.452868256908625, 'eta': 0.7, 'gamma': 20, 'learning_rate': 0.012, 'colsample_bytree': 0.4, 'colsample_bynode': 0.4, 'n_estimators': 665, 'min_child_weight': 68, 'max_depth': 10, 'subsample': 0.6}. Best is trial 24 with value: 0.8990366652597065.\n"
     ]
    }
   ],
   "source": [
    "study = optuna.create_study(direction=\"maximize\")\n",
    "study.optimize(objective, n_trials=30)"
   ]
  },
  {
   "cell_type": "code",
   "execution_count": 30,
   "metadata": {},
   "outputs": [
    {
     "ename": "ValueError",
     "evalue": "Mime type rendering requires nbformat>=4.2.0 but it is not installed",
     "output_type": "error",
     "traceback": [
      "\u001b[1;31m---------------------------------------------------------------------------\u001b[0m",
      "\u001b[1;31mValueError\u001b[0m                                Traceback (most recent call last)",
      "File \u001b[1;32m~\\AppData\\Roaming\\Python\\Python39\\site-packages\\IPython\\core\\formatters.py:922\u001b[0m, in \u001b[0;36mIPythonDisplayFormatter.__call__\u001b[1;34m(self, obj)\u001b[0m\n\u001b[0;32m    920\u001b[0m method \u001b[38;5;241m=\u001b[39m get_real_method(obj, \u001b[38;5;28mself\u001b[39m\u001b[38;5;241m.\u001b[39mprint_method)\n\u001b[0;32m    921\u001b[0m \u001b[38;5;28;01mif\u001b[39;00m method \u001b[38;5;129;01mis\u001b[39;00m \u001b[38;5;129;01mnot\u001b[39;00m \u001b[38;5;28;01mNone\u001b[39;00m:\n\u001b[1;32m--> 922\u001b[0m     \u001b[43mmethod\u001b[49m\u001b[43m(\u001b[49m\u001b[43m)\u001b[49m\n\u001b[0;32m    923\u001b[0m     \u001b[38;5;28;01mreturn\u001b[39;00m \u001b[38;5;28;01mTrue\u001b[39;00m\n",
      "File \u001b[1;32mc:\\Users\\Andrew\\AppData\\Local\\Programs\\Python\\Python39\\lib\\site-packages\\plotly\\basedatatypes.py:832\u001b[0m, in \u001b[0;36mBaseFigure._ipython_display_\u001b[1;34m(self)\u001b[0m\n\u001b[0;32m    829\u001b[0m \u001b[38;5;28;01mimport\u001b[39;00m \u001b[38;5;21;01mplotly\u001b[39;00m\u001b[38;5;21;01m.\u001b[39;00m\u001b[38;5;21;01mio\u001b[39;00m \u001b[38;5;28;01mas\u001b[39;00m \u001b[38;5;21;01mpio\u001b[39;00m\n\u001b[0;32m    831\u001b[0m \u001b[38;5;28;01mif\u001b[39;00m pio\u001b[38;5;241m.\u001b[39mrenderers\u001b[38;5;241m.\u001b[39mrender_on_display \u001b[38;5;129;01mand\u001b[39;00m pio\u001b[38;5;241m.\u001b[39mrenderers\u001b[38;5;241m.\u001b[39mdefault:\n\u001b[1;32m--> 832\u001b[0m     \u001b[43mpio\u001b[49m\u001b[38;5;241;43m.\u001b[39;49m\u001b[43mshow\u001b[49m\u001b[43m(\u001b[49m\u001b[38;5;28;43mself\u001b[39;49m\u001b[43m)\u001b[49m\n\u001b[0;32m    833\u001b[0m \u001b[38;5;28;01melse\u001b[39;00m:\n\u001b[0;32m    834\u001b[0m     \u001b[38;5;28mprint\u001b[39m(\u001b[38;5;28mrepr\u001b[39m(\u001b[38;5;28mself\u001b[39m))\n",
      "File \u001b[1;32mc:\\Users\\Andrew\\AppData\\Local\\Programs\\Python\\Python39\\lib\\site-packages\\plotly\\io\\_renderers.py:394\u001b[0m, in \u001b[0;36mshow\u001b[1;34m(fig, renderer, validate, **kwargs)\u001b[0m\n\u001b[0;32m    389\u001b[0m         \u001b[38;5;28;01mraise\u001b[39;00m \u001b[38;5;167;01mValueError\u001b[39;00m(\n\u001b[0;32m    390\u001b[0m             \u001b[38;5;124m\"\u001b[39m\u001b[38;5;124mMime type rendering requires ipython but it is not installed\u001b[39m\u001b[38;5;124m\"\u001b[39m\n\u001b[0;32m    391\u001b[0m         )\n\u001b[0;32m    393\u001b[0m     \u001b[38;5;28;01mif\u001b[39;00m \u001b[38;5;129;01mnot\u001b[39;00m nbformat \u001b[38;5;129;01mor\u001b[39;00m Version(nbformat\u001b[38;5;241m.\u001b[39m__version__) \u001b[38;5;241m<\u001b[39m Version(\u001b[38;5;124m\"\u001b[39m\u001b[38;5;124m4.2.0\u001b[39m\u001b[38;5;124m\"\u001b[39m):\n\u001b[1;32m--> 394\u001b[0m         \u001b[38;5;28;01mraise\u001b[39;00m \u001b[38;5;167;01mValueError\u001b[39;00m(\n\u001b[0;32m    395\u001b[0m             \u001b[38;5;124m\"\u001b[39m\u001b[38;5;124mMime type rendering requires nbformat>=4.2.0 but it is not installed\u001b[39m\u001b[38;5;124m\"\u001b[39m\n\u001b[0;32m    396\u001b[0m         )\n\u001b[0;32m    398\u001b[0m     ipython_display\u001b[38;5;241m.\u001b[39mdisplay(bundle, raw\u001b[38;5;241m=\u001b[39m\u001b[38;5;28;01mTrue\u001b[39;00m)\n\u001b[0;32m    400\u001b[0m \u001b[38;5;66;03m# external renderers\u001b[39;00m\n",
      "\u001b[1;31mValueError\u001b[0m: Mime type rendering requires nbformat>=4.2.0 but it is not installed"
     ]
    },
    {
     "data": {
      "application/vnd.plotly.v1+json": {
       "config": {
        "plotlyServerURL": "https://plot.ly"
       },
       "data": [
        {
         "cliponaxis": false,
         "hovertemplate": [
          "lambda (FloatDistribution): 6.777499129304543e-10<extra></extra>",
          "colsample_bynode (CategoricalDistribution): 5.2479439255117344e-09<extra></extra>",
          "colsample_bytree (CategoricalDistribution): 4.62597893002954e-07<extra></extra>",
          "n_estimators (IntDistribution): 0.00029779193620955264<extra></extra>",
          "max_depth (CategoricalDistribution): 0.0010585893143049236<extra></extra>",
          "subsample (CategoricalDistribution): 0.015617471858878327<extra></extra>",
          "min_child_weight (IntDistribution): 0.029455151314399776<extra></extra>",
          "gamma (CategoricalDistribution): 0.03115471115079493<extra></extra>",
          "eta (CategoricalDistribution): 0.1365979202979986<extra></extra>",
          "alpha (FloatDistribution): 0.26650322104570034<extra></extra>",
          "learning_rate (CategoricalDistribution): 0.5193146745581266<extra></extra>"
         ],
         "name": "Objective Value",
         "orientation": "h",
         "text": [
          "<0.01",
          "<0.01",
          "<0.01",
          "<0.01",
          "<0.01",
          "0.02",
          "0.03",
          "0.03",
          "0.14",
          "0.27",
          "0.52"
         ],
         "textposition": "outside",
         "type": "bar",
         "x": [
          6.777499129304543e-10,
          5.2479439255117344e-9,
          4.62597893002954e-7,
          0.00029779193620955264,
          0.0010585893143049236,
          0.015617471858878327,
          0.029455151314399776,
          0.03115471115079493,
          0.1365979202979986,
          0.26650322104570034,
          0.5193146745581266
         ],
         "y": [
          "lambda",
          "colsample_bynode",
          "colsample_bytree",
          "n_estimators",
          "max_depth",
          "subsample",
          "min_child_weight",
          "gamma",
          "eta",
          "alpha",
          "learning_rate"
         ]
        }
       ],
       "layout": {
        "template": {
         "data": {
          "bar": [
           {
            "error_x": {
             "color": "#2a3f5f"
            },
            "error_y": {
             "color": "#2a3f5f"
            },
            "marker": {
             "line": {
              "color": "#E5ECF6",
              "width": 0.5
             },
             "pattern": {
              "fillmode": "overlay",
              "size": 10,
              "solidity": 0.2
             }
            },
            "type": "bar"
           }
          ],
          "barpolar": [
           {
            "marker": {
             "line": {
              "color": "#E5ECF6",
              "width": 0.5
             },
             "pattern": {
              "fillmode": "overlay",
              "size": 10,
              "solidity": 0.2
             }
            },
            "type": "barpolar"
           }
          ],
          "carpet": [
           {
            "aaxis": {
             "endlinecolor": "#2a3f5f",
             "gridcolor": "white",
             "linecolor": "white",
             "minorgridcolor": "white",
             "startlinecolor": "#2a3f5f"
            },
            "baxis": {
             "endlinecolor": "#2a3f5f",
             "gridcolor": "white",
             "linecolor": "white",
             "minorgridcolor": "white",
             "startlinecolor": "#2a3f5f"
            },
            "type": "carpet"
           }
          ],
          "choropleth": [
           {
            "colorbar": {
             "outlinewidth": 0,
             "ticks": ""
            },
            "type": "choropleth"
           }
          ],
          "contour": [
           {
            "colorbar": {
             "outlinewidth": 0,
             "ticks": ""
            },
            "colorscale": [
             [
              0,
              "#0d0887"
             ],
             [
              0.1111111111111111,
              "#46039f"
             ],
             [
              0.2222222222222222,
              "#7201a8"
             ],
             [
              0.3333333333333333,
              "#9c179e"
             ],
             [
              0.4444444444444444,
              "#bd3786"
             ],
             [
              0.5555555555555556,
              "#d8576b"
             ],
             [
              0.6666666666666666,
              "#ed7953"
             ],
             [
              0.7777777777777778,
              "#fb9f3a"
             ],
             [
              0.8888888888888888,
              "#fdca26"
             ],
             [
              1,
              "#f0f921"
             ]
            ],
            "type": "contour"
           }
          ],
          "contourcarpet": [
           {
            "colorbar": {
             "outlinewidth": 0,
             "ticks": ""
            },
            "type": "contourcarpet"
           }
          ],
          "heatmap": [
           {
            "colorbar": {
             "outlinewidth": 0,
             "ticks": ""
            },
            "colorscale": [
             [
              0,
              "#0d0887"
             ],
             [
              0.1111111111111111,
              "#46039f"
             ],
             [
              0.2222222222222222,
              "#7201a8"
             ],
             [
              0.3333333333333333,
              "#9c179e"
             ],
             [
              0.4444444444444444,
              "#bd3786"
             ],
             [
              0.5555555555555556,
              "#d8576b"
             ],
             [
              0.6666666666666666,
              "#ed7953"
             ],
             [
              0.7777777777777778,
              "#fb9f3a"
             ],
             [
              0.8888888888888888,
              "#fdca26"
             ],
             [
              1,
              "#f0f921"
             ]
            ],
            "type": "heatmap"
           }
          ],
          "heatmapgl": [
           {
            "colorbar": {
             "outlinewidth": 0,
             "ticks": ""
            },
            "colorscale": [
             [
              0,
              "#0d0887"
             ],
             [
              0.1111111111111111,
              "#46039f"
             ],
             [
              0.2222222222222222,
              "#7201a8"
             ],
             [
              0.3333333333333333,
              "#9c179e"
             ],
             [
              0.4444444444444444,
              "#bd3786"
             ],
             [
              0.5555555555555556,
              "#d8576b"
             ],
             [
              0.6666666666666666,
              "#ed7953"
             ],
             [
              0.7777777777777778,
              "#fb9f3a"
             ],
             [
              0.8888888888888888,
              "#fdca26"
             ],
             [
              1,
              "#f0f921"
             ]
            ],
            "type": "heatmapgl"
           }
          ],
          "histogram": [
           {
            "marker": {
             "pattern": {
              "fillmode": "overlay",
              "size": 10,
              "solidity": 0.2
             }
            },
            "type": "histogram"
           }
          ],
          "histogram2d": [
           {
            "colorbar": {
             "outlinewidth": 0,
             "ticks": ""
            },
            "colorscale": [
             [
              0,
              "#0d0887"
             ],
             [
              0.1111111111111111,
              "#46039f"
             ],
             [
              0.2222222222222222,
              "#7201a8"
             ],
             [
              0.3333333333333333,
              "#9c179e"
             ],
             [
              0.4444444444444444,
              "#bd3786"
             ],
             [
              0.5555555555555556,
              "#d8576b"
             ],
             [
              0.6666666666666666,
              "#ed7953"
             ],
             [
              0.7777777777777778,
              "#fb9f3a"
             ],
             [
              0.8888888888888888,
              "#fdca26"
             ],
             [
              1,
              "#f0f921"
             ]
            ],
            "type": "histogram2d"
           }
          ],
          "histogram2dcontour": [
           {
            "colorbar": {
             "outlinewidth": 0,
             "ticks": ""
            },
            "colorscale": [
             [
              0,
              "#0d0887"
             ],
             [
              0.1111111111111111,
              "#46039f"
             ],
             [
              0.2222222222222222,
              "#7201a8"
             ],
             [
              0.3333333333333333,
              "#9c179e"
             ],
             [
              0.4444444444444444,
              "#bd3786"
             ],
             [
              0.5555555555555556,
              "#d8576b"
             ],
             [
              0.6666666666666666,
              "#ed7953"
             ],
             [
              0.7777777777777778,
              "#fb9f3a"
             ],
             [
              0.8888888888888888,
              "#fdca26"
             ],
             [
              1,
              "#f0f921"
             ]
            ],
            "type": "histogram2dcontour"
           }
          ],
          "mesh3d": [
           {
            "colorbar": {
             "outlinewidth": 0,
             "ticks": ""
            },
            "type": "mesh3d"
           }
          ],
          "parcoords": [
           {
            "line": {
             "colorbar": {
              "outlinewidth": 0,
              "ticks": ""
             }
            },
            "type": "parcoords"
           }
          ],
          "pie": [
           {
            "automargin": true,
            "type": "pie"
           }
          ],
          "scatter": [
           {
            "fillpattern": {
             "fillmode": "overlay",
             "size": 10,
             "solidity": 0.2
            },
            "type": "scatter"
           }
          ],
          "scatter3d": [
           {
            "line": {
             "colorbar": {
              "outlinewidth": 0,
              "ticks": ""
             }
            },
            "marker": {
             "colorbar": {
              "outlinewidth": 0,
              "ticks": ""
             }
            },
            "type": "scatter3d"
           }
          ],
          "scattercarpet": [
           {
            "marker": {
             "colorbar": {
              "outlinewidth": 0,
              "ticks": ""
             }
            },
            "type": "scattercarpet"
           }
          ],
          "scattergeo": [
           {
            "marker": {
             "colorbar": {
              "outlinewidth": 0,
              "ticks": ""
             }
            },
            "type": "scattergeo"
           }
          ],
          "scattergl": [
           {
            "marker": {
             "colorbar": {
              "outlinewidth": 0,
              "ticks": ""
             }
            },
            "type": "scattergl"
           }
          ],
          "scattermapbox": [
           {
            "marker": {
             "colorbar": {
              "outlinewidth": 0,
              "ticks": ""
             }
            },
            "type": "scattermapbox"
           }
          ],
          "scatterpolar": [
           {
            "marker": {
             "colorbar": {
              "outlinewidth": 0,
              "ticks": ""
             }
            },
            "type": "scatterpolar"
           }
          ],
          "scatterpolargl": [
           {
            "marker": {
             "colorbar": {
              "outlinewidth": 0,
              "ticks": ""
             }
            },
            "type": "scatterpolargl"
           }
          ],
          "scatterternary": [
           {
            "marker": {
             "colorbar": {
              "outlinewidth": 0,
              "ticks": ""
             }
            },
            "type": "scatterternary"
           }
          ],
          "surface": [
           {
            "colorbar": {
             "outlinewidth": 0,
             "ticks": ""
            },
            "colorscale": [
             [
              0,
              "#0d0887"
             ],
             [
              0.1111111111111111,
              "#46039f"
             ],
             [
              0.2222222222222222,
              "#7201a8"
             ],
             [
              0.3333333333333333,
              "#9c179e"
             ],
             [
              0.4444444444444444,
              "#bd3786"
             ],
             [
              0.5555555555555556,
              "#d8576b"
             ],
             [
              0.6666666666666666,
              "#ed7953"
             ],
             [
              0.7777777777777778,
              "#fb9f3a"
             ],
             [
              0.8888888888888888,
              "#fdca26"
             ],
             [
              1,
              "#f0f921"
             ]
            ],
            "type": "surface"
           }
          ],
          "table": [
           {
            "cells": {
             "fill": {
              "color": "#EBF0F8"
             },
             "line": {
              "color": "white"
             }
            },
            "header": {
             "fill": {
              "color": "#C8D4E3"
             },
             "line": {
              "color": "white"
             }
            },
            "type": "table"
           }
          ]
         },
         "layout": {
          "annotationdefaults": {
           "arrowcolor": "#2a3f5f",
           "arrowhead": 0,
           "arrowwidth": 1
          },
          "autotypenumbers": "strict",
          "coloraxis": {
           "colorbar": {
            "outlinewidth": 0,
            "ticks": ""
           }
          },
          "colorscale": {
           "diverging": [
            [
             0,
             "#8e0152"
            ],
            [
             0.1,
             "#c51b7d"
            ],
            [
             0.2,
             "#de77ae"
            ],
            [
             0.3,
             "#f1b6da"
            ],
            [
             0.4,
             "#fde0ef"
            ],
            [
             0.5,
             "#f7f7f7"
            ],
            [
             0.6,
             "#e6f5d0"
            ],
            [
             0.7,
             "#b8e186"
            ],
            [
             0.8,
             "#7fbc41"
            ],
            [
             0.9,
             "#4d9221"
            ],
            [
             1,
             "#276419"
            ]
           ],
           "sequential": [
            [
             0,
             "#0d0887"
            ],
            [
             0.1111111111111111,
             "#46039f"
            ],
            [
             0.2222222222222222,
             "#7201a8"
            ],
            [
             0.3333333333333333,
             "#9c179e"
            ],
            [
             0.4444444444444444,
             "#bd3786"
            ],
            [
             0.5555555555555556,
             "#d8576b"
            ],
            [
             0.6666666666666666,
             "#ed7953"
            ],
            [
             0.7777777777777778,
             "#fb9f3a"
            ],
            [
             0.8888888888888888,
             "#fdca26"
            ],
            [
             1,
             "#f0f921"
            ]
           ],
           "sequentialminus": [
            [
             0,
             "#0d0887"
            ],
            [
             0.1111111111111111,
             "#46039f"
            ],
            [
             0.2222222222222222,
             "#7201a8"
            ],
            [
             0.3333333333333333,
             "#9c179e"
            ],
            [
             0.4444444444444444,
             "#bd3786"
            ],
            [
             0.5555555555555556,
             "#d8576b"
            ],
            [
             0.6666666666666666,
             "#ed7953"
            ],
            [
             0.7777777777777778,
             "#fb9f3a"
            ],
            [
             0.8888888888888888,
             "#fdca26"
            ],
            [
             1,
             "#f0f921"
            ]
           ]
          },
          "colorway": [
           "#636efa",
           "#EF553B",
           "#00cc96",
           "#ab63fa",
           "#FFA15A",
           "#19d3f3",
           "#FF6692",
           "#B6E880",
           "#FF97FF",
           "#FECB52"
          ],
          "font": {
           "color": "#2a3f5f"
          },
          "geo": {
           "bgcolor": "white",
           "lakecolor": "white",
           "landcolor": "#E5ECF6",
           "showlakes": true,
           "showland": true,
           "subunitcolor": "white"
          },
          "hoverlabel": {
           "align": "left"
          },
          "hovermode": "closest",
          "mapbox": {
           "style": "light"
          },
          "paper_bgcolor": "white",
          "plot_bgcolor": "#E5ECF6",
          "polar": {
           "angularaxis": {
            "gridcolor": "white",
            "linecolor": "white",
            "ticks": ""
           },
           "bgcolor": "#E5ECF6",
           "radialaxis": {
            "gridcolor": "white",
            "linecolor": "white",
            "ticks": ""
           }
          },
          "scene": {
           "xaxis": {
            "backgroundcolor": "#E5ECF6",
            "gridcolor": "white",
            "gridwidth": 2,
            "linecolor": "white",
            "showbackground": true,
            "ticks": "",
            "zerolinecolor": "white"
           },
           "yaxis": {
            "backgroundcolor": "#E5ECF6",
            "gridcolor": "white",
            "gridwidth": 2,
            "linecolor": "white",
            "showbackground": true,
            "ticks": "",
            "zerolinecolor": "white"
           },
           "zaxis": {
            "backgroundcolor": "#E5ECF6",
            "gridcolor": "white",
            "gridwidth": 2,
            "linecolor": "white",
            "showbackground": true,
            "ticks": "",
            "zerolinecolor": "white"
           }
          },
          "shapedefaults": {
           "line": {
            "color": "#2a3f5f"
           }
          },
          "ternary": {
           "aaxis": {
            "gridcolor": "white",
            "linecolor": "white",
            "ticks": ""
           },
           "baxis": {
            "gridcolor": "white",
            "linecolor": "white",
            "ticks": ""
           },
           "bgcolor": "#E5ECF6",
           "caxis": {
            "gridcolor": "white",
            "linecolor": "white",
            "ticks": ""
           }
          },
          "title": {
           "x": 0.05
          },
          "xaxis": {
           "automargin": true,
           "gridcolor": "white",
           "linecolor": "white",
           "ticks": "",
           "title": {
            "standoff": 15
           },
           "zerolinecolor": "white",
           "zerolinewidth": 2
          },
          "yaxis": {
           "automargin": true,
           "gridcolor": "white",
           "linecolor": "white",
           "ticks": "",
           "title": {
            "standoff": 15
           },
           "zerolinecolor": "white",
           "zerolinewidth": 2
          }
         }
        },
        "title": {
         "text": "Hyperparameter Importances"
        },
        "xaxis": {
         "title": {
          "text": "Hyperparameter Importance"
         }
        },
        "yaxis": {
         "title": {
          "text": "Hyperparameter"
         }
        }
       }
      },
      "text/html": [
       "<div>                        <script type=\"text/javascript\">window.PlotlyConfig = {MathJaxConfig: 'local'};</script>\n",
       "        <script charset=\"utf-8\" src=\"https://cdn.plot.ly/plotly-2.29.1.min.js\"></script>                <div id=\"664ea812-3087-4c8c-8601-a71e1163d31e\" class=\"plotly-graph-div\" style=\"height:100%; width:100%;\"></div>            <script type=\"text/javascript\">                                    window.PLOTLYENV=window.PLOTLYENV || {};                                    if (document.getElementById(\"664ea812-3087-4c8c-8601-a71e1163d31e\")) {                    Plotly.newPlot(                        \"664ea812-3087-4c8c-8601-a71e1163d31e\",                        [{\"cliponaxis\":false,\"hovertemplate\":[\"lambda (FloatDistribution): 6.777499129304543e-10\\u003cextra\\u003e\\u003c\\u002fextra\\u003e\",\"colsample_bynode (CategoricalDistribution): 5.2479439255117344e-09\\u003cextra\\u003e\\u003c\\u002fextra\\u003e\",\"colsample_bytree (CategoricalDistribution): 4.62597893002954e-07\\u003cextra\\u003e\\u003c\\u002fextra\\u003e\",\"n_estimators (IntDistribution): 0.00029779193620955264\\u003cextra\\u003e\\u003c\\u002fextra\\u003e\",\"max_depth (CategoricalDistribution): 0.0010585893143049236\\u003cextra\\u003e\\u003c\\u002fextra\\u003e\",\"subsample (CategoricalDistribution): 0.015617471858878327\\u003cextra\\u003e\\u003c\\u002fextra\\u003e\",\"min_child_weight (IntDistribution): 0.029455151314399776\\u003cextra\\u003e\\u003c\\u002fextra\\u003e\",\"gamma (CategoricalDistribution): 0.03115471115079493\\u003cextra\\u003e\\u003c\\u002fextra\\u003e\",\"eta (CategoricalDistribution): 0.1365979202979986\\u003cextra\\u003e\\u003c\\u002fextra\\u003e\",\"alpha (FloatDistribution): 0.26650322104570034\\u003cextra\\u003e\\u003c\\u002fextra\\u003e\",\"learning_rate (CategoricalDistribution): 0.5193146745581266\\u003cextra\\u003e\\u003c\\u002fextra\\u003e\"],\"name\":\"Objective Value\",\"orientation\":\"h\",\"text\":[\"\\u003c0.01\",\"\\u003c0.01\",\"\\u003c0.01\",\"\\u003c0.01\",\"\\u003c0.01\",\"0.02\",\"0.03\",\"0.03\",\"0.14\",\"0.27\",\"0.52\"],\"textposition\":\"outside\",\"x\":[6.777499129304543e-10,5.2479439255117344e-09,4.62597893002954e-07,0.00029779193620955264,0.0010585893143049236,0.015617471858878327,0.029455151314399776,0.03115471115079493,0.1365979202979986,0.26650322104570034,0.5193146745581266],\"y\":[\"lambda\",\"colsample_bynode\",\"colsample_bytree\",\"n_estimators\",\"max_depth\",\"subsample\",\"min_child_weight\",\"gamma\",\"eta\",\"alpha\",\"learning_rate\"],\"type\":\"bar\"}],                        {\"title\":{\"text\":\"Hyperparameter Importances\"},\"xaxis\":{\"title\":{\"text\":\"Hyperparameter Importance\"}},\"yaxis\":{\"title\":{\"text\":\"Hyperparameter\"}},\"template\":{\"data\":{\"histogram2dcontour\":[{\"type\":\"histogram2dcontour\",\"colorbar\":{\"outlinewidth\":0,\"ticks\":\"\"},\"colorscale\":[[0.0,\"#0d0887\"],[0.1111111111111111,\"#46039f\"],[0.2222222222222222,\"#7201a8\"],[0.3333333333333333,\"#9c179e\"],[0.4444444444444444,\"#bd3786\"],[0.5555555555555556,\"#d8576b\"],[0.6666666666666666,\"#ed7953\"],[0.7777777777777778,\"#fb9f3a\"],[0.8888888888888888,\"#fdca26\"],[1.0,\"#f0f921\"]]}],\"choropleth\":[{\"type\":\"choropleth\",\"colorbar\":{\"outlinewidth\":0,\"ticks\":\"\"}}],\"histogram2d\":[{\"type\":\"histogram2d\",\"colorbar\":{\"outlinewidth\":0,\"ticks\":\"\"},\"colorscale\":[[0.0,\"#0d0887\"],[0.1111111111111111,\"#46039f\"],[0.2222222222222222,\"#7201a8\"],[0.3333333333333333,\"#9c179e\"],[0.4444444444444444,\"#bd3786\"],[0.5555555555555556,\"#d8576b\"],[0.6666666666666666,\"#ed7953\"],[0.7777777777777778,\"#fb9f3a\"],[0.8888888888888888,\"#fdca26\"],[1.0,\"#f0f921\"]]}],\"heatmap\":[{\"type\":\"heatmap\",\"colorbar\":{\"outlinewidth\":0,\"ticks\":\"\"},\"colorscale\":[[0.0,\"#0d0887\"],[0.1111111111111111,\"#46039f\"],[0.2222222222222222,\"#7201a8\"],[0.3333333333333333,\"#9c179e\"],[0.4444444444444444,\"#bd3786\"],[0.5555555555555556,\"#d8576b\"],[0.6666666666666666,\"#ed7953\"],[0.7777777777777778,\"#fb9f3a\"],[0.8888888888888888,\"#fdca26\"],[1.0,\"#f0f921\"]]}],\"heatmapgl\":[{\"type\":\"heatmapgl\",\"colorbar\":{\"outlinewidth\":0,\"ticks\":\"\"},\"colorscale\":[[0.0,\"#0d0887\"],[0.1111111111111111,\"#46039f\"],[0.2222222222222222,\"#7201a8\"],[0.3333333333333333,\"#9c179e\"],[0.4444444444444444,\"#bd3786\"],[0.5555555555555556,\"#d8576b\"],[0.6666666666666666,\"#ed7953\"],[0.7777777777777778,\"#fb9f3a\"],[0.8888888888888888,\"#fdca26\"],[1.0,\"#f0f921\"]]}],\"contourcarpet\":[{\"type\":\"contourcarpet\",\"colorbar\":{\"outlinewidth\":0,\"ticks\":\"\"}}],\"contour\":[{\"type\":\"contour\",\"colorbar\":{\"outlinewidth\":0,\"ticks\":\"\"},\"colorscale\":[[0.0,\"#0d0887\"],[0.1111111111111111,\"#46039f\"],[0.2222222222222222,\"#7201a8\"],[0.3333333333333333,\"#9c179e\"],[0.4444444444444444,\"#bd3786\"],[0.5555555555555556,\"#d8576b\"],[0.6666666666666666,\"#ed7953\"],[0.7777777777777778,\"#fb9f3a\"],[0.8888888888888888,\"#fdca26\"],[1.0,\"#f0f921\"]]}],\"surface\":[{\"type\":\"surface\",\"colorbar\":{\"outlinewidth\":0,\"ticks\":\"\"},\"colorscale\":[[0.0,\"#0d0887\"],[0.1111111111111111,\"#46039f\"],[0.2222222222222222,\"#7201a8\"],[0.3333333333333333,\"#9c179e\"],[0.4444444444444444,\"#bd3786\"],[0.5555555555555556,\"#d8576b\"],[0.6666666666666666,\"#ed7953\"],[0.7777777777777778,\"#fb9f3a\"],[0.8888888888888888,\"#fdca26\"],[1.0,\"#f0f921\"]]}],\"mesh3d\":[{\"type\":\"mesh3d\",\"colorbar\":{\"outlinewidth\":0,\"ticks\":\"\"}}],\"scatter\":[{\"fillpattern\":{\"fillmode\":\"overlay\",\"size\":10,\"solidity\":0.2},\"type\":\"scatter\"}],\"parcoords\":[{\"type\":\"parcoords\",\"line\":{\"colorbar\":{\"outlinewidth\":0,\"ticks\":\"\"}}}],\"scatterpolargl\":[{\"type\":\"scatterpolargl\",\"marker\":{\"colorbar\":{\"outlinewidth\":0,\"ticks\":\"\"}}}],\"bar\":[{\"error_x\":{\"color\":\"#2a3f5f\"},\"error_y\":{\"color\":\"#2a3f5f\"},\"marker\":{\"line\":{\"color\":\"#E5ECF6\",\"width\":0.5},\"pattern\":{\"fillmode\":\"overlay\",\"size\":10,\"solidity\":0.2}},\"type\":\"bar\"}],\"scattergeo\":[{\"type\":\"scattergeo\",\"marker\":{\"colorbar\":{\"outlinewidth\":0,\"ticks\":\"\"}}}],\"scatterpolar\":[{\"type\":\"scatterpolar\",\"marker\":{\"colorbar\":{\"outlinewidth\":0,\"ticks\":\"\"}}}],\"histogram\":[{\"marker\":{\"pattern\":{\"fillmode\":\"overlay\",\"size\":10,\"solidity\":0.2}},\"type\":\"histogram\"}],\"scattergl\":[{\"type\":\"scattergl\",\"marker\":{\"colorbar\":{\"outlinewidth\":0,\"ticks\":\"\"}}}],\"scatter3d\":[{\"type\":\"scatter3d\",\"line\":{\"colorbar\":{\"outlinewidth\":0,\"ticks\":\"\"}},\"marker\":{\"colorbar\":{\"outlinewidth\":0,\"ticks\":\"\"}}}],\"scattermapbox\":[{\"type\":\"scattermapbox\",\"marker\":{\"colorbar\":{\"outlinewidth\":0,\"ticks\":\"\"}}}],\"scatterternary\":[{\"type\":\"scatterternary\",\"marker\":{\"colorbar\":{\"outlinewidth\":0,\"ticks\":\"\"}}}],\"scattercarpet\":[{\"type\":\"scattercarpet\",\"marker\":{\"colorbar\":{\"outlinewidth\":0,\"ticks\":\"\"}}}],\"carpet\":[{\"aaxis\":{\"endlinecolor\":\"#2a3f5f\",\"gridcolor\":\"white\",\"linecolor\":\"white\",\"minorgridcolor\":\"white\",\"startlinecolor\":\"#2a3f5f\"},\"baxis\":{\"endlinecolor\":\"#2a3f5f\",\"gridcolor\":\"white\",\"linecolor\":\"white\",\"minorgridcolor\":\"white\",\"startlinecolor\":\"#2a3f5f\"},\"type\":\"carpet\"}],\"table\":[{\"cells\":{\"fill\":{\"color\":\"#EBF0F8\"},\"line\":{\"color\":\"white\"}},\"header\":{\"fill\":{\"color\":\"#C8D4E3\"},\"line\":{\"color\":\"white\"}},\"type\":\"table\"}],\"barpolar\":[{\"marker\":{\"line\":{\"color\":\"#E5ECF6\",\"width\":0.5},\"pattern\":{\"fillmode\":\"overlay\",\"size\":10,\"solidity\":0.2}},\"type\":\"barpolar\"}],\"pie\":[{\"automargin\":true,\"type\":\"pie\"}]},\"layout\":{\"autotypenumbers\":\"strict\",\"colorway\":[\"#636efa\",\"#EF553B\",\"#00cc96\",\"#ab63fa\",\"#FFA15A\",\"#19d3f3\",\"#FF6692\",\"#B6E880\",\"#FF97FF\",\"#FECB52\"],\"font\":{\"color\":\"#2a3f5f\"},\"hovermode\":\"closest\",\"hoverlabel\":{\"align\":\"left\"},\"paper_bgcolor\":\"white\",\"plot_bgcolor\":\"#E5ECF6\",\"polar\":{\"bgcolor\":\"#E5ECF6\",\"angularaxis\":{\"gridcolor\":\"white\",\"linecolor\":\"white\",\"ticks\":\"\"},\"radialaxis\":{\"gridcolor\":\"white\",\"linecolor\":\"white\",\"ticks\":\"\"}},\"ternary\":{\"bgcolor\":\"#E5ECF6\",\"aaxis\":{\"gridcolor\":\"white\",\"linecolor\":\"white\",\"ticks\":\"\"},\"baxis\":{\"gridcolor\":\"white\",\"linecolor\":\"white\",\"ticks\":\"\"},\"caxis\":{\"gridcolor\":\"white\",\"linecolor\":\"white\",\"ticks\":\"\"}},\"coloraxis\":{\"colorbar\":{\"outlinewidth\":0,\"ticks\":\"\"}},\"colorscale\":{\"sequential\":[[0.0,\"#0d0887\"],[0.1111111111111111,\"#46039f\"],[0.2222222222222222,\"#7201a8\"],[0.3333333333333333,\"#9c179e\"],[0.4444444444444444,\"#bd3786\"],[0.5555555555555556,\"#d8576b\"],[0.6666666666666666,\"#ed7953\"],[0.7777777777777778,\"#fb9f3a\"],[0.8888888888888888,\"#fdca26\"],[1.0,\"#f0f921\"]],\"sequentialminus\":[[0.0,\"#0d0887\"],[0.1111111111111111,\"#46039f\"],[0.2222222222222222,\"#7201a8\"],[0.3333333333333333,\"#9c179e\"],[0.4444444444444444,\"#bd3786\"],[0.5555555555555556,\"#d8576b\"],[0.6666666666666666,\"#ed7953\"],[0.7777777777777778,\"#fb9f3a\"],[0.8888888888888888,\"#fdca26\"],[1.0,\"#f0f921\"]],\"diverging\":[[0,\"#8e0152\"],[0.1,\"#c51b7d\"],[0.2,\"#de77ae\"],[0.3,\"#f1b6da\"],[0.4,\"#fde0ef\"],[0.5,\"#f7f7f7\"],[0.6,\"#e6f5d0\"],[0.7,\"#b8e186\"],[0.8,\"#7fbc41\"],[0.9,\"#4d9221\"],[1,\"#276419\"]]},\"xaxis\":{\"gridcolor\":\"white\",\"linecolor\":\"white\",\"ticks\":\"\",\"title\":{\"standoff\":15},\"zerolinecolor\":\"white\",\"automargin\":true,\"zerolinewidth\":2},\"yaxis\":{\"gridcolor\":\"white\",\"linecolor\":\"white\",\"ticks\":\"\",\"title\":{\"standoff\":15},\"zerolinecolor\":\"white\",\"automargin\":true,\"zerolinewidth\":2},\"scene\":{\"xaxis\":{\"backgroundcolor\":\"#E5ECF6\",\"gridcolor\":\"white\",\"linecolor\":\"white\",\"showbackground\":true,\"ticks\":\"\",\"zerolinecolor\":\"white\",\"gridwidth\":2},\"yaxis\":{\"backgroundcolor\":\"#E5ECF6\",\"gridcolor\":\"white\",\"linecolor\":\"white\",\"showbackground\":true,\"ticks\":\"\",\"zerolinecolor\":\"white\",\"gridwidth\":2},\"zaxis\":{\"backgroundcolor\":\"#E5ECF6\",\"gridcolor\":\"white\",\"linecolor\":\"white\",\"showbackground\":true,\"ticks\":\"\",\"zerolinecolor\":\"white\",\"gridwidth\":2}},\"shapedefaults\":{\"line\":{\"color\":\"#2a3f5f\"}},\"annotationdefaults\":{\"arrowcolor\":\"#2a3f5f\",\"arrowhead\":0,\"arrowwidth\":1},\"geo\":{\"bgcolor\":\"white\",\"landcolor\":\"#E5ECF6\",\"subunitcolor\":\"white\",\"showland\":true,\"showlakes\":true,\"lakecolor\":\"white\"},\"title\":{\"x\":0.05},\"mapbox\":{\"style\":\"light\"}}}},                        {\"responsive\": true}                    )                };                            </script>        </div>"
      ],
      "text/plain": [
       "Figure({\n",
       "    'data': [{'cliponaxis': False,\n",
       "              'hovertemplate': [lambda (FloatDistribution):\n",
       "                                6.777499129304543e-10<extra></extra>,\n",
       "                                colsample_bynode (CategoricalDistribution):\n",
       "                                5.2479439255117344e-09<extra></extra>,\n",
       "                                colsample_bytree (CategoricalDistribution):\n",
       "                                4.62597893002954e-07<extra></extra>, n_estimators\n",
       "                                (IntDistribution):\n",
       "                                0.00029779193620955264<extra></extra>, max_depth\n",
       "                                (CategoricalDistribution):\n",
       "                                0.0010585893143049236<extra></extra>, subsample\n",
       "                                (CategoricalDistribution):\n",
       "                                0.015617471858878327<extra></extra>,\n",
       "                                min_child_weight (IntDistribution):\n",
       "                                0.029455151314399776<extra></extra>, gamma\n",
       "                                (CategoricalDistribution):\n",
       "                                0.03115471115079493<extra></extra>, eta\n",
       "                                (CategoricalDistribution):\n",
       "                                0.1365979202979986<extra></extra>, alpha\n",
       "                                (FloatDistribution):\n",
       "                                0.26650322104570034<extra></extra>, learning_rate\n",
       "                                (CategoricalDistribution):\n",
       "                                0.5193146745581266<extra></extra>],\n",
       "              'name': 'Objective Value',\n",
       "              'orientation': 'h',\n",
       "              'text': [<0.01, <0.01, <0.01, <0.01, <0.01, 0.02, 0.03, 0.03, 0.14,\n",
       "                       0.27, 0.52],\n",
       "              'textposition': 'outside',\n",
       "              'type': 'bar',\n",
       "              'x': [6.777499129304543e-10, 5.2479439255117344e-09,\n",
       "                    4.62597893002954e-07, 0.00029779193620955264,\n",
       "                    0.0010585893143049236, 0.015617471858878327,\n",
       "                    0.029455151314399776, 0.03115471115079493, 0.1365979202979986,\n",
       "                    0.26650322104570034, 0.5193146745581266],\n",
       "              'y': [lambda, colsample_bynode, colsample_bytree, n_estimators,\n",
       "                    max_depth, subsample, min_child_weight, gamma, eta, alpha,\n",
       "                    learning_rate]}],\n",
       "    'layout': {'template': '...',\n",
       "               'title': {'text': 'Hyperparameter Importances'},\n",
       "               'xaxis': {'title': {'text': 'Hyperparameter Importance'}},\n",
       "               'yaxis': {'title': {'text': 'Hyperparameter'}}}\n",
       "})"
      ]
     },
     "execution_count": 30,
     "metadata": {},
     "output_type": "execute_result"
    }
   ],
   "source": [
    "#optuna.visualization.plot_param_importances(study)"
   ]
  },
  {
   "cell_type": "code",
   "execution_count": 31,
   "metadata": {},
   "outputs": [
    {
     "name": "stdout",
     "output_type": "stream",
     "text": [
      "Number of finished trials: 30\n",
      "Best trial:\n",
      "1. Value: 0.8990366652597065\n",
      "2. Params: \n",
      "   lambda: 3.6764439671750724\n",
      "   alpha: 19.826494730847326\n",
      "   eta: 0.7\n",
      "   gamma: 21\n",
      "   learning_rate: 0.022\n",
      "   colsample_bytree: 0.4\n",
      "   colsample_bynode: 1.0\n",
      "   n_estimators: 855\n",
      "   min_child_weight: 32\n",
      "   max_depth: 10\n",
      "   subsample: 0.6\n"
     ]
    }
   ],
   "source": [
    "print(\"Number of finished trials: {}\".format(len(study.trials)))\n",
    "\n",
    "trial = study.best_trial\n",
    "print(\"Best trial:\")\n",
    "\n",
    "print(\"1. Value: {}\".format(trial.value))\n",
    "\n",
    "print(\"2. Params: \")\n",
    "for key, value in trial.params.items():\n",
    "    print(\"   {}: {}\".format(key, value))"
   ]
  },
  {
   "cell_type": "code",
   "execution_count": 50,
   "metadata": {},
   "outputs": [
    {
     "ename": "NameError",
     "evalue": "name 'best_model' is not defined",
     "output_type": "error",
     "traceback": [
      "\u001b[1;31m---------------------------------------------------------------------------\u001b[0m",
      "\u001b[1;31mNameError\u001b[0m                                 Traceback (most recent call last)",
      "Cell \u001b[1;32mIn[50], line 1\u001b[0m\n\u001b[1;32m----> 1\u001b[0m \u001b[43mbest_model\u001b[49m\n",
      "\u001b[1;31mNameError\u001b[0m: name 'best_model' is not defined"
     ]
    }
   ],
   "source": [
    "best_model"
   ]
  },
  {
   "cell_type": "code",
   "execution_count": 32,
   "metadata": {},
   "outputs": [
    {
     "data": {
      "text/plain": [
       "0.8967563222695255"
      ]
     },
     "execution_count": 32,
     "metadata": {},
     "output_type": "execute_result"
    }
   ],
   "source": [
    "best_model = xgb.XGBRegressor(**study.best_params)\n",
    "best_model.fit(X_train, Y_train)\n",
    "predictions_best = best_model.predict(X_test)\n",
    "\n",
    "r2_score(Y_test, predictions_best)"
   ]
  },
  {
   "cell_type": "code",
   "execution_count": 44,
   "metadata": {},
   "outputs": [
    {
     "data": {
      "text/html": [
       "<div>\n",
       "<style scoped>\n",
       "    .dataframe tbody tr th:only-of-type {\n",
       "        vertical-align: middle;\n",
       "    }\n",
       "\n",
       "    .dataframe tbody tr th {\n",
       "        vertical-align: top;\n",
       "    }\n",
       "\n",
       "    .dataframe thead th {\n",
       "        text-align: right;\n",
       "    }\n",
       "</style>\n",
       "<table border=\"1\" class=\"dataframe\">\n",
       "  <thead>\n",
       "    <tr style=\"text-align: right;\">\n",
       "      <th></th>\n",
       "      <th>geo_lat</th>\n",
       "      <th>geo_lon</th>\n",
       "      <th>building_type</th>\n",
       "      <th>level</th>\n",
       "      <th>levels</th>\n",
       "      <th>rooms</th>\n",
       "      <th>area</th>\n",
       "      <th>kitchen_area</th>\n",
       "      <th>object_type</th>\n",
       "      <th>level_to_levels</th>\n",
       "      <th>year</th>\n",
       "      <th>month</th>\n",
       "      <th>area_to_rooms</th>\n",
       "    </tr>\n",
       "  </thead>\n",
       "  <tbody>\n",
       "    <tr>\n",
       "      <th>0</th>\n",
       "      <td>55.621</td>\n",
       "      <td>37.431</td>\n",
       "      <td>2</td>\n",
       "      <td>1</td>\n",
       "      <td>25</td>\n",
       "      <td>1</td>\n",
       "      <td>31.700</td>\n",
       "      <td>6.000</td>\n",
       "      <td>2</td>\n",
       "      <td>0.040</td>\n",
       "      <td>2018</td>\n",
       "      <td>3</td>\n",
       "      <td>31.700</td>\n",
       "    </tr>\n",
       "    <tr>\n",
       "      <th>1</th>\n",
       "      <td>55.739</td>\n",
       "      <td>37.825</td>\n",
       "      <td>1</td>\n",
       "      <td>5</td>\n",
       "      <td>9</td>\n",
       "      <td>2</td>\n",
       "      <td>45.000</td>\n",
       "      <td>6.000</td>\n",
       "      <td>1</td>\n",
       "      <td>0.556</td>\n",
       "      <td>2018</td>\n",
       "      <td>3</td>\n",
       "      <td>22.500</td>\n",
       "    </tr>\n",
       "    <tr>\n",
       "      <th>2</th>\n",
       "      <td>55.799</td>\n",
       "      <td>37.738</td>\n",
       "      <td>1</td>\n",
       "      <td>14</td>\n",
       "      <td>16</td>\n",
       "      <td>3</td>\n",
       "      <td>64.900</td>\n",
       "      <td>8.000</td>\n",
       "      <td>1</td>\n",
       "      <td>0.875</td>\n",
       "      <td>2018</td>\n",
       "      <td>4</td>\n",
       "      <td>21.633</td>\n",
       "    </tr>\n",
       "    <tr>\n",
       "      <th>3</th>\n",
       "      <td>55.655</td>\n",
       "      <td>37.615</td>\n",
       "      <td>2</td>\n",
       "      <td>7</td>\n",
       "      <td>14</td>\n",
       "      <td>2</td>\n",
       "      <td>52.800</td>\n",
       "      <td>10.000</td>\n",
       "      <td>1</td>\n",
       "      <td>0.500</td>\n",
       "      <td>2018</td>\n",
       "      <td>4</td>\n",
       "      <td>26.400</td>\n",
       "    </tr>\n",
       "    <tr>\n",
       "      <th>4</th>\n",
       "      <td>55.701</td>\n",
       "      <td>37.507</td>\n",
       "      <td>1</td>\n",
       "      <td>14</td>\n",
       "      <td>17</td>\n",
       "      <td>1</td>\n",
       "      <td>42.000</td>\n",
       "      <td>12.000</td>\n",
       "      <td>1</td>\n",
       "      <td>0.824</td>\n",
       "      <td>2018</td>\n",
       "      <td>4</td>\n",
       "      <td>42.000</td>\n",
       "    </tr>\n",
       "    <tr>\n",
       "      <th>5</th>\n",
       "      <td>55.731</td>\n",
       "      <td>37.631</td>\n",
       "      <td>3</td>\n",
       "      <td>6</td>\n",
       "      <td>10</td>\n",
       "      <td>3</td>\n",
       "      <td>80.000</td>\n",
       "      <td>8.200</td>\n",
       "      <td>1</td>\n",
       "      <td>0.600</td>\n",
       "      <td>2018</td>\n",
       "      <td>5</td>\n",
       "      <td>26.667</td>\n",
       "    </tr>\n",
       "    <tr>\n",
       "      <th>6</th>\n",
       "      <td>55.627</td>\n",
       "      <td>37.592</td>\n",
       "      <td>1</td>\n",
       "      <td>4</td>\n",
       "      <td>9</td>\n",
       "      <td>3</td>\n",
       "      <td>64.900</td>\n",
       "      <td>7.000</td>\n",
       "      <td>1</td>\n",
       "      <td>0.444</td>\n",
       "      <td>2018</td>\n",
       "      <td>5</td>\n",
       "      <td>21.633</td>\n",
       "    </tr>\n",
       "    <tr>\n",
       "      <th>7</th>\n",
       "      <td>55.704</td>\n",
       "      <td>37.767</td>\n",
       "      <td>1</td>\n",
       "      <td>8</td>\n",
       "      <td>9</td>\n",
       "      <td>1</td>\n",
       "      <td>32.000</td>\n",
       "      <td>6.000</td>\n",
       "      <td>1</td>\n",
       "      <td>0.889</td>\n",
       "      <td>2018</td>\n",
       "      <td>6</td>\n",
       "      <td>32.000</td>\n",
       "    </tr>\n",
       "    <tr>\n",
       "      <th>8</th>\n",
       "      <td>55.724</td>\n",
       "      <td>37.741</td>\n",
       "      <td>1</td>\n",
       "      <td>15</td>\n",
       "      <td>24</td>\n",
       "      <td>3</td>\n",
       "      <td>80.900</td>\n",
       "      <td>14.000</td>\n",
       "      <td>1</td>\n",
       "      <td>0.625</td>\n",
       "      <td>2018</td>\n",
       "      <td>6</td>\n",
       "      <td>26.967</td>\n",
       "    </tr>\n",
       "    <tr>\n",
       "      <th>9</th>\n",
       "      <td>55.724</td>\n",
       "      <td>37.435</td>\n",
       "      <td>3</td>\n",
       "      <td>1</td>\n",
       "      <td>5</td>\n",
       "      <td>2</td>\n",
       "      <td>44.000</td>\n",
       "      <td>6.000</td>\n",
       "      <td>1</td>\n",
       "      <td>0.200</td>\n",
       "      <td>2018</td>\n",
       "      <td>7</td>\n",
       "      <td>22.000</td>\n",
       "    </tr>\n",
       "  </tbody>\n",
       "</table>\n",
       "</div>"
      ],
      "text/plain": [
       "   geo_lat  geo_lon  building_type  level  levels  rooms   area  kitchen_area  \\\n",
       "0   55.621   37.431              2      1      25      1 31.700         6.000   \n",
       "1   55.739   37.825              1      5       9      2 45.000         6.000   \n",
       "2   55.799   37.738              1     14      16      3 64.900         8.000   \n",
       "3   55.655   37.615              2      7      14      2 52.800        10.000   \n",
       "4   55.701   37.507              1     14      17      1 42.000        12.000   \n",
       "5   55.731   37.631              3      6      10      3 80.000         8.200   \n",
       "6   55.627   37.592              1      4       9      3 64.900         7.000   \n",
       "7   55.704   37.767              1      8       9      1 32.000         6.000   \n",
       "8   55.724   37.741              1     15      24      3 80.900        14.000   \n",
       "9   55.724   37.435              3      1       5      2 44.000         6.000   \n",
       "\n",
       "   object_type  level_to_levels  year  month  area_to_rooms  \n",
       "0            2            0.040  2018      3         31.700  \n",
       "1            1            0.556  2018      3         22.500  \n",
       "2            1            0.875  2018      4         21.633  \n",
       "3            1            0.500  2018      4         26.400  \n",
       "4            1            0.824  2018      4         42.000  \n",
       "5            1            0.600  2018      5         26.667  \n",
       "6            1            0.444  2018      5         21.633  \n",
       "7            1            0.889  2018      6         32.000  \n",
       "8            1            0.625  2018      6         26.967  \n",
       "9            1            0.200  2018      7         22.000  "
      ]
     },
     "execution_count": 44,
     "metadata": {},
     "output_type": "execute_result"
    }
   ],
   "source": [
    "X.head(10)"
   ]
  },
  {
   "cell_type": "code",
   "execution_count": 43,
   "metadata": {},
   "outputs": [
    {
     "data": {
      "text/plain": [
       "0     4704280\n",
       "1     8000000\n",
       "2    11500000\n",
       "3    10200000\n",
       "4    11500000\n",
       "5    20900000\n",
       "6    12000000\n",
       "7     5750000\n",
       "8    11535000\n",
       "9     6990000\n",
       "Name: price, dtype: int64"
      ]
     },
     "execution_count": 43,
     "metadata": {},
     "output_type": "execute_result"
    }
   ],
   "source": [
    "Y.head(10)"
   ]
  },
  {
   "cell_type": "code",
   "execution_count": 45,
   "metadata": {},
   "outputs": [],
   "source": [
    "test_data = {\n",
    "    'geo_lat': [55.621],\n",
    "    'geo_lon': [37.431],\n",
    "    'building_type': [2],\n",
    "    'level': [1],\n",
    "    'levels': [25],\n",
    "    'rooms': [1],\n",
    "    'area': [31.700],\n",
    "    'kitchen_area': [6.000],\n",
    "    'object_type': [2],\n",
    "    'level_to_levels': [0.040],\n",
    "    'year': [2018],\n",
    "    'month': [3],\n",
    "    'area_to_rooms': [31.700]\n",
    "}\n",
    "\n",
    "test_df = pd.DataFrame(X.head(10))\n",
    "\n",
    "predictions_best = best_model.predict(test_df)"
   ]
  },
  {
   "cell_type": "code",
   "execution_count": 47,
   "metadata": {},
   "outputs": [
    {
     "data": {
      "text/plain": [
       "array([ 4681098.5,  6664277.5, 11472512. , 11104680. , 10536685. ,\n",
       "       23311934. ,  9408587. ,  5616191. , 13269797. ,  6943859.5],\n",
       "      dtype=float32)"
      ]
     },
     "execution_count": 47,
     "metadata": {},
     "output_type": "execute_result"
    }
   ],
   "source": [
    "predictions_best"
   ]
  },
  {
   "cell_type": "code",
   "execution_count": 52,
   "metadata": {},
   "outputs": [],
   "source": [
    "import joblib"
   ]
  },
  {
   "cell_type": "code",
   "execution_count": 54,
   "metadata": {},
   "outputs": [
    {
     "data": {
      "text/plain": [
       "['XGBOOST_model.pkl']"
      ]
     },
     "execution_count": 54,
     "metadata": {},
     "output_type": "execute_result"
    }
   ],
   "source": [
    "joblib.dump(best_model, 'XGBOOST_model.pkl')"
   ]
  },
  {
   "cell_type": "code",
   "execution_count": 54,
   "metadata": {},
   "outputs": [
    {
     "data": {
      "text/html": [
       "<style>#sk-container-id-1 {\n",
       "  /* Definition of color scheme common for light and dark mode */\n",
       "  --sklearn-color-text: black;\n",
       "  --sklearn-color-line: gray;\n",
       "  /* Definition of color scheme for unfitted estimators */\n",
       "  --sklearn-color-unfitted-level-0: #fff5e6;\n",
       "  --sklearn-color-unfitted-level-1: #f6e4d2;\n",
       "  --sklearn-color-unfitted-level-2: #ffe0b3;\n",
       "  --sklearn-color-unfitted-level-3: chocolate;\n",
       "  /* Definition of color scheme for fitted estimators */\n",
       "  --sklearn-color-fitted-level-0: #f0f8ff;\n",
       "  --sklearn-color-fitted-level-1: #d4ebff;\n",
       "  --sklearn-color-fitted-level-2: #b3dbfd;\n",
       "  --sklearn-color-fitted-level-3: cornflowerblue;\n",
       "\n",
       "  /* Specific color for light theme */\n",
       "  --sklearn-color-text-on-default-background: var(--sg-text-color, var(--theme-code-foreground, var(--jp-content-font-color1, black)));\n",
       "  --sklearn-color-background: var(--sg-background-color, var(--theme-background, var(--jp-layout-color0, white)));\n",
       "  --sklearn-color-border-box: var(--sg-text-color, var(--theme-code-foreground, var(--jp-content-font-color1, black)));\n",
       "  --sklearn-color-icon: #696969;\n",
       "\n",
       "  @media (prefers-color-scheme: dark) {\n",
       "    /* Redefinition of color scheme for dark theme */\n",
       "    --sklearn-color-text-on-default-background: var(--sg-text-color, var(--theme-code-foreground, var(--jp-content-font-color1, white)));\n",
       "    --sklearn-color-background: var(--sg-background-color, var(--theme-background, var(--jp-layout-color0, #111)));\n",
       "    --sklearn-color-border-box: var(--sg-text-color, var(--theme-code-foreground, var(--jp-content-font-color1, white)));\n",
       "    --sklearn-color-icon: #878787;\n",
       "  }\n",
       "}\n",
       "\n",
       "#sk-container-id-1 {\n",
       "  color: var(--sklearn-color-text);\n",
       "}\n",
       "\n",
       "#sk-container-id-1 pre {\n",
       "  padding: 0;\n",
       "}\n",
       "\n",
       "#sk-container-id-1 input.sk-hidden--visually {\n",
       "  border: 0;\n",
       "  clip: rect(1px 1px 1px 1px);\n",
       "  clip: rect(1px, 1px, 1px, 1px);\n",
       "  height: 1px;\n",
       "  margin: -1px;\n",
       "  overflow: hidden;\n",
       "  padding: 0;\n",
       "  position: absolute;\n",
       "  width: 1px;\n",
       "}\n",
       "\n",
       "#sk-container-id-1 div.sk-dashed-wrapped {\n",
       "  border: 1px dashed var(--sklearn-color-line);\n",
       "  margin: 0 0.4em 0.5em 0.4em;\n",
       "  box-sizing: border-box;\n",
       "  padding-bottom: 0.4em;\n",
       "  background-color: var(--sklearn-color-background);\n",
       "}\n",
       "\n",
       "#sk-container-id-1 div.sk-container {\n",
       "  /* jupyter's `normalize.less` sets `[hidden] { display: none; }`\n",
       "     but bootstrap.min.css set `[hidden] { display: none !important; }`\n",
       "     so we also need the `!important` here to be able to override the\n",
       "     default hidden behavior on the sphinx rendered scikit-learn.org.\n",
       "     See: https://github.com/scikit-learn/scikit-learn/issues/21755 */\n",
       "  display: inline-block !important;\n",
       "  position: relative;\n",
       "}\n",
       "\n",
       "#sk-container-id-1 div.sk-text-repr-fallback {\n",
       "  display: none;\n",
       "}\n",
       "\n",
       "div.sk-parallel-item,\n",
       "div.sk-serial,\n",
       "div.sk-item {\n",
       "  /* draw centered vertical line to link estimators */\n",
       "  background-image: linear-gradient(var(--sklearn-color-text-on-default-background), var(--sklearn-color-text-on-default-background));\n",
       "  background-size: 2px 100%;\n",
       "  background-repeat: no-repeat;\n",
       "  background-position: center center;\n",
       "}\n",
       "\n",
       "/* Parallel-specific style estimator block */\n",
       "\n",
       "#sk-container-id-1 div.sk-parallel-item::after {\n",
       "  content: \"\";\n",
       "  width: 100%;\n",
       "  border-bottom: 2px solid var(--sklearn-color-text-on-default-background);\n",
       "  flex-grow: 1;\n",
       "}\n",
       "\n",
       "#sk-container-id-1 div.sk-parallel {\n",
       "  display: flex;\n",
       "  align-items: stretch;\n",
       "  justify-content: center;\n",
       "  background-color: var(--sklearn-color-background);\n",
       "  position: relative;\n",
       "}\n",
       "\n",
       "#sk-container-id-1 div.sk-parallel-item {\n",
       "  display: flex;\n",
       "  flex-direction: column;\n",
       "}\n",
       "\n",
       "#sk-container-id-1 div.sk-parallel-item:first-child::after {\n",
       "  align-self: flex-end;\n",
       "  width: 50%;\n",
       "}\n",
       "\n",
       "#sk-container-id-1 div.sk-parallel-item:last-child::after {\n",
       "  align-self: flex-start;\n",
       "  width: 50%;\n",
       "}\n",
       "\n",
       "#sk-container-id-1 div.sk-parallel-item:only-child::after {\n",
       "  width: 0;\n",
       "}\n",
       "\n",
       "/* Serial-specific style estimator block */\n",
       "\n",
       "#sk-container-id-1 div.sk-serial {\n",
       "  display: flex;\n",
       "  flex-direction: column;\n",
       "  align-items: center;\n",
       "  background-color: var(--sklearn-color-background);\n",
       "  padding-right: 1em;\n",
       "  padding-left: 1em;\n",
       "}\n",
       "\n",
       "\n",
       "/* Toggleable style: style used for estimator/Pipeline/ColumnTransformer box that is\n",
       "clickable and can be expanded/collapsed.\n",
       "- Pipeline and ColumnTransformer use this feature and define the default style\n",
       "- Estimators will overwrite some part of the style using the `sk-estimator` class\n",
       "*/\n",
       "\n",
       "/* Pipeline and ColumnTransformer style (default) */\n",
       "\n",
       "#sk-container-id-1 div.sk-toggleable {\n",
       "  /* Default theme specific background. It is overwritten whether we have a\n",
       "  specific estimator or a Pipeline/ColumnTransformer */\n",
       "  background-color: var(--sklearn-color-background);\n",
       "}\n",
       "\n",
       "/* Toggleable label */\n",
       "#sk-container-id-1 label.sk-toggleable__label {\n",
       "  cursor: pointer;\n",
       "  display: block;\n",
       "  width: 100%;\n",
       "  margin-bottom: 0;\n",
       "  padding: 0.5em;\n",
       "  box-sizing: border-box;\n",
       "  text-align: center;\n",
       "}\n",
       "\n",
       "#sk-container-id-1 label.sk-toggleable__label-arrow:before {\n",
       "  /* Arrow on the left of the label */\n",
       "  content: \"▸\";\n",
       "  float: left;\n",
       "  margin-right: 0.25em;\n",
       "  color: var(--sklearn-color-icon);\n",
       "}\n",
       "\n",
       "#sk-container-id-1 label.sk-toggleable__label-arrow:hover:before {\n",
       "  color: var(--sklearn-color-text);\n",
       "}\n",
       "\n",
       "/* Toggleable content - dropdown */\n",
       "\n",
       "#sk-container-id-1 div.sk-toggleable__content {\n",
       "  max-height: 0;\n",
       "  max-width: 0;\n",
       "  overflow: hidden;\n",
       "  text-align: left;\n",
       "  /* unfitted */\n",
       "  background-color: var(--sklearn-color-unfitted-level-0);\n",
       "}\n",
       "\n",
       "#sk-container-id-1 div.sk-toggleable__content.fitted {\n",
       "  /* fitted */\n",
       "  background-color: var(--sklearn-color-fitted-level-0);\n",
       "}\n",
       "\n",
       "#sk-container-id-1 div.sk-toggleable__content pre {\n",
       "  margin: 0.2em;\n",
       "  border-radius: 0.25em;\n",
       "  color: var(--sklearn-color-text);\n",
       "  /* unfitted */\n",
       "  background-color: var(--sklearn-color-unfitted-level-0);\n",
       "}\n",
       "\n",
       "#sk-container-id-1 div.sk-toggleable__content.fitted pre {\n",
       "  /* unfitted */\n",
       "  background-color: var(--sklearn-color-fitted-level-0);\n",
       "}\n",
       "\n",
       "#sk-container-id-1 input.sk-toggleable__control:checked~div.sk-toggleable__content {\n",
       "  /* Expand drop-down */\n",
       "  max-height: 200px;\n",
       "  max-width: 100%;\n",
       "  overflow: auto;\n",
       "}\n",
       "\n",
       "#sk-container-id-1 input.sk-toggleable__control:checked~label.sk-toggleable__label-arrow:before {\n",
       "  content: \"▾\";\n",
       "}\n",
       "\n",
       "/* Pipeline/ColumnTransformer-specific style */\n",
       "\n",
       "#sk-container-id-1 div.sk-label input.sk-toggleable__control:checked~label.sk-toggleable__label {\n",
       "  color: var(--sklearn-color-text);\n",
       "  background-color: var(--sklearn-color-unfitted-level-2);\n",
       "}\n",
       "\n",
       "#sk-container-id-1 div.sk-label.fitted input.sk-toggleable__control:checked~label.sk-toggleable__label {\n",
       "  background-color: var(--sklearn-color-fitted-level-2);\n",
       "}\n",
       "\n",
       "/* Estimator-specific style */\n",
       "\n",
       "/* Colorize estimator box */\n",
       "#sk-container-id-1 div.sk-estimator input.sk-toggleable__control:checked~label.sk-toggleable__label {\n",
       "  /* unfitted */\n",
       "  background-color: var(--sklearn-color-unfitted-level-2);\n",
       "}\n",
       "\n",
       "#sk-container-id-1 div.sk-estimator.fitted input.sk-toggleable__control:checked~label.sk-toggleable__label {\n",
       "  /* fitted */\n",
       "  background-color: var(--sklearn-color-fitted-level-2);\n",
       "}\n",
       "\n",
       "#sk-container-id-1 div.sk-label label.sk-toggleable__label,\n",
       "#sk-container-id-1 div.sk-label label {\n",
       "  /* The background is the default theme color */\n",
       "  color: var(--sklearn-color-text-on-default-background);\n",
       "}\n",
       "\n",
       "/* On hover, darken the color of the background */\n",
       "#sk-container-id-1 div.sk-label:hover label.sk-toggleable__label {\n",
       "  color: var(--sklearn-color-text);\n",
       "  background-color: var(--sklearn-color-unfitted-level-2);\n",
       "}\n",
       "\n",
       "/* Label box, darken color on hover, fitted */\n",
       "#sk-container-id-1 div.sk-label.fitted:hover label.sk-toggleable__label.fitted {\n",
       "  color: var(--sklearn-color-text);\n",
       "  background-color: var(--sklearn-color-fitted-level-2);\n",
       "}\n",
       "\n",
       "/* Estimator label */\n",
       "\n",
       "#sk-container-id-1 div.sk-label label {\n",
       "  font-family: monospace;\n",
       "  font-weight: bold;\n",
       "  display: inline-block;\n",
       "  line-height: 1.2em;\n",
       "}\n",
       "\n",
       "#sk-container-id-1 div.sk-label-container {\n",
       "  text-align: center;\n",
       "}\n",
       "\n",
       "/* Estimator-specific */\n",
       "#sk-container-id-1 div.sk-estimator {\n",
       "  font-family: monospace;\n",
       "  border: 1px dotted var(--sklearn-color-border-box);\n",
       "  border-radius: 0.25em;\n",
       "  box-sizing: border-box;\n",
       "  margin-bottom: 0.5em;\n",
       "  /* unfitted */\n",
       "  background-color: var(--sklearn-color-unfitted-level-0);\n",
       "}\n",
       "\n",
       "#sk-container-id-1 div.sk-estimator.fitted {\n",
       "  /* fitted */\n",
       "  background-color: var(--sklearn-color-fitted-level-0);\n",
       "}\n",
       "\n",
       "/* on hover */\n",
       "#sk-container-id-1 div.sk-estimator:hover {\n",
       "  /* unfitted */\n",
       "  background-color: var(--sklearn-color-unfitted-level-2);\n",
       "}\n",
       "\n",
       "#sk-container-id-1 div.sk-estimator.fitted:hover {\n",
       "  /* fitted */\n",
       "  background-color: var(--sklearn-color-fitted-level-2);\n",
       "}\n",
       "\n",
       "/* Specification for estimator info (e.g. \"i\" and \"?\") */\n",
       "\n",
       "/* Common style for \"i\" and \"?\" */\n",
       "\n",
       ".sk-estimator-doc-link,\n",
       "a:link.sk-estimator-doc-link,\n",
       "a:visited.sk-estimator-doc-link {\n",
       "  float: right;\n",
       "  font-size: smaller;\n",
       "  line-height: 1em;\n",
       "  font-family: monospace;\n",
       "  background-color: var(--sklearn-color-background);\n",
       "  border-radius: 1em;\n",
       "  height: 1em;\n",
       "  width: 1em;\n",
       "  text-decoration: none !important;\n",
       "  margin-left: 1ex;\n",
       "  /* unfitted */\n",
       "  border: var(--sklearn-color-unfitted-level-1) 1pt solid;\n",
       "  color: var(--sklearn-color-unfitted-level-1);\n",
       "}\n",
       "\n",
       ".sk-estimator-doc-link.fitted,\n",
       "a:link.sk-estimator-doc-link.fitted,\n",
       "a:visited.sk-estimator-doc-link.fitted {\n",
       "  /* fitted */\n",
       "  border: var(--sklearn-color-fitted-level-1) 1pt solid;\n",
       "  color: var(--sklearn-color-fitted-level-1);\n",
       "}\n",
       "\n",
       "/* On hover */\n",
       "div.sk-estimator:hover .sk-estimator-doc-link:hover,\n",
       ".sk-estimator-doc-link:hover,\n",
       "div.sk-label-container:hover .sk-estimator-doc-link:hover,\n",
       ".sk-estimator-doc-link:hover {\n",
       "  /* unfitted */\n",
       "  background-color: var(--sklearn-color-unfitted-level-3);\n",
       "  color: var(--sklearn-color-background);\n",
       "  text-decoration: none;\n",
       "}\n",
       "\n",
       "div.sk-estimator.fitted:hover .sk-estimator-doc-link.fitted:hover,\n",
       ".sk-estimator-doc-link.fitted:hover,\n",
       "div.sk-label-container:hover .sk-estimator-doc-link.fitted:hover,\n",
       ".sk-estimator-doc-link.fitted:hover {\n",
       "  /* fitted */\n",
       "  background-color: var(--sklearn-color-fitted-level-3);\n",
       "  color: var(--sklearn-color-background);\n",
       "  text-decoration: none;\n",
       "}\n",
       "\n",
       "/* Span, style for the box shown on hovering the info icon */\n",
       ".sk-estimator-doc-link span {\n",
       "  display: none;\n",
       "  z-index: 9999;\n",
       "  position: relative;\n",
       "  font-weight: normal;\n",
       "  right: .2ex;\n",
       "  padding: .5ex;\n",
       "  margin: .5ex;\n",
       "  width: min-content;\n",
       "  min-width: 20ex;\n",
       "  max-width: 50ex;\n",
       "  color: var(--sklearn-color-text);\n",
       "  box-shadow: 2pt 2pt 4pt #999;\n",
       "  /* unfitted */\n",
       "  background: var(--sklearn-color-unfitted-level-0);\n",
       "  border: .5pt solid var(--sklearn-color-unfitted-level-3);\n",
       "}\n",
       "\n",
       ".sk-estimator-doc-link.fitted span {\n",
       "  /* fitted */\n",
       "  background: var(--sklearn-color-fitted-level-0);\n",
       "  border: var(--sklearn-color-fitted-level-3);\n",
       "}\n",
       "\n",
       ".sk-estimator-doc-link:hover span {\n",
       "  display: block;\n",
       "}\n",
       "\n",
       "/* \"?\"-specific style due to the `<a>` HTML tag */\n",
       "\n",
       "#sk-container-id-1 a.estimator_doc_link {\n",
       "  float: right;\n",
       "  font-size: 1rem;\n",
       "  line-height: 1em;\n",
       "  font-family: monospace;\n",
       "  background-color: var(--sklearn-color-background);\n",
       "  border-radius: 1rem;\n",
       "  height: 1rem;\n",
       "  width: 1rem;\n",
       "  text-decoration: none;\n",
       "  /* unfitted */\n",
       "  color: var(--sklearn-color-unfitted-level-1);\n",
       "  border: var(--sklearn-color-unfitted-level-1) 1pt solid;\n",
       "}\n",
       "\n",
       "#sk-container-id-1 a.estimator_doc_link.fitted {\n",
       "  /* fitted */\n",
       "  border: var(--sklearn-color-fitted-level-1) 1pt solid;\n",
       "  color: var(--sklearn-color-fitted-level-1);\n",
       "}\n",
       "\n",
       "/* On hover */\n",
       "#sk-container-id-1 a.estimator_doc_link:hover {\n",
       "  /* unfitted */\n",
       "  background-color: var(--sklearn-color-unfitted-level-3);\n",
       "  color: var(--sklearn-color-background);\n",
       "  text-decoration: none;\n",
       "}\n",
       "\n",
       "#sk-container-id-1 a.estimator_doc_link.fitted:hover {\n",
       "  /* fitted */\n",
       "  background-color: var(--sklearn-color-fitted-level-3);\n",
       "}\n",
       "</style><div id=\"sk-container-id-1\" class=\"sk-top-container\"><div class=\"sk-text-repr-fallback\"><pre>XGBRegressor(alpha=19.826494730847326, base_score=None, booster=None,\n",
       "             callbacks=None, colsample_bylevel=None, colsample_bynode=1.0,\n",
       "             colsample_bytree=0.4, device=None, early_stopping_rounds=None,\n",
       "             enable_categorical=False, eta=0.7, eval_metric=None,\n",
       "             feature_types=None, gamma=21, grow_policy=None,\n",
       "             importance_type=None, interaction_constraints=None,\n",
       "             lambda=3.6764439671750724, learning_rate=0.022, max_bin=None,\n",
       "             max_cat_threshold=None, max_cat_to_onehot=None,\n",
       "             max_delta_step=None, max_depth=10, max_leaves=None,\n",
       "             min_child_weight=32, missing=nan, monotone_constraints=None,\n",
       "             multi_strategy=None, n_estimators=855, ...)</pre><b>In a Jupyter environment, please rerun this cell to show the HTML representation or trust the notebook. <br />On GitHub, the HTML representation is unable to render, please try loading this page with nbviewer.org.</b></div><div class=\"sk-container\" hidden><div class=\"sk-item\"><div class=\"sk-estimator fitted sk-toggleable\"><input class=\"sk-toggleable__control sk-hidden--visually\" id=\"sk-estimator-id-1\" type=\"checkbox\" checked><label for=\"sk-estimator-id-1\" class=\"sk-toggleable__label fitted sk-toggleable__label-arrow fitted\">&nbsp;XGBRegressor<span class=\"sk-estimator-doc-link fitted\">i<span>Fitted</span></span></label><div class=\"sk-toggleable__content fitted\"><pre>XGBRegressor(alpha=19.826494730847326, base_score=None, booster=None,\n",
       "             callbacks=None, colsample_bylevel=None, colsample_bynode=1.0,\n",
       "             colsample_bytree=0.4, device=None, early_stopping_rounds=None,\n",
       "             enable_categorical=False, eta=0.7, eval_metric=None,\n",
       "             feature_types=None, gamma=21, grow_policy=None,\n",
       "             importance_type=None, interaction_constraints=None,\n",
       "             lambda=3.6764439671750724, learning_rate=0.022, max_bin=None,\n",
       "             max_cat_threshold=None, max_cat_to_onehot=None,\n",
       "             max_delta_step=None, max_depth=10, max_leaves=None,\n",
       "             min_child_weight=32, missing=nan, monotone_constraints=None,\n",
       "             multi_strategy=None, n_estimators=855, ...)</pre></div> </div></div></div></div>"
      ],
      "text/plain": [
       "XGBRegressor(alpha=19.826494730847326, base_score=None, booster=None,\n",
       "             callbacks=None, colsample_bylevel=None, colsample_bynode=1.0,\n",
       "             colsample_bytree=0.4, device=None, early_stopping_rounds=None,\n",
       "             enable_categorical=False, eta=0.7, eval_metric=None,\n",
       "             feature_types=None, gamma=21, grow_policy=None,\n",
       "             importance_type=None, interaction_constraints=None,\n",
       "             lambda=3.6764439671750724, learning_rate=0.022, max_bin=None,\n",
       "             max_cat_threshold=None, max_cat_to_onehot=None,\n",
       "             max_delta_step=None, max_depth=10, max_leaves=None,\n",
       "             min_child_weight=32, missing=nan, monotone_constraints=None,\n",
       "             multi_strategy=None, n_estimators=855, ...)"
      ]
     },
     "execution_count": 54,
     "metadata": {},
     "output_type": "execute_result"
    }
   ],
   "source": [
    "loaded_model"
   ]
  },
  {
   "cell_type": "code",
   "execution_count": 53,
   "metadata": {},
   "outputs": [],
   "source": [
    "loaded_model = joblib.load('XGBOOST_model.pkl')\n",
    "\n",
    "predictions_loaded_model = loaded_model.predict(X.head(10))"
   ]
  },
  {
   "cell_type": "code",
   "execution_count": 56,
   "metadata": {},
   "outputs": [
    {
     "data": {
      "text/plain": [
       "array([ 4681098.5,  6664277.5, 11472512. , 11104680. , 10536685. ,\n",
       "       23311934. ,  9408587. ,  5616191. , 13269797. ,  6943859.5],\n",
       "      dtype=float32)"
      ]
     },
     "execution_count": 56,
     "metadata": {},
     "output_type": "execute_result"
    }
   ],
   "source": [
    "predictions_loaded_model"
   ]
  },
  {
   "cell_type": "code",
   "execution_count": 100,
   "metadata": {},
   "outputs": [
    {
     "name": "stdout",
     "output_type": "stream",
     "text": [
      "False\n"
     ]
    }
   ],
   "source": [
    "print(df_nn.isnull().any().any())"
   ]
  },
  {
   "cell_type": "code",
   "execution_count": 84,
   "metadata": {},
   "outputs": [
    {
     "data": {
      "text/html": [
       "<div>\n",
       "<style scoped>\n",
       "    .dataframe tbody tr th:only-of-type {\n",
       "        vertical-align: middle;\n",
       "    }\n",
       "\n",
       "    .dataframe tbody tr th {\n",
       "        vertical-align: top;\n",
       "    }\n",
       "\n",
       "    .dataframe thead th {\n",
       "        text-align: right;\n",
       "    }\n",
       "</style>\n",
       "<table border=\"1\" class=\"dataframe\">\n",
       "  <thead>\n",
       "    <tr style=\"text-align: right;\">\n",
       "      <th></th>\n",
       "      <th>price</th>\n",
       "      <th>geo_lat</th>\n",
       "      <th>geo_lon</th>\n",
       "      <th>building_type</th>\n",
       "      <th>level</th>\n",
       "      <th>levels</th>\n",
       "      <th>rooms</th>\n",
       "      <th>area</th>\n",
       "      <th>kitchen_area</th>\n",
       "      <th>object_type</th>\n",
       "      <th>level_to_levels</th>\n",
       "      <th>year</th>\n",
       "      <th>month</th>\n",
       "      <th>area_to_rooms</th>\n",
       "    </tr>\n",
       "  </thead>\n",
       "  <tbody>\n",
       "    <tr>\n",
       "      <th>0</th>\n",
       "      <td>4704280</td>\n",
       "      <td>55.621</td>\n",
       "      <td>37.431</td>\n",
       "      <td>2</td>\n",
       "      <td>1</td>\n",
       "      <td>25</td>\n",
       "      <td>1</td>\n",
       "      <td>31.700</td>\n",
       "      <td>6.000</td>\n",
       "      <td>2</td>\n",
       "      <td>0.040</td>\n",
       "      <td>2018</td>\n",
       "      <td>3</td>\n",
       "      <td>31.700</td>\n",
       "    </tr>\n",
       "    <tr>\n",
       "      <th>1</th>\n",
       "      <td>8000000</td>\n",
       "      <td>55.739</td>\n",
       "      <td>37.825</td>\n",
       "      <td>1</td>\n",
       "      <td>5</td>\n",
       "      <td>9</td>\n",
       "      <td>2</td>\n",
       "      <td>45.000</td>\n",
       "      <td>6.000</td>\n",
       "      <td>1</td>\n",
       "      <td>0.556</td>\n",
       "      <td>2018</td>\n",
       "      <td>3</td>\n",
       "      <td>45.000</td>\n",
       "    </tr>\n",
       "    <tr>\n",
       "      <th>2</th>\n",
       "      <td>11500000</td>\n",
       "      <td>55.799</td>\n",
       "      <td>37.738</td>\n",
       "      <td>1</td>\n",
       "      <td>14</td>\n",
       "      <td>16</td>\n",
       "      <td>3</td>\n",
       "      <td>64.900</td>\n",
       "      <td>8.000</td>\n",
       "      <td>1</td>\n",
       "      <td>0.875</td>\n",
       "      <td>2018</td>\n",
       "      <td>4</td>\n",
       "      <td>64.900</td>\n",
       "    </tr>\n",
       "    <tr>\n",
       "      <th>3</th>\n",
       "      <td>10200000</td>\n",
       "      <td>55.655</td>\n",
       "      <td>37.615</td>\n",
       "      <td>2</td>\n",
       "      <td>7</td>\n",
       "      <td>14</td>\n",
       "      <td>2</td>\n",
       "      <td>52.800</td>\n",
       "      <td>10.000</td>\n",
       "      <td>1</td>\n",
       "      <td>0.500</td>\n",
       "      <td>2018</td>\n",
       "      <td>4</td>\n",
       "      <td>52.800</td>\n",
       "    </tr>\n",
       "    <tr>\n",
       "      <th>4</th>\n",
       "      <td>11500000</td>\n",
       "      <td>55.701</td>\n",
       "      <td>37.507</td>\n",
       "      <td>1</td>\n",
       "      <td>14</td>\n",
       "      <td>17</td>\n",
       "      <td>1</td>\n",
       "      <td>42.000</td>\n",
       "      <td>12.000</td>\n",
       "      <td>1</td>\n",
       "      <td>0.824</td>\n",
       "      <td>2018</td>\n",
       "      <td>4</td>\n",
       "      <td>42.000</td>\n",
       "    </tr>\n",
       "    <tr>\n",
       "      <th>...</th>\n",
       "      <td>...</td>\n",
       "      <td>...</td>\n",
       "      <td>...</td>\n",
       "      <td>...</td>\n",
       "      <td>...</td>\n",
       "      <td>...</td>\n",
       "      <td>...</td>\n",
       "      <td>...</td>\n",
       "      <td>...</td>\n",
       "      <td>...</td>\n",
       "      <td>...</td>\n",
       "      <td>...</td>\n",
       "      <td>...</td>\n",
       "      <td>...</td>\n",
       "    </tr>\n",
       "    <tr>\n",
       "      <th>382772</th>\n",
       "      <td>12850000</td>\n",
       "      <td>55.701</td>\n",
       "      <td>37.643</td>\n",
       "      <td>2</td>\n",
       "      <td>12</td>\n",
       "      <td>24</td>\n",
       "      <td>1</td>\n",
       "      <td>41.000</td>\n",
       "      <td>9.000</td>\n",
       "      <td>1</td>\n",
       "      <td>0.500</td>\n",
       "      <td>2021</td>\n",
       "      <td>5</td>\n",
       "      <td>41.000</td>\n",
       "    </tr>\n",
       "    <tr>\n",
       "      <th>382773</th>\n",
       "      <td>19739760</td>\n",
       "      <td>55.805</td>\n",
       "      <td>37.751</td>\n",
       "      <td>1</td>\n",
       "      <td>8</td>\n",
       "      <td>17</td>\n",
       "      <td>4</td>\n",
       "      <td>93.200</td>\n",
       "      <td>13.800</td>\n",
       "      <td>2</td>\n",
       "      <td>0.471</td>\n",
       "      <td>2021</td>\n",
       "      <td>5</td>\n",
       "      <td>93.200</td>\n",
       "    </tr>\n",
       "    <tr>\n",
       "      <th>382774</th>\n",
       "      <td>12503160</td>\n",
       "      <td>55.841</td>\n",
       "      <td>37.490</td>\n",
       "      <td>2</td>\n",
       "      <td>17</td>\n",
       "      <td>32</td>\n",
       "      <td>2</td>\n",
       "      <td>45.900</td>\n",
       "      <td>6.600</td>\n",
       "      <td>2</td>\n",
       "      <td>0.531</td>\n",
       "      <td>2021</td>\n",
       "      <td>5</td>\n",
       "      <td>45.900</td>\n",
       "    </tr>\n",
       "    <tr>\n",
       "      <th>382775</th>\n",
       "      <td>11831910</td>\n",
       "      <td>55.805</td>\n",
       "      <td>37.751</td>\n",
       "      <td>1</td>\n",
       "      <td>8</td>\n",
       "      <td>33</td>\n",
       "      <td>2</td>\n",
       "      <td>52.100</td>\n",
       "      <td>18.900</td>\n",
       "      <td>2</td>\n",
       "      <td>0.242</td>\n",
       "      <td>2021</td>\n",
       "      <td>5</td>\n",
       "      <td>52.100</td>\n",
       "    </tr>\n",
       "    <tr>\n",
       "      <th>382776</th>\n",
       "      <td>13316200</td>\n",
       "      <td>55.860</td>\n",
       "      <td>37.540</td>\n",
       "      <td>2</td>\n",
       "      <td>10</td>\n",
       "      <td>23</td>\n",
       "      <td>2</td>\n",
       "      <td>55.600</td>\n",
       "      <td>20.800</td>\n",
       "      <td>2</td>\n",
       "      <td>0.435</td>\n",
       "      <td>2021</td>\n",
       "      <td>5</td>\n",
       "      <td>55.600</td>\n",
       "    </tr>\n",
       "  </tbody>\n",
       "</table>\n",
       "<p>382777 rows × 14 columns</p>\n",
       "</div>"
      ],
      "text/plain": [
       "           price  geo_lat  geo_lon  building_type  level  levels  rooms  \\\n",
       "0        4704280   55.621   37.431              2      1      25      1   \n",
       "1        8000000   55.739   37.825              1      5       9      2   \n",
       "2       11500000   55.799   37.738              1     14      16      3   \n",
       "3       10200000   55.655   37.615              2      7      14      2   \n",
       "4       11500000   55.701   37.507              1     14      17      1   \n",
       "...          ...      ...      ...            ...    ...     ...    ...   \n",
       "382772  12850000   55.701   37.643              2     12      24      1   \n",
       "382773  19739760   55.805   37.751              1      8      17      4   \n",
       "382774  12503160   55.841   37.490              2     17      32      2   \n",
       "382775  11831910   55.805   37.751              1      8      33      2   \n",
       "382776  13316200   55.860   37.540              2     10      23      2   \n",
       "\n",
       "         area  kitchen_area  object_type  level_to_levels  year  month  \\\n",
       "0      31.700         6.000            2            0.040  2018      3   \n",
       "1      45.000         6.000            1            0.556  2018      3   \n",
       "2      64.900         8.000            1            0.875  2018      4   \n",
       "3      52.800        10.000            1            0.500  2018      4   \n",
       "4      42.000        12.000            1            0.824  2018      4   \n",
       "...       ...           ...          ...              ...   ...    ...   \n",
       "382772 41.000         9.000            1            0.500  2021      5   \n",
       "382773 93.200        13.800            2            0.471  2021      5   \n",
       "382774 45.900         6.600            2            0.531  2021      5   \n",
       "382775 52.100        18.900            2            0.242  2021      5   \n",
       "382776 55.600        20.800            2            0.435  2021      5   \n",
       "\n",
       "        area_to_rooms  \n",
       "0              31.700  \n",
       "1              45.000  \n",
       "2              64.900  \n",
       "3              52.800  \n",
       "4              42.000  \n",
       "...               ...  \n",
       "382772         41.000  \n",
       "382773         93.200  \n",
       "382774         45.900  \n",
       "382775         52.100  \n",
       "382776         55.600  \n",
       "\n",
       "[382777 rows x 14 columns]"
      ]
     },
     "execution_count": 84,
     "metadata": {},
     "output_type": "execute_result"
    }
   ],
   "source": [
    "df_nn[df_nn['area_to_rooms'].isnull()]\n",
    "df_nn['rooms'] = df_nn['rooms'].replace(0, 1)\n",
    "df_nn['area_to_rooms'] = df_nn['area']\n",
    "df_nn"
   ]
  },
  {
   "cell_type": "code",
   "execution_count": 31,
   "metadata": {},
   "outputs": [
    {
     "name": "stdout",
     "output_type": "stream",
     "text": [
      "Чекпоинт загружен с эпохи 100\n",
      "Эпоха 101, потеря: 28283414511616.0\n",
      "Эпоха 102, потеря: 10925718372352.0\n",
      "Эпоха 103, потеря: 24947648888832.0\n",
      "Эпоха 104, потеря: 10504447721472.0\n",
      "Эпоха 105, потеря: 5146701987840.0\n",
      "Эпоха 106, потеря: 15289549848576.0\n",
      "Эпоха 107, потеря: 20339939606528.0\n",
      "Эпоха 108, потеря: 35546093060096.0\n",
      "Эпоха 109, потеря: 39210358669312.0\n",
      "Эпоха 110, потеря: 5340415393792.0\n",
      "Эпоха 111, потеря: 13871335079936.0\n",
      "Эпоха 112, потеря: 45215700221952.0\n",
      "Эпоха 113, потеря: 14245395693568.0\n",
      "Эпоха 114, потеря: 18946902196224.0\n",
      "Эпоха 115, потеря: 12362404855808.0\n",
      "Эпоха 116, потеря: 9153460305920.0\n",
      "Эпоха 117, потеря: 12179103285248.0\n",
      "Эпоха 118, потеря: 12008949809152.0\n",
      "Эпоха 119, потеря: 34335272992768.0\n",
      "Эпоха 120, потеря: 6436248092672.0\n",
      "Эпоха 121, потеря: 39085506822144.0\n",
      "Эпоха 122, потеря: 5813150679040.0\n",
      "Эпоха 123, потеря: 19691238064128.0\n",
      "Эпоха 124, потеря: 9532986097664.0\n",
      "Эпоха 125, потеря: 36659009683456.0\n",
      "Эпоха 126, потеря: 23851131994112.0\n",
      "Эпоха 127, потеря: 27750372999168.0\n",
      "Эпоха 128, потеря: 23779818340352.0\n",
      "Эпоха 129, потеря: 16180134805504.0\n",
      "Эпоха 130, потеря: 33659113439232.0\n",
      "Эпоха 131, потеря: 9372444917760.0\n",
      "Эпоха 132, потеря: 6296499650560.0\n",
      "Эпоха 133, потеря: 38173824516096.0\n",
      "Эпоха 134, потеря: 27705558958080.0\n",
      "Эпоха 135, потеря: 20944254926848.0\n",
      "Эпоха 136, потеря: 61870207664128.0\n",
      "Эпоха 137, потеря: 7657137111040.0\n",
      "Эпоха 138, потеря: 4271501213696.0\n",
      "Эпоха 139, потеря: 15338162880512.0\n",
      "Эпоха 140, потеря: 31598248460288.0\n",
      "Эпоха 141, потеря: 29298230558720.0\n",
      "Эпоха 142, потеря: 4117764505600.0\n",
      "Эпоха 143, потеря: 10728082767872.0\n",
      "Эпоха 144, потеря: 10150965411840.0\n",
      "Эпоха 145, потеря: 4437034139648.0\n",
      "Эпоха 146, потеря: 5656418975744.0\n",
      "Эпоха 147, потеря: 35111277953024.0\n",
      "Эпоха 148, потеря: 79958340796416.0\n",
      "Эпоха 149, потеря: 9780338884608.0\n",
      "Эпоха 150, потеря: 67439207383040.0\n",
      "Чекпоинт сохранен в checkpoint.pth\n"
     ]
    }
   ],
   "source": [
    "import torch\n",
    "import torch.nn as nn\n",
    "import torch.optim as optim\n",
    "from torch.utils.data import DataLoader, TensorDataset\n",
    "from sklearn.model_selection import train_test_split\n",
    "import os\n",
    "\n",
    "device = torch.device(\"cuda\" if torch.cuda.is_available() else \"cpu\")\n",
    "\n",
    "\n",
    "class Net(nn.Module):\n",
    "    def __init__(self):\n",
    "        super(Net, self).__init__()\n",
    "        self.fc1 = nn.Linear(13, 64)  # 13 входных признака\n",
    "        self.fc2 = nn.Linear(64, 64)\n",
    "        self.fc3 = nn.Linear(64, 1)  # 1 выход (цена квартиры)\n",
    "\n",
    "    def forward(self, x):\n",
    "        x = torch.relu(self.fc1(x))\n",
    "        x = torch.relu(self.fc2(x))\n",
    "        x = self.fc3(x)\n",
    "        return x\n",
    "\n",
    "\n",
    "def save_checkpoint(model, optimizer, epoch, filepath):\n",
    "    checkpoint = {\n",
    "        'epoch': epoch,\n",
    "        'model_state_dict': model.state_dict(),\n",
    "        'optimizer_state_dict': optimizer.state_dict()\n",
    "    }\n",
    "    torch.save(checkpoint, filepath)\n",
    "    print(f'Чекпоинт сохранен в {filepath}')\n",
    "\n",
    "\n",
    "def load_checkpoint(model, optimizer, filepath):\n",
    "    checkpoint = torch.load(filepath)\n",
    "    model.load_state_dict(checkpoint['model_state_dict'])\n",
    "    optimizer.load_state_dict(checkpoint['optimizer_state_dict'])\n",
    "    epoch = checkpoint['epoch']\n",
    "    print(f'Чекпоинт загружен с эпохи {epoch}')\n",
    "    return epoch\n",
    "\n",
    "\n",
    "model = Net().to(device)\n",
    "\n",
    "\n",
    "criterion = nn.MSELoss()\n",
    "optimizer = optim.Adam(model.parameters(), lr=0.0001)\n",
    "\n",
    "\n",
    "X = df_nn.drop('price', axis=1)\n",
    "y = df_nn['price']\n",
    "\n",
    "X_train, X_test, y_train, y_test = train_test_split(X, y, test_size=0.2, random_state=42)\n",
    "\n",
    "\n",
    "X_train = torch.tensor(X_train.values, dtype=torch.float32).to(device)\n",
    "y_train = torch.tensor(y_train.values, dtype=torch.float32).to(device)\n",
    "\n",
    "\n",
    "dataset = TensorDataset(X_train, y_train)\n",
    "dataloader = DataLoader(dataset, batch_size=32, shuffle=True)\n",
    "\n",
    "\n",
    "start_epoch = 0\n",
    "\n",
    "checkpoint_filepath = 'checkpoint.pth'\n",
    "if os.path.exists(checkpoint_filepath):\n",
    "    start_epoch = load_checkpoint(model, optimizer, checkpoint_filepath)\n",
    "\n",
    "for epoch in range(start_epoch, 100): \n",
    "    model.train()  \n",
    "    for inputs, labels in dataloader:\n",
    "        inputs, labels = inputs.to(device), labels.to(device)\n",
    "        optimizer.zero_grad()\n",
    "        outputs = model(inputs)\n",
    "        labels = labels.view(-1, 1)  \n",
    "        loss = criterion(outputs, labels)\n",
    "        if torch.isnan(loss):\n",
    "            print(\"Loss is nan during training!\")\n",
    "            break\n",
    "        loss.backward()\n",
    "        optimizer.step()\n",
    "    print(f'Эпоха {epoch+1}, потеря: {loss.item()}')\n",
    "    \n",
    "save_checkpoint(model, optimizer, epoch+1, checkpoint_filepath)\n",
    "# 3457424556032.0\n",
    "# 28283414511616.0\n",
    "# 5146701987840.0"
   ]
  },
  {
   "cell_type": "code",
   "execution_count": 43,
   "metadata": {},
   "outputs": [
    {
     "data": {
      "text/plain": [
       "True"
      ]
     },
     "execution_count": 43,
     "metadata": {},
     "output_type": "execute_result"
    }
   ],
   "source": [
    "os.path.exists(checkpoint_filepath)"
   ]
  },
  {
   "cell_type": "code",
   "execution_count": 13,
   "metadata": {},
   "outputs": [
    {
     "name": "stdout",
     "output_type": "stream",
     "text": [
      "Fitting 3 folds for each of 9 candidates, totalling 27 fits\n"
     ]
    },
    {
     "ename": "KeyboardInterrupt",
     "evalue": "",
     "output_type": "error",
     "traceback": [
      "\u001b[1;31m---------------------------------------------------------------------------\u001b[0m",
      "\u001b[1;31mKeyboardInterrupt\u001b[0m                         Traceback (most recent call last)",
      "Cell \u001b[1;32mIn[13], line 80\u001b[0m\n\u001b[0;32m     77\u001b[0m X_train, X_test, y_train, y_test \u001b[38;5;241m=\u001b[39m train_test_split(X, y, test_size\u001b[38;5;241m=\u001b[39m\u001b[38;5;241m0.2\u001b[39m, random_state\u001b[38;5;241m=\u001b[39m\u001b[38;5;241m42\u001b[39m)\n\u001b[0;32m     79\u001b[0m \u001b[38;5;66;03m# Запускаем поиск по сетке\u001b[39;00m\n\u001b[1;32m---> 80\u001b[0m \u001b[43mgrid_search\u001b[49m\u001b[38;5;241;43m.\u001b[39;49m\u001b[43mfit\u001b[49m\u001b[43m(\u001b[49m\u001b[43mX_train\u001b[49m\u001b[43m,\u001b[49m\u001b[43m \u001b[49m\u001b[43my_train\u001b[49m\u001b[43m)\u001b[49m\n\u001b[0;32m     82\u001b[0m \u001b[38;5;66;03m# Лучшие параметры\u001b[39;00m\n\u001b[0;32m     83\u001b[0m best_params \u001b[38;5;241m=\u001b[39m grid_search\u001b[38;5;241m.\u001b[39mbest_params_\n",
      "File \u001b[1;32mc:\\Users\\Andrew\\AppData\\Local\\Programs\\Python\\Python39\\lib\\site-packages\\sklearn\\base.py:1351\u001b[0m, in \u001b[0;36m_fit_context.<locals>.decorator.<locals>.wrapper\u001b[1;34m(estimator, *args, **kwargs)\u001b[0m\n\u001b[0;32m   1344\u001b[0m     estimator\u001b[38;5;241m.\u001b[39m_validate_params()\n\u001b[0;32m   1346\u001b[0m \u001b[38;5;28;01mwith\u001b[39;00m config_context(\n\u001b[0;32m   1347\u001b[0m     skip_parameter_validation\u001b[38;5;241m=\u001b[39m(\n\u001b[0;32m   1348\u001b[0m         prefer_skip_nested_validation \u001b[38;5;129;01mor\u001b[39;00m global_skip_validation\n\u001b[0;32m   1349\u001b[0m     )\n\u001b[0;32m   1350\u001b[0m ):\n\u001b[1;32m-> 1351\u001b[0m     \u001b[38;5;28;01mreturn\u001b[39;00m fit_method(estimator, \u001b[38;5;241m*\u001b[39margs, \u001b[38;5;241m*\u001b[39m\u001b[38;5;241m*\u001b[39mkwargs)\n",
      "File \u001b[1;32mc:\\Users\\Andrew\\AppData\\Local\\Programs\\Python\\Python39\\lib\\site-packages\\sklearn\\model_selection\\_search.py:970\u001b[0m, in \u001b[0;36mBaseSearchCV.fit\u001b[1;34m(self, X, y, **params)\u001b[0m\n\u001b[0;32m    964\u001b[0m     results \u001b[38;5;241m=\u001b[39m \u001b[38;5;28mself\u001b[39m\u001b[38;5;241m.\u001b[39m_format_results(\n\u001b[0;32m    965\u001b[0m         all_candidate_params, n_splits, all_out, all_more_results\n\u001b[0;32m    966\u001b[0m     )\n\u001b[0;32m    968\u001b[0m     \u001b[38;5;28;01mreturn\u001b[39;00m results\n\u001b[1;32m--> 970\u001b[0m \u001b[38;5;28;43mself\u001b[39;49m\u001b[38;5;241;43m.\u001b[39;49m\u001b[43m_run_search\u001b[49m\u001b[43m(\u001b[49m\u001b[43mevaluate_candidates\u001b[49m\u001b[43m)\u001b[49m\n\u001b[0;32m    972\u001b[0m \u001b[38;5;66;03m# multimetric is determined here because in the case of a callable\u001b[39;00m\n\u001b[0;32m    973\u001b[0m \u001b[38;5;66;03m# self.scoring the return type is only known after calling\u001b[39;00m\n\u001b[0;32m    974\u001b[0m first_test_score \u001b[38;5;241m=\u001b[39m all_out[\u001b[38;5;241m0\u001b[39m][\u001b[38;5;124m\"\u001b[39m\u001b[38;5;124mtest_scores\u001b[39m\u001b[38;5;124m\"\u001b[39m]\n",
      "File \u001b[1;32mc:\\Users\\Andrew\\AppData\\Local\\Programs\\Python\\Python39\\lib\\site-packages\\sklearn\\model_selection\\_search.py:1527\u001b[0m, in \u001b[0;36mGridSearchCV._run_search\u001b[1;34m(self, evaluate_candidates)\u001b[0m\n\u001b[0;32m   1525\u001b[0m \u001b[38;5;28;01mdef\u001b[39;00m \u001b[38;5;21m_run_search\u001b[39m(\u001b[38;5;28mself\u001b[39m, evaluate_candidates):\n\u001b[0;32m   1526\u001b[0m \u001b[38;5;250m    \u001b[39m\u001b[38;5;124;03m\"\"\"Search all candidates in param_grid\"\"\"\u001b[39;00m\n\u001b[1;32m-> 1527\u001b[0m     \u001b[43mevaluate_candidates\u001b[49m\u001b[43m(\u001b[49m\u001b[43mParameterGrid\u001b[49m\u001b[43m(\u001b[49m\u001b[38;5;28;43mself\u001b[39;49m\u001b[38;5;241;43m.\u001b[39;49m\u001b[43mparam_grid\u001b[49m\u001b[43m)\u001b[49m\u001b[43m)\u001b[49m\n",
      "File \u001b[1;32mc:\\Users\\Andrew\\AppData\\Local\\Programs\\Python\\Python39\\lib\\site-packages\\sklearn\\model_selection\\_search.py:916\u001b[0m, in \u001b[0;36mBaseSearchCV.fit.<locals>.evaluate_candidates\u001b[1;34m(candidate_params, cv, more_results)\u001b[0m\n\u001b[0;32m    908\u001b[0m \u001b[38;5;28;01mif\u001b[39;00m \u001b[38;5;28mself\u001b[39m\u001b[38;5;241m.\u001b[39mverbose \u001b[38;5;241m>\u001b[39m \u001b[38;5;241m0\u001b[39m:\n\u001b[0;32m    909\u001b[0m     \u001b[38;5;28mprint\u001b[39m(\n\u001b[0;32m    910\u001b[0m         \u001b[38;5;124m\"\u001b[39m\u001b[38;5;124mFitting \u001b[39m\u001b[38;5;132;01m{0}\u001b[39;00m\u001b[38;5;124m folds for each of \u001b[39m\u001b[38;5;132;01m{1}\u001b[39;00m\u001b[38;5;124m candidates,\u001b[39m\u001b[38;5;124m\"\u001b[39m\n\u001b[0;32m    911\u001b[0m         \u001b[38;5;124m\"\u001b[39m\u001b[38;5;124m totalling \u001b[39m\u001b[38;5;132;01m{2}\u001b[39;00m\u001b[38;5;124m fits\u001b[39m\u001b[38;5;124m\"\u001b[39m\u001b[38;5;241m.\u001b[39mformat(\n\u001b[0;32m    912\u001b[0m             n_splits, n_candidates, n_candidates \u001b[38;5;241m*\u001b[39m n_splits\n\u001b[0;32m    913\u001b[0m         )\n\u001b[0;32m    914\u001b[0m     )\n\u001b[1;32m--> 916\u001b[0m out \u001b[38;5;241m=\u001b[39m \u001b[43mparallel\u001b[49m\u001b[43m(\u001b[49m\n\u001b[0;32m    917\u001b[0m \u001b[43m    \u001b[49m\u001b[43mdelayed\u001b[49m\u001b[43m(\u001b[49m\u001b[43m_fit_and_score\u001b[49m\u001b[43m)\u001b[49m\u001b[43m(\u001b[49m\n\u001b[0;32m    918\u001b[0m \u001b[43m        \u001b[49m\u001b[43mclone\u001b[49m\u001b[43m(\u001b[49m\u001b[43mbase_estimator\u001b[49m\u001b[43m)\u001b[49m\u001b[43m,\u001b[49m\n\u001b[0;32m    919\u001b[0m \u001b[43m        \u001b[49m\u001b[43mX\u001b[49m\u001b[43m,\u001b[49m\n\u001b[0;32m    920\u001b[0m \u001b[43m        \u001b[49m\u001b[43my\u001b[49m\u001b[43m,\u001b[49m\n\u001b[0;32m    921\u001b[0m \u001b[43m        \u001b[49m\u001b[43mtrain\u001b[49m\u001b[38;5;241;43m=\u001b[39;49m\u001b[43mtrain\u001b[49m\u001b[43m,\u001b[49m\n\u001b[0;32m    922\u001b[0m \u001b[43m        \u001b[49m\u001b[43mtest\u001b[49m\u001b[38;5;241;43m=\u001b[39;49m\u001b[43mtest\u001b[49m\u001b[43m,\u001b[49m\n\u001b[0;32m    923\u001b[0m \u001b[43m        \u001b[49m\u001b[43mparameters\u001b[49m\u001b[38;5;241;43m=\u001b[39;49m\u001b[43mparameters\u001b[49m\u001b[43m,\u001b[49m\n\u001b[0;32m    924\u001b[0m \u001b[43m        \u001b[49m\u001b[43msplit_progress\u001b[49m\u001b[38;5;241;43m=\u001b[39;49m\u001b[43m(\u001b[49m\u001b[43msplit_idx\u001b[49m\u001b[43m,\u001b[49m\u001b[43m \u001b[49m\u001b[43mn_splits\u001b[49m\u001b[43m)\u001b[49m\u001b[43m,\u001b[49m\n\u001b[0;32m    925\u001b[0m \u001b[43m        \u001b[49m\u001b[43mcandidate_progress\u001b[49m\u001b[38;5;241;43m=\u001b[39;49m\u001b[43m(\u001b[49m\u001b[43mcand_idx\u001b[49m\u001b[43m,\u001b[49m\u001b[43m \u001b[49m\u001b[43mn_candidates\u001b[49m\u001b[43m)\u001b[49m\u001b[43m,\u001b[49m\n\u001b[0;32m    926\u001b[0m \u001b[43m        \u001b[49m\u001b[38;5;241;43m*\u001b[39;49m\u001b[38;5;241;43m*\u001b[39;49m\u001b[43mfit_and_score_kwargs\u001b[49m\u001b[43m,\u001b[49m\n\u001b[0;32m    927\u001b[0m \u001b[43m    \u001b[49m\u001b[43m)\u001b[49m\n\u001b[0;32m    928\u001b[0m \u001b[43m    \u001b[49m\u001b[38;5;28;43;01mfor\u001b[39;49;00m\u001b[43m \u001b[49m\u001b[43m(\u001b[49m\u001b[43mcand_idx\u001b[49m\u001b[43m,\u001b[49m\u001b[43m \u001b[49m\u001b[43mparameters\u001b[49m\u001b[43m)\u001b[49m\u001b[43m,\u001b[49m\u001b[43m \u001b[49m\u001b[43m(\u001b[49m\u001b[43msplit_idx\u001b[49m\u001b[43m,\u001b[49m\u001b[43m \u001b[49m\u001b[43m(\u001b[49m\u001b[43mtrain\u001b[49m\u001b[43m,\u001b[49m\u001b[43m \u001b[49m\u001b[43mtest\u001b[49m\u001b[43m)\u001b[49m\u001b[43m)\u001b[49m\u001b[43m \u001b[49m\u001b[38;5;129;43;01min\u001b[39;49;00m\u001b[43m \u001b[49m\u001b[43mproduct\u001b[49m\u001b[43m(\u001b[49m\n\u001b[0;32m    929\u001b[0m \u001b[43m        \u001b[49m\u001b[38;5;28;43menumerate\u001b[39;49m\u001b[43m(\u001b[49m\u001b[43mcandidate_params\u001b[49m\u001b[43m)\u001b[49m\u001b[43m,\u001b[49m\n\u001b[0;32m    930\u001b[0m \u001b[43m        \u001b[49m\u001b[38;5;28;43menumerate\u001b[39;49m\u001b[43m(\u001b[49m\u001b[43mcv\u001b[49m\u001b[38;5;241;43m.\u001b[39;49m\u001b[43msplit\u001b[49m\u001b[43m(\u001b[49m\u001b[43mX\u001b[49m\u001b[43m,\u001b[49m\u001b[43m \u001b[49m\u001b[43my\u001b[49m\u001b[43m,\u001b[49m\u001b[43m \u001b[49m\u001b[38;5;241;43m*\u001b[39;49m\u001b[38;5;241;43m*\u001b[39;49m\u001b[43mrouted_params\u001b[49m\u001b[38;5;241;43m.\u001b[39;49m\u001b[43msplitter\u001b[49m\u001b[38;5;241;43m.\u001b[39;49m\u001b[43msplit\u001b[49m\u001b[43m)\u001b[49m\u001b[43m)\u001b[49m\u001b[43m,\u001b[49m\n\u001b[0;32m    931\u001b[0m \u001b[43m    \u001b[49m\u001b[43m)\u001b[49m\n\u001b[0;32m    932\u001b[0m \u001b[43m\u001b[49m\u001b[43m)\u001b[49m\n\u001b[0;32m    934\u001b[0m \u001b[38;5;28;01mif\u001b[39;00m \u001b[38;5;28mlen\u001b[39m(out) \u001b[38;5;241m<\u001b[39m \u001b[38;5;241m1\u001b[39m:\n\u001b[0;32m    935\u001b[0m     \u001b[38;5;28;01mraise\u001b[39;00m \u001b[38;5;167;01mValueError\u001b[39;00m(\n\u001b[0;32m    936\u001b[0m         \u001b[38;5;124m\"\u001b[39m\u001b[38;5;124mNo fits were performed. \u001b[39m\u001b[38;5;124m\"\u001b[39m\n\u001b[0;32m    937\u001b[0m         \u001b[38;5;124m\"\u001b[39m\u001b[38;5;124mWas the CV iterator empty? \u001b[39m\u001b[38;5;124m\"\u001b[39m\n\u001b[0;32m    938\u001b[0m         \u001b[38;5;124m\"\u001b[39m\u001b[38;5;124mWere there no candidates?\u001b[39m\u001b[38;5;124m\"\u001b[39m\n\u001b[0;32m    939\u001b[0m     )\n",
      "File \u001b[1;32mc:\\Users\\Andrew\\AppData\\Local\\Programs\\Python\\Python39\\lib\\site-packages\\sklearn\\utils\\parallel.py:67\u001b[0m, in \u001b[0;36mParallel.__call__\u001b[1;34m(self, iterable)\u001b[0m\n\u001b[0;32m     62\u001b[0m config \u001b[38;5;241m=\u001b[39m get_config()\n\u001b[0;32m     63\u001b[0m iterable_with_config \u001b[38;5;241m=\u001b[39m (\n\u001b[0;32m     64\u001b[0m     (_with_config(delayed_func, config), args, kwargs)\n\u001b[0;32m     65\u001b[0m     \u001b[38;5;28;01mfor\u001b[39;00m delayed_func, args, kwargs \u001b[38;5;129;01min\u001b[39;00m iterable\n\u001b[0;32m     66\u001b[0m )\n\u001b[1;32m---> 67\u001b[0m \u001b[38;5;28;01mreturn\u001b[39;00m \u001b[38;5;28;43msuper\u001b[39;49m\u001b[43m(\u001b[49m\u001b[43m)\u001b[49m\u001b[38;5;241;43m.\u001b[39;49m\u001b[38;5;21;43m__call__\u001b[39;49m\u001b[43m(\u001b[49m\u001b[43miterable_with_config\u001b[49m\u001b[43m)\u001b[49m\n",
      "File \u001b[1;32mc:\\Users\\Andrew\\AppData\\Local\\Programs\\Python\\Python39\\lib\\site-packages\\joblib\\parallel.py:1863\u001b[0m, in \u001b[0;36mParallel.__call__\u001b[1;34m(self, iterable)\u001b[0m\n\u001b[0;32m   1861\u001b[0m     output \u001b[38;5;241m=\u001b[39m \u001b[38;5;28mself\u001b[39m\u001b[38;5;241m.\u001b[39m_get_sequential_output(iterable)\n\u001b[0;32m   1862\u001b[0m     \u001b[38;5;28mnext\u001b[39m(output)\n\u001b[1;32m-> 1863\u001b[0m     \u001b[38;5;28;01mreturn\u001b[39;00m output \u001b[38;5;28;01mif\u001b[39;00m \u001b[38;5;28mself\u001b[39m\u001b[38;5;241m.\u001b[39mreturn_generator \u001b[38;5;28;01melse\u001b[39;00m \u001b[38;5;28;43mlist\u001b[39;49m\u001b[43m(\u001b[49m\u001b[43moutput\u001b[49m\u001b[43m)\u001b[49m\n\u001b[0;32m   1865\u001b[0m \u001b[38;5;66;03m# Let's create an ID that uniquely identifies the current call. If the\u001b[39;00m\n\u001b[0;32m   1866\u001b[0m \u001b[38;5;66;03m# call is interrupted early and that the same instance is immediately\u001b[39;00m\n\u001b[0;32m   1867\u001b[0m \u001b[38;5;66;03m# re-used, this id will be used to prevent workers that were\u001b[39;00m\n\u001b[0;32m   1868\u001b[0m \u001b[38;5;66;03m# concurrently finalizing a task from the previous call to run the\u001b[39;00m\n\u001b[0;32m   1869\u001b[0m \u001b[38;5;66;03m# callback.\u001b[39;00m\n\u001b[0;32m   1870\u001b[0m \u001b[38;5;28;01mwith\u001b[39;00m \u001b[38;5;28mself\u001b[39m\u001b[38;5;241m.\u001b[39m_lock:\n",
      "File \u001b[1;32mc:\\Users\\Andrew\\AppData\\Local\\Programs\\Python\\Python39\\lib\\site-packages\\joblib\\parallel.py:1792\u001b[0m, in \u001b[0;36mParallel._get_sequential_output\u001b[1;34m(self, iterable)\u001b[0m\n\u001b[0;32m   1790\u001b[0m \u001b[38;5;28mself\u001b[39m\u001b[38;5;241m.\u001b[39mn_dispatched_batches \u001b[38;5;241m+\u001b[39m\u001b[38;5;241m=\u001b[39m \u001b[38;5;241m1\u001b[39m\n\u001b[0;32m   1791\u001b[0m \u001b[38;5;28mself\u001b[39m\u001b[38;5;241m.\u001b[39mn_dispatched_tasks \u001b[38;5;241m+\u001b[39m\u001b[38;5;241m=\u001b[39m \u001b[38;5;241m1\u001b[39m\n\u001b[1;32m-> 1792\u001b[0m res \u001b[38;5;241m=\u001b[39m func(\u001b[38;5;241m*\u001b[39margs, \u001b[38;5;241m*\u001b[39m\u001b[38;5;241m*\u001b[39mkwargs)\n\u001b[0;32m   1793\u001b[0m \u001b[38;5;28mself\u001b[39m\u001b[38;5;241m.\u001b[39mn_completed_tasks \u001b[38;5;241m+\u001b[39m\u001b[38;5;241m=\u001b[39m \u001b[38;5;241m1\u001b[39m\n\u001b[0;32m   1794\u001b[0m \u001b[38;5;28mself\u001b[39m\u001b[38;5;241m.\u001b[39mprint_progress()\n",
      "File \u001b[1;32mc:\\Users\\Andrew\\AppData\\Local\\Programs\\Python\\Python39\\lib\\site-packages\\sklearn\\utils\\parallel.py:129\u001b[0m, in \u001b[0;36m_FuncWrapper.__call__\u001b[1;34m(self, *args, **kwargs)\u001b[0m\n\u001b[0;32m    127\u001b[0m     config \u001b[38;5;241m=\u001b[39m {}\n\u001b[0;32m    128\u001b[0m \u001b[38;5;28;01mwith\u001b[39;00m config_context(\u001b[38;5;241m*\u001b[39m\u001b[38;5;241m*\u001b[39mconfig):\n\u001b[1;32m--> 129\u001b[0m     \u001b[38;5;28;01mreturn\u001b[39;00m \u001b[38;5;28mself\u001b[39m\u001b[38;5;241m.\u001b[39mfunction(\u001b[38;5;241m*\u001b[39margs, \u001b[38;5;241m*\u001b[39m\u001b[38;5;241m*\u001b[39mkwargs)\n",
      "File \u001b[1;32mc:\\Users\\Andrew\\AppData\\Local\\Programs\\Python\\Python39\\lib\\site-packages\\sklearn\\model_selection\\_validation.py:890\u001b[0m, in \u001b[0;36m_fit_and_score\u001b[1;34m(estimator, X, y, scorer, train, test, verbose, parameters, fit_params, score_params, return_train_score, return_parameters, return_n_test_samples, return_times, return_estimator, split_progress, candidate_progress, error_score)\u001b[0m\n\u001b[0;32m    888\u001b[0m         estimator\u001b[38;5;241m.\u001b[39mfit(X_train, \u001b[38;5;241m*\u001b[39m\u001b[38;5;241m*\u001b[39mfit_params)\n\u001b[0;32m    889\u001b[0m     \u001b[38;5;28;01melse\u001b[39;00m:\n\u001b[1;32m--> 890\u001b[0m         estimator\u001b[38;5;241m.\u001b[39mfit(X_train, y_train, \u001b[38;5;241m*\u001b[39m\u001b[38;5;241m*\u001b[39mfit_params)\n\u001b[0;32m    892\u001b[0m \u001b[38;5;28;01mexcept\u001b[39;00m \u001b[38;5;167;01mException\u001b[39;00m:\n\u001b[0;32m    893\u001b[0m     \u001b[38;5;66;03m# Note fit time as time until error\u001b[39;00m\n\u001b[0;32m    894\u001b[0m     fit_time \u001b[38;5;241m=\u001b[39m time\u001b[38;5;241m.\u001b[39mtime() \u001b[38;5;241m-\u001b[39m start_time\n",
      "Cell \u001b[1;32mIn[13], line 42\u001b[0m, in \u001b[0;36mPyTorchRegressor.fit\u001b[1;34m(self, X, y)\u001b[0m\n\u001b[0;32m     40\u001b[0m \u001b[38;5;28;01mfor\u001b[39;00m epoch \u001b[38;5;129;01min\u001b[39;00m \u001b[38;5;28mrange\u001b[39m(\u001b[38;5;28mself\u001b[39m\u001b[38;5;241m.\u001b[39mepochs):\n\u001b[0;32m     41\u001b[0m     \u001b[38;5;28mself\u001b[39m\u001b[38;5;241m.\u001b[39mmodel\u001b[38;5;241m.\u001b[39mtrain()\n\u001b[1;32m---> 42\u001b[0m     \u001b[38;5;28;01mfor\u001b[39;00m inputs, labels \u001b[38;5;129;01min\u001b[39;00m dataloader:\n\u001b[0;32m     43\u001b[0m         \u001b[38;5;28mself\u001b[39m\u001b[38;5;241m.\u001b[39moptimizer\u001b[38;5;241m.\u001b[39mzero_grad()\n\u001b[0;32m     44\u001b[0m         outputs \u001b[38;5;241m=\u001b[39m \u001b[38;5;28mself\u001b[39m\u001b[38;5;241m.\u001b[39mmodel(inputs)\n",
      "File \u001b[1;32mc:\\Users\\Andrew\\AppData\\Local\\Programs\\Python\\Python39\\lib\\site-packages\\torch\\utils\\data\\dataloader.py:631\u001b[0m, in \u001b[0;36m_BaseDataLoaderIter.__next__\u001b[1;34m(self)\u001b[0m\n\u001b[0;32m    628\u001b[0m \u001b[38;5;28;01mif\u001b[39;00m \u001b[38;5;28mself\u001b[39m\u001b[38;5;241m.\u001b[39m_sampler_iter \u001b[38;5;129;01mis\u001b[39;00m \u001b[38;5;28;01mNone\u001b[39;00m:\n\u001b[0;32m    629\u001b[0m     \u001b[38;5;66;03m# TODO(https://github.com/pytorch/pytorch/issues/76750)\u001b[39;00m\n\u001b[0;32m    630\u001b[0m     \u001b[38;5;28mself\u001b[39m\u001b[38;5;241m.\u001b[39m_reset()  \u001b[38;5;66;03m# type: ignore[call-arg]\u001b[39;00m\n\u001b[1;32m--> 631\u001b[0m data \u001b[38;5;241m=\u001b[39m \u001b[38;5;28;43mself\u001b[39;49m\u001b[38;5;241;43m.\u001b[39;49m\u001b[43m_next_data\u001b[49m\u001b[43m(\u001b[49m\u001b[43m)\u001b[49m\n\u001b[0;32m    632\u001b[0m \u001b[38;5;28mself\u001b[39m\u001b[38;5;241m.\u001b[39m_num_yielded \u001b[38;5;241m+\u001b[39m\u001b[38;5;241m=\u001b[39m \u001b[38;5;241m1\u001b[39m\n\u001b[0;32m    633\u001b[0m \u001b[38;5;28;01mif\u001b[39;00m \u001b[38;5;28mself\u001b[39m\u001b[38;5;241m.\u001b[39m_dataset_kind \u001b[38;5;241m==\u001b[39m _DatasetKind\u001b[38;5;241m.\u001b[39mIterable \u001b[38;5;129;01mand\u001b[39;00m \\\n\u001b[0;32m    634\u001b[0m         \u001b[38;5;28mself\u001b[39m\u001b[38;5;241m.\u001b[39m_IterableDataset_len_called \u001b[38;5;129;01mis\u001b[39;00m \u001b[38;5;129;01mnot\u001b[39;00m \u001b[38;5;28;01mNone\u001b[39;00m \u001b[38;5;129;01mand\u001b[39;00m \\\n\u001b[0;32m    635\u001b[0m         \u001b[38;5;28mself\u001b[39m\u001b[38;5;241m.\u001b[39m_num_yielded \u001b[38;5;241m>\u001b[39m \u001b[38;5;28mself\u001b[39m\u001b[38;5;241m.\u001b[39m_IterableDataset_len_called:\n",
      "File \u001b[1;32mc:\\Users\\Andrew\\AppData\\Local\\Programs\\Python\\Python39\\lib\\site-packages\\torch\\utils\\data\\dataloader.py:675\u001b[0m, in \u001b[0;36m_SingleProcessDataLoaderIter._next_data\u001b[1;34m(self)\u001b[0m\n\u001b[0;32m    673\u001b[0m \u001b[38;5;28;01mdef\u001b[39;00m \u001b[38;5;21m_next_data\u001b[39m(\u001b[38;5;28mself\u001b[39m):\n\u001b[0;32m    674\u001b[0m     index \u001b[38;5;241m=\u001b[39m \u001b[38;5;28mself\u001b[39m\u001b[38;5;241m.\u001b[39m_next_index()  \u001b[38;5;66;03m# may raise StopIteration\u001b[39;00m\n\u001b[1;32m--> 675\u001b[0m     data \u001b[38;5;241m=\u001b[39m \u001b[38;5;28;43mself\u001b[39;49m\u001b[38;5;241;43m.\u001b[39;49m\u001b[43m_dataset_fetcher\u001b[49m\u001b[38;5;241;43m.\u001b[39;49m\u001b[43mfetch\u001b[49m\u001b[43m(\u001b[49m\u001b[43mindex\u001b[49m\u001b[43m)\u001b[49m  \u001b[38;5;66;03m# may raise StopIteration\u001b[39;00m\n\u001b[0;32m    676\u001b[0m     \u001b[38;5;28;01mif\u001b[39;00m \u001b[38;5;28mself\u001b[39m\u001b[38;5;241m.\u001b[39m_pin_memory:\n\u001b[0;32m    677\u001b[0m         data \u001b[38;5;241m=\u001b[39m _utils\u001b[38;5;241m.\u001b[39mpin_memory\u001b[38;5;241m.\u001b[39mpin_memory(data, \u001b[38;5;28mself\u001b[39m\u001b[38;5;241m.\u001b[39m_pin_memory_device)\n",
      "File \u001b[1;32mc:\\Users\\Andrew\\AppData\\Local\\Programs\\Python\\Python39\\lib\\site-packages\\torch\\utils\\data\\_utils\\fetch.py:54\u001b[0m, in \u001b[0;36m_MapDatasetFetcher.fetch\u001b[1;34m(self, possibly_batched_index)\u001b[0m\n\u001b[0;32m     52\u001b[0m \u001b[38;5;28;01melse\u001b[39;00m:\n\u001b[0;32m     53\u001b[0m     data \u001b[38;5;241m=\u001b[39m \u001b[38;5;28mself\u001b[39m\u001b[38;5;241m.\u001b[39mdataset[possibly_batched_index]\n\u001b[1;32m---> 54\u001b[0m \u001b[38;5;28;01mreturn\u001b[39;00m \u001b[38;5;28;43mself\u001b[39;49m\u001b[38;5;241;43m.\u001b[39;49m\u001b[43mcollate_fn\u001b[49m\u001b[43m(\u001b[49m\u001b[43mdata\u001b[49m\u001b[43m)\u001b[49m\n",
      "File \u001b[1;32mc:\\Users\\Andrew\\AppData\\Local\\Programs\\Python\\Python39\\lib\\site-packages\\torch\\utils\\data\\_utils\\collate.py:277\u001b[0m, in \u001b[0;36mdefault_collate\u001b[1;34m(batch)\u001b[0m\n\u001b[0;32m    216\u001b[0m \u001b[38;5;28;01mdef\u001b[39;00m \u001b[38;5;21mdefault_collate\u001b[39m(batch):\n\u001b[0;32m    217\u001b[0m \u001b[38;5;250m    \u001b[39m\u001b[38;5;124mr\u001b[39m\u001b[38;5;124;03m\"\"\"\u001b[39;00m\n\u001b[0;32m    218\u001b[0m \u001b[38;5;124;03m    Take in a batch of data and put the elements within the batch into a tensor with an additional outer dimension - batch size.\u001b[39;00m\n\u001b[0;32m    219\u001b[0m \n\u001b[1;32m   (...)\u001b[0m\n\u001b[0;32m    275\u001b[0m \u001b[38;5;124;03m        >>> default_collate(batch)  # Handle `CustomType` automatically\u001b[39;00m\n\u001b[0;32m    276\u001b[0m \u001b[38;5;124;03m    \"\"\"\u001b[39;00m\n\u001b[1;32m--> 277\u001b[0m     \u001b[38;5;28;01mreturn\u001b[39;00m \u001b[43mcollate\u001b[49m\u001b[43m(\u001b[49m\u001b[43mbatch\u001b[49m\u001b[43m,\u001b[49m\u001b[43m \u001b[49m\u001b[43mcollate_fn_map\u001b[49m\u001b[38;5;241;43m=\u001b[39;49m\u001b[43mdefault_collate_fn_map\u001b[49m\u001b[43m)\u001b[49m\n",
      "File \u001b[1;32mc:\\Users\\Andrew\\AppData\\Local\\Programs\\Python\\Python39\\lib\\site-packages\\torch\\utils\\data\\_utils\\collate.py:144\u001b[0m, in \u001b[0;36mcollate\u001b[1;34m(batch, collate_fn_map)\u001b[0m\n\u001b[0;32m    141\u001b[0m transposed \u001b[38;5;241m=\u001b[39m \u001b[38;5;28mlist\u001b[39m(\u001b[38;5;28mzip\u001b[39m(\u001b[38;5;241m*\u001b[39mbatch))  \u001b[38;5;66;03m# It may be accessed twice, so we use a list.\u001b[39;00m\n\u001b[0;32m    143\u001b[0m \u001b[38;5;28;01mif\u001b[39;00m \u001b[38;5;28misinstance\u001b[39m(elem, \u001b[38;5;28mtuple\u001b[39m):\n\u001b[1;32m--> 144\u001b[0m     \u001b[38;5;28;01mreturn\u001b[39;00m [collate(samples, collate_fn_map\u001b[38;5;241m=\u001b[39mcollate_fn_map) \u001b[38;5;28;01mfor\u001b[39;00m samples \u001b[38;5;129;01min\u001b[39;00m transposed]  \u001b[38;5;66;03m# Backwards compatibility.\u001b[39;00m\n\u001b[0;32m    145\u001b[0m \u001b[38;5;28;01melse\u001b[39;00m:\n\u001b[0;32m    146\u001b[0m     \u001b[38;5;28;01mtry\u001b[39;00m:\n",
      "File \u001b[1;32mc:\\Users\\Andrew\\AppData\\Local\\Programs\\Python\\Python39\\lib\\site-packages\\torch\\utils\\data\\_utils\\collate.py:144\u001b[0m, in \u001b[0;36m<listcomp>\u001b[1;34m(.0)\u001b[0m\n\u001b[0;32m    141\u001b[0m transposed \u001b[38;5;241m=\u001b[39m \u001b[38;5;28mlist\u001b[39m(\u001b[38;5;28mzip\u001b[39m(\u001b[38;5;241m*\u001b[39mbatch))  \u001b[38;5;66;03m# It may be accessed twice, so we use a list.\u001b[39;00m\n\u001b[0;32m    143\u001b[0m \u001b[38;5;28;01mif\u001b[39;00m \u001b[38;5;28misinstance\u001b[39m(elem, \u001b[38;5;28mtuple\u001b[39m):\n\u001b[1;32m--> 144\u001b[0m     \u001b[38;5;28;01mreturn\u001b[39;00m [\u001b[43mcollate\u001b[49m\u001b[43m(\u001b[49m\u001b[43msamples\u001b[49m\u001b[43m,\u001b[49m\u001b[43m \u001b[49m\u001b[43mcollate_fn_map\u001b[49m\u001b[38;5;241;43m=\u001b[39;49m\u001b[43mcollate_fn_map\u001b[49m\u001b[43m)\u001b[49m \u001b[38;5;28;01mfor\u001b[39;00m samples \u001b[38;5;129;01min\u001b[39;00m transposed]  \u001b[38;5;66;03m# Backwards compatibility.\u001b[39;00m\n\u001b[0;32m    145\u001b[0m \u001b[38;5;28;01melse\u001b[39;00m:\n\u001b[0;32m    146\u001b[0m     \u001b[38;5;28;01mtry\u001b[39;00m:\n",
      "File \u001b[1;32mc:\\Users\\Andrew\\AppData\\Local\\Programs\\Python\\Python39\\lib\\site-packages\\torch\\utils\\data\\_utils\\collate.py:121\u001b[0m, in \u001b[0;36mcollate\u001b[1;34m(batch, collate_fn_map)\u001b[0m\n\u001b[0;32m    119\u001b[0m \u001b[38;5;28;01mif\u001b[39;00m collate_fn_map \u001b[38;5;129;01mis\u001b[39;00m \u001b[38;5;129;01mnot\u001b[39;00m \u001b[38;5;28;01mNone\u001b[39;00m:\n\u001b[0;32m    120\u001b[0m     \u001b[38;5;28;01mif\u001b[39;00m elem_type \u001b[38;5;129;01min\u001b[39;00m collate_fn_map:\n\u001b[1;32m--> 121\u001b[0m         \u001b[38;5;28;01mreturn\u001b[39;00m \u001b[43mcollate_fn_map\u001b[49m\u001b[43m[\u001b[49m\u001b[43melem_type\u001b[49m\u001b[43m]\u001b[49m\u001b[43m(\u001b[49m\u001b[43mbatch\u001b[49m\u001b[43m,\u001b[49m\u001b[43m \u001b[49m\u001b[43mcollate_fn_map\u001b[49m\u001b[38;5;241;43m=\u001b[39;49m\u001b[43mcollate_fn_map\u001b[49m\u001b[43m)\u001b[49m\n\u001b[0;32m    123\u001b[0m     \u001b[38;5;28;01mfor\u001b[39;00m collate_type \u001b[38;5;129;01min\u001b[39;00m collate_fn_map:\n\u001b[0;32m    124\u001b[0m         \u001b[38;5;28;01mif\u001b[39;00m \u001b[38;5;28misinstance\u001b[39m(elem, collate_type):\n",
      "File \u001b[1;32mc:\\Users\\Andrew\\AppData\\Local\\Programs\\Python\\Python39\\lib\\site-packages\\torch\\utils\\data\\_utils\\collate.py:174\u001b[0m, in \u001b[0;36mcollate_tensor_fn\u001b[1;34m(batch, collate_fn_map)\u001b[0m\n\u001b[0;32m    172\u001b[0m     storage \u001b[38;5;241m=\u001b[39m elem\u001b[38;5;241m.\u001b[39m_typed_storage()\u001b[38;5;241m.\u001b[39m_new_shared(numel, device\u001b[38;5;241m=\u001b[39melem\u001b[38;5;241m.\u001b[39mdevice)\n\u001b[0;32m    173\u001b[0m     out \u001b[38;5;241m=\u001b[39m elem\u001b[38;5;241m.\u001b[39mnew(storage)\u001b[38;5;241m.\u001b[39mresize_(\u001b[38;5;28mlen\u001b[39m(batch), \u001b[38;5;241m*\u001b[39m\u001b[38;5;28mlist\u001b[39m(elem\u001b[38;5;241m.\u001b[39msize()))\n\u001b[1;32m--> 174\u001b[0m \u001b[38;5;28;01mreturn\u001b[39;00m \u001b[43mtorch\u001b[49m\u001b[38;5;241;43m.\u001b[39;49m\u001b[43mstack\u001b[49m\u001b[43m(\u001b[49m\u001b[43mbatch\u001b[49m\u001b[43m,\u001b[49m\u001b[43m \u001b[49m\u001b[38;5;241;43m0\u001b[39;49m\u001b[43m,\u001b[49m\u001b[43m \u001b[49m\u001b[43mout\u001b[49m\u001b[38;5;241;43m=\u001b[39;49m\u001b[43mout\u001b[49m\u001b[43m)\u001b[49m\n",
      "\u001b[1;31mKeyboardInterrupt\u001b[0m: "
     ]
    }
   ],
   "source": [
    "import torch\n",
    "import torch.nn as nn\n",
    "import torch.optim as optim\n",
    "from torch.utils.data import DataLoader, TensorDataset\n",
    "from sklearn.model_selection import train_test_split, GridSearchCV\n",
    "from sklearn.metrics import mean_squared_error\n",
    "from sklearn.base import BaseEstimator, RegressorMixin\n",
    "import numpy as np\n",
    "\n",
    "class Net(nn.Module):\n",
    "    def __init__(self, input_size, hidden_size):\n",
    "        super(Net, self).__init__()\n",
    "        self.fc1 = nn.Linear(input_size, hidden_size)  \n",
    "        self.fc2 = nn.Linear(hidden_size, hidden_size)\n",
    "        self.fc3 = nn.Linear(hidden_size, 1) \n",
    "\n",
    "    def forward(self, x):\n",
    "        x = torch.relu(self.fc1(x))\n",
    "        x = torch.relu(self.fc2(x))\n",
    "        x = self.fc3(x)\n",
    "        return x\n",
    "\n",
    "class PyTorchRegressor(BaseEstimator, RegressorMixin):\n",
    "    def __init__(self, input_size=13, hidden_size=64, lr=0.001, epochs=100):\n",
    "        self.input_size = input_size\n",
    "        self.hidden_size = hidden_size\n",
    "        self.lr = lr\n",
    "        self.epochs = epochs\n",
    "        self.model = Net(input_size, hidden_size)\n",
    "        self.criterion = nn.MSELoss()\n",
    "        self.optimizer = optim.Adam(self.model.parameters(), lr=lr)\n",
    "\n",
    "    def fit(self, X, y):\n",
    "        dataset = TensorDataset(torch.tensor(X.values, dtype=torch.float32), \n",
    "                                torch.tensor(y.values, dtype=torch.float32))\n",
    "        dataloader = DataLoader(dataset, batch_size=32, shuffle=True)\n",
    "        \n",
    "        for epoch in range(self.epochs):\n",
    "            self.model.train()\n",
    "            for inputs, labels in dataloader:\n",
    "                self.optimizer.zero_grad()\n",
    "                outputs = self.model(inputs)\n",
    "                labels = labels.view(-1, 1)\n",
    "                loss = self.criterion(outputs, labels)\n",
    "                loss.backward()\n",
    "                self.optimizer.step()\n",
    "                \n",
    "        print(f'Обучение завершено для параметров: hidden_size={self.hidden_size}, lr={self.lr}, epochs={self.epochs}')\n",
    "        \n",
    "        return self\n",
    "\n",
    "    def predict(self, X):\n",
    "        self.model.eval()\n",
    "        with torch.no_grad():\n",
    "            outputs = self.model(torch.tensor(X.values, dtype=torch.float32))\n",
    "        return outputs.numpy()\n",
    "\n",
    "parameters = {\n",
    "    'hidden_size': [32, 64, 128],\n",
    "    'lr': [0.001, 0.01, 0.1],\n",
    "    'epochs': [100]\n",
    "}\n",
    "\n",
    "regressor = PyTorchRegressor()\n",
    "\n",
    "grid_search = GridSearchCV(regressor, parameters, cv=3, scoring='neg_mean_squared_error', verbose=2)\n",
    "\n",
    "X = df_nn.drop('price', axis=1)\n",
    "y = df_nn['price']\n",
    "\n",
    "X_train, X_test, y_train, y_test = train_test_split(X, y, test_size=0.2, random_state=42)\n",
    "\n",
    "grid_search.fit(X_train, y_train)\n",
    "\n",
    "best_params = grid_search.best_params_\n",
    "print(\"Лучшие параметры:\", best_params)\n",
    "\n",
    "best_model = grid_search.best_estimator_\n",
    "\n",
    "y_pred = best_model.predict(X_test)\n",
    "\n",
    "# Оцениваем качество модели\n",
    "mse = mean_squared_error(y_test, y_pred)\n",
    "print(\"Mean Squared Error на тестовом наборе:\", mse)\n"
   ]
  },
  {
   "cell_type": "code",
   "execution_count": 28,
   "metadata": {},
   "outputs": [
    {
     "data": {
      "text/html": [
       "<div>\n",
       "<style scoped>\n",
       "    .dataframe tbody tr th:only-of-type {\n",
       "        vertical-align: middle;\n",
       "    }\n",
       "\n",
       "    .dataframe tbody tr th {\n",
       "        vertical-align: top;\n",
       "    }\n",
       "\n",
       "    .dataframe thead th {\n",
       "        text-align: right;\n",
       "    }\n",
       "</style>\n",
       "<table border=\"1\" class=\"dataframe\">\n",
       "  <thead>\n",
       "    <tr style=\"text-align: right;\">\n",
       "      <th></th>\n",
       "      <th>price</th>\n",
       "      <th>geo_lat</th>\n",
       "      <th>geo_lon</th>\n",
       "      <th>building_type</th>\n",
       "      <th>level</th>\n",
       "      <th>levels</th>\n",
       "      <th>rooms</th>\n",
       "      <th>area</th>\n",
       "      <th>kitchen_area</th>\n",
       "      <th>object_type</th>\n",
       "      <th>level_to_levels</th>\n",
       "      <th>year</th>\n",
       "      <th>month</th>\n",
       "      <th>area_to_rooms</th>\n",
       "    </tr>\n",
       "  </thead>\n",
       "  <tbody>\n",
       "    <tr>\n",
       "      <th>0</th>\n",
       "      <td>4704280</td>\n",
       "      <td>55.621</td>\n",
       "      <td>37.431</td>\n",
       "      <td>2</td>\n",
       "      <td>1</td>\n",
       "      <td>25</td>\n",
       "      <td>1</td>\n",
       "      <td>31.700</td>\n",
       "      <td>6.000</td>\n",
       "      <td>2</td>\n",
       "      <td>0.040</td>\n",
       "      <td>2018</td>\n",
       "      <td>3</td>\n",
       "      <td>31.700</td>\n",
       "    </tr>\n",
       "    <tr>\n",
       "      <th>1</th>\n",
       "      <td>8000000</td>\n",
       "      <td>55.739</td>\n",
       "      <td>37.825</td>\n",
       "      <td>1</td>\n",
       "      <td>5</td>\n",
       "      <td>9</td>\n",
       "      <td>2</td>\n",
       "      <td>45.000</td>\n",
       "      <td>6.000</td>\n",
       "      <td>1</td>\n",
       "      <td>0.556</td>\n",
       "      <td>2018</td>\n",
       "      <td>3</td>\n",
       "      <td>22.500</td>\n",
       "    </tr>\n",
       "    <tr>\n",
       "      <th>2</th>\n",
       "      <td>11500000</td>\n",
       "      <td>55.799</td>\n",
       "      <td>37.738</td>\n",
       "      <td>1</td>\n",
       "      <td>14</td>\n",
       "      <td>16</td>\n",
       "      <td>3</td>\n",
       "      <td>64.900</td>\n",
       "      <td>8.000</td>\n",
       "      <td>1</td>\n",
       "      <td>0.875</td>\n",
       "      <td>2018</td>\n",
       "      <td>4</td>\n",
       "      <td>21.633</td>\n",
       "    </tr>\n",
       "  </tbody>\n",
       "</table>\n",
       "</div>"
      ],
      "text/plain": [
       "      price  geo_lat  geo_lon  building_type  level  levels  rooms   area  \\\n",
       "0   4704280   55.621   37.431              2      1      25      1 31.700   \n",
       "1   8000000   55.739   37.825              1      5       9      2 45.000   \n",
       "2  11500000   55.799   37.738              1     14      16      3 64.900   \n",
       "\n",
       "   kitchen_area  object_type  level_to_levels  year  month  area_to_rooms  \n",
       "0         6.000            2            0.040  2018      3         31.700  \n",
       "1         6.000            1            0.556  2018      3         22.500  \n",
       "2         8.000            1            0.875  2018      4         21.633  "
      ]
     },
     "execution_count": 28,
     "metadata": {},
     "output_type": "execute_result"
    }
   ],
   "source": [
    "df_nn.head(3)\n",
    "#0\t4704280\t55.621\t37.431\t2\t1\t25\t1\t31.700\t6.000\t2\t0.040\t2018\t3\t31.700\n",
    "#1\t8000000\t55.739\t37.825\t1\t5\t9\t2\t45.000\t6.000\t1\t0.556\t2018\t3\t22.500\n",
    "#2\t11500000\t55.799\t37.738\t1\t14\t16\t3\t64.900\t8.000\t1\t0.875\t2018\t4\t21.633\n",
    "#[[ 6834358.]\n",
    "# [ 8301098.]\n",
    "# [12148530.]]\n",
    "\"\"\"\n",
    "[[ 6815319.5]\n",
    " [ 8114774. ]\n",
    " [12116545. ]]\n",
    "\n",
    "\"\"\"\n",
    "\"\"\"\n",
    "[[ 6579745.5]\n",
    " [ 8082780.5]\n",
    " [12012402. ]]\n",
    " \"\"\""
   ]
  },
  {
   "cell_type": "code",
   "execution_count": 32,
   "metadata": {},
   "outputs": [
    {
     "name": "stdout",
     "output_type": "stream",
     "text": [
      "[[ 6579745.5]\n",
      " [ 8082780.5]\n",
      " [12012402. ]]\n"
     ]
    }
   ],
   "source": [
    "X_test = torch.tensor(df_nn.head(3).drop('price', axis=1).values, dtype=torch.float32).to(device)\n",
    "\n",
    "model.eval()  \n",
    "with torch.no_grad():\n",
    "    predictions = model(X_test)\n",
    "\n",
    "predictions = predictions.cpu().numpy()\n",
    "\n",
    "print(predictions)\n"
   ]
  },
  {
   "cell_type": "code",
   "execution_count": 48,
   "metadata": {},
   "outputs": [
    {
     "name": "stdout",
     "output_type": "stream",
     "text": [
      "Средняя относительная ошибка (MAPE): 27.07833205046657\n"
     ]
    }
   ],
   "source": [
    "model = Net().to(device)\n",
    "filepath = 'checkpoint.pth'\n",
    "\n",
    "checkpoint = torch.load(filepath)\n",
    "model.load_state_dict(checkpoint['model_state_dict'])\n",
    "\n",
    "model.eval()\n",
    "\n",
    "X_test = torch.tensor(df_nn.drop('price', axis=1).values, dtype=torch.float32).to(device)\n",
    "model.eval() \n",
    "with torch.no_grad():\n",
    "    predictions = model(X_test)\n",
    "\n",
    "\n",
    "y_true = df_nn['price'].values\n",
    "\n",
    "y_pred = predictions.cpu().numpy().flatten()\n",
    "\n",
    "absolute_errors = np.abs(y_true - y_pred)\n",
    "\n",
    "relative_errors = (absolute_errors / y_true) * 100\n",
    "\n",
    "mape = np.mean(relative_errors)\n",
    "\n",
    "print(\"Средняя относительная ошибка (MAPE):\", mape)\n"
   ]
  },
  {
   "cell_type": "code",
   "execution_count": 49,
   "metadata": {},
   "outputs": [
    {
     "data": {
      "text/plain": [
       "Net(\n",
       "  (fc1): Linear(in_features=13, out_features=64, bias=True)\n",
       "  (fc2): Linear(in_features=64, out_features=64, bias=True)\n",
       "  (fc3): Linear(in_features=64, out_features=1, bias=True)\n",
       ")"
      ]
     },
     "execution_count": 49,
     "metadata": {},
     "output_type": "execute_result"
    }
   ],
   "source": [
    "model"
   ]
  },
  {
   "cell_type": "code",
   "execution_count": null,
   "metadata": {},
   "outputs": [],
   "source": []
  }
 ],
 "metadata": {
  "kernelspec": {
   "display_name": "Python 3",
   "language": "python",
   "name": "python3"
  },
  "language_info": {
   "codemirror_mode": {
    "name": "ipython",
    "version": 3
   },
   "file_extension": ".py",
   "mimetype": "text/x-python",
   "name": "python",
   "nbconvert_exporter": "python",
   "pygments_lexer": "ipython3",
   "version": "3.9.13"
  }
 },
 "nbformat": 4,
 "nbformat_minor": 2
}
